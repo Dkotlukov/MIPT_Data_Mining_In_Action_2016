{
 "cells": [
  {
   "cell_type": "code",
   "execution_count": 1,
   "metadata": {
    "collapsed": false
   },
   "outputs": [
    {
     "name": "stdout",
     "output_type": "stream",
     "text": [
      "1\n",
      "2\n",
      "Fizz\n",
      "4\n",
      "Buzz\n",
      "Fizz\n",
      "7\n",
      "8\n",
      "Fizz\n",
      "Buzz\n",
      "11\n",
      "Fizz\n",
      "13\n",
      "14\n",
      "FizzBuzz\n",
      "16\n",
      "17\n",
      "Fizz\n",
      "19\n",
      "Buzz\n",
      "Fizz\n",
      "22\n",
      "23\n",
      "Fizz\n",
      "Buzz\n",
      "26\n",
      "Fizz\n",
      "28\n",
      "29\n",
      "FizzBuzz\n",
      "31\n",
      "32\n",
      "Fizz\n",
      "34\n",
      "Buzz\n",
      "Fizz\n",
      "37\n",
      "38\n",
      "Fizz\n",
      "Buzz\n",
      "41\n",
      "Fizz\n",
      "43\n",
      "44\n",
      "FizzBuzz\n",
      "46\n",
      "47\n",
      "Fizz\n",
      "49\n",
      "Buzz\n",
      "Fizz\n",
      "52\n",
      "53\n",
      "Fizz\n",
      "Buzz\n",
      "56\n",
      "Fizz\n",
      "58\n",
      "59\n",
      "FizzBuzz\n",
      "61\n",
      "62\n",
      "Fizz\n",
      "64\n",
      "Buzz\n",
      "Fizz\n",
      "67\n",
      "68\n",
      "Fizz\n",
      "Buzz\n",
      "71\n",
      "Fizz\n",
      "73\n",
      "74\n",
      "FizzBuzz\n",
      "76\n",
      "77\n",
      "Fizz\n",
      "79\n",
      "Buzz\n",
      "Fizz\n",
      "82\n",
      "83\n",
      "Fizz\n",
      "Buzz\n",
      "86\n",
      "Fizz\n",
      "88\n",
      "89\n",
      "FizzBuzz\n",
      "91\n",
      "92\n",
      "Fizz\n",
      "94\n",
      "Buzz\n",
      "Fizz\n",
      "97\n",
      "98\n",
      "Fizz\n",
      "Buzz\n"
     ]
    }
   ],
   "source": [
    "#FizzBuzz\n",
    "for i in range(1, 101):\n",
    "    if i % 3 == 0 and i % 5 != 0:\n",
    "        print('Fizz')\n",
    "    elif i % 5 == 0 and i % 3 != 0:\n",
    "        print('Buzz')\n",
    "    elif i % 5 == 0 and i % 3 == 0:\n",
    "        print('FizzBuzz')\n",
    "    else:\n",
    "        print(i)\n",
    "              "
   ]
  },
  {
   "cell_type": "code",
   "execution_count": 2,
   "metadata": {
    "collapsed": false,
    "scrolled": true
   },
   "outputs": [
    {
     "data": {
      "text/plain": [
       "354224848179261915075"
      ]
     },
     "execution_count": 2,
     "metadata": {},
     "output_type": "execute_result"
    }
   ],
   "source": [
    "#Фибоначчи\n",
    "def fib(n):\n",
    "    a, b = 1, 1\n",
    "    for i in range(2, n):\n",
    "        a, b = b, a + b\n",
    "    return b\n",
    "fib(100)"
   ]
  },
  {
   "cell_type": "code",
   "execution_count": 3,
   "metadata": {
    "collapsed": false
   },
   "outputs": [
    {
     "name": "stdout",
     "output_type": "stream",
     "text": [
      "1 1 2 5 6 7 52 90\n"
     ]
    }
   ],
   "source": [
    "def qsort(array):\n",
    "    less = []\n",
    "    equal = []\n",
    "    greater = []\n",
    "\n",
    "    if len(array) > 1:\n",
    "        pivot = array[0]\n",
    "        for x in array:\n",
    "            if x < pivot:\n",
    "                less.append(x)\n",
    "            if x == pivot:\n",
    "                equal.append(x)\n",
    "            if x > pivot:\n",
    "                greater.append(x)\n",
    "        return qsort(less)+equal+qsort(greater)\n",
    "    else: \n",
    "        return array\n",
    "\n",
    "array = [1, 5, 6, 90, 2, 52, 1, 7]\n",
    "print(*qsort(array))"
   ]
  },
  {
   "cell_type": "code",
   "execution_count": 4,
   "metadata": {
    "collapsed": false
   },
   "outputs": [
    {
     "name": "stdout",
     "output_type": "stream",
     "text": [
      "1 1 2 5 6 7 52 90\n"
     ]
    }
   ],
   "source": [
    "def qsort(array):\n",
    "    return qsort([x for x in array if x < array[0]]) + [x for x in array if x == array[0]] + qsort([x for x in array if x > array[0]]) if len(array) > 1 else array\n",
    "\n",
    "array = [1, 5, 6, 90, 2, 52, 1, 7]\n",
    "print(*qsort(array))"
   ]
  },
  {
   "cell_type": "code",
   "execution_count": 5,
   "metadata": {
    "collapsed": false
   },
   "outputs": [
    {
     "name": "stdout",
     "output_type": "stream",
     "text": [
      "1 2.125 3.25 4.375 5.5 6.625 7.75 8.875 10.0\n"
     ]
    }
   ],
   "source": [
    "def linspace1(start, stop, num):\n",
    "    step = (stop - start) / (num - 1)\n",
    "    array = []\n",
    "    x = start\n",
    "    for i in range(num):\n",
    "        array.append(x)\n",
    "        x += step\n",
    "    return(array)\n",
    "\n",
    "print(*linspace1(1,10,9))"
   ]
  },
  {
   "cell_type": "code",
   "execution_count": 6,
   "metadata": {
    "collapsed": false
   },
   "outputs": [
    {
     "name": "stdout",
     "output_type": "stream",
     "text": [
      "1.0 2.125 3.25 4.375 5.5 6.625 7.75 8.875 10.0\n"
     ]
    }
   ],
   "source": [
    "def linspace2(start, stop, num):\n",
    "    step = (stop - start) / (num - 1)\n",
    "    return [start + i*step for i in range(num)]\n",
    "\n",
    "\n",
    "print(*linspace2(1,10,9))"
   ]
  },
  {
   "cell_type": "code",
   "execution_count": 7,
   "metadata": {
    "collapsed": false
   },
   "outputs": [
    {
     "name": "stdout",
     "output_type": "stream",
     "text": [
      "for 1.7339506076433433\n",
      "list comprehension 1.7146006198029033\n",
      "numpy 0.061934775672847664\n",
      "\n",
      "йеееее numpy!\n"
     ]
    }
   ],
   "source": [
    "import numpy as np\n",
    "import time\n",
    "\n",
    "t = time.clock()\n",
    "linspace1(0,10000,10000000)\n",
    "print('for', time.clock() - t)\n",
    "\n",
    "t = time.clock()\n",
    "linspace1(0,10000,10000000)\n",
    "print('list comprehension', time.clock() - t)\n",
    "\n",
    "t = time.clock()\n",
    "np.linspace(0,10000,10000000)\n",
    "print('numpy', time.clock() - t)\n",
    "\n",
    "print('\\nйеееее numpy!')"
   ]
  },
  {
   "cell_type": "code",
   "execution_count": 17,
   "metadata": {
    "collapsed": false
   },
   "outputs": [
    {
     "name": "stdout",
     "output_type": "stream",
     "text": [
      "составить массив из первых 1000 чисел\n",
      "list_time =  0.00015082316878078927\n",
      "numpy_time = 9.147559052280485e-05\n",
      "list_time/numpy_time =  1.6487804879837216\n",
      "итерация по элементам массива\n",
      "list_time =  0.00019633785279893345\n",
      "numpy_time = 0.0001374364969706221\n",
      "list_time/numpy_time =  1.4285714284532578\n",
      "Срез\n",
      "list_time =  0.0017398211094246108\n",
      "numpy_time = 0.0015916752750513297\n",
      "list_time/numpy_time =  1.093075413493813\n",
      "Копия\n",
      "list_time =  0.0012811044896920976\n",
      "numpy_time = 0.0026661787968009776\n",
      "list_time/numpy_time =  0.4805020920687069\n",
      "Конкатенация\n",
      "list_time =  0.002111078140274003\n",
      "numpy_time = 0.14194914403390158\n",
      "list_time/numpy_time =  0.01487207376023216\n",
      "Максимум\n",
      "list_time =  0.08274881918396204\n",
      "numpy_time = 0.028074974286425913\n",
      "list_time/numpy_time =  2.9474227951108265\n"
     ]
    }
   ],
   "source": [
    "print('составить массив из первых 1000 чисел')\n",
    "t = time.clock()\n",
    "array = [i for i in range(1000)]\n",
    "list_time = time.clock() - t\n",
    "print('list_time = ', list_time)\n",
    "t = time.clock()\n",
    "lst = np.arange(1000)\n",
    "numpy_time = time.clock() - t\n",
    "print('numpy_time =', numpy_time)\n",
    "print('list_time/numpy_time = ', list_time/numpy_time)\n",
    "\n",
    "print('итерация по элементам массива')\n",
    "t = time.clock()\n",
    "for i in lst:\n",
    "    a = i\n",
    "list_time = time.clock() - t\n",
    "print('list_time = ', list_time)\n",
    "t = time.clock()\n",
    "for i in array:\n",
    "    a = i\n",
    "numpy_time = time.clock() - t\n",
    "print('numpy_time =', numpy_time)\n",
    "print('list_time/numpy_time = ', list_time/numpy_time)\n",
    "\n",
    "print('Копия')\n",
    "t = time.clock()\n",
    "for i in lst:\n",
    "    lst2 = lst.copy()\n",
    "list_time = time.clock() - t\n",
    "print('list_time = ', list_time)\n",
    "t = time.clock()\n",
    "for i in array:\n",
    "    array2 = array.copy()\n",
    "numpy_time = time.clock() - t\n",
    "print('numpy_time =', numpy_time)\n",
    "print('list_time/numpy_time = ', list_time/numpy_time)\n",
    "\n",
    "print('Срез')\n",
    "t = time.clock()\n",
    "for i in lst:\n",
    "    lst2 = lst[::2].copy()\n",
    "list_time = time.clock() - t\n",
    "print('list_time = ', list_time)\n",
    "t = time.clock()\n",
    "for i in array:\n",
    "    array2 = array[::2]\n",
    "numpy_time = time.clock() - t\n",
    "print('numpy_time =', numpy_time)\n",
    "print('list_time/numpy_time = ', list_time/numpy_time)\n",
    "\n",
    "print('Конкатенация')\n",
    "t = time.clock()\n",
    "for i in lst:\n",
    "    a = lst + lst2\n",
    "list_time = time.clock() - t\n",
    "print('list_time = ', list_time)\n",
    "t = time.clock()\n",
    "for i in array:\n",
    "    b = np.concatenate((array,array2))\n",
    "numpy_time = time.clock() - t\n",
    "print('numpy_time =', numpy_time)\n",
    "print('list_time/numpy_time = ', list_time/numpy_time)\n",
    "\n",
    "print('Максимум')\n",
    "t = time.clock()\n",
    "for i in lst:\n",
    "    a = max(lst)\n",
    "list_time = time.clock() - t\n",
    "print('list_time = ', list_time)\n",
    "t = time.clock()\n",
    "for i in array:\n",
    "    b = max(array)\n",
    "numpy_time = time.clock() - t\n",
    "print('numpy_time =', numpy_time)\n",
    "print('list_time/numpy_time = ', list_time/numpy_time)"
   ]
  },
  {
   "cell_type": "code",
   "execution_count": 9,
   "metadata": {
    "collapsed": false,
    "scrolled": true
   },
   "outputs": [
    {
     "data": {
      "image/png": "[encoded data removed]",
      "text/plain": [
       "<matplotlib.figure.Figure at 0x419acf0>"
      ]
     },
     "metadata": {},
     "output_type": "display_data"
    }
   ],
   "source": [
    "%matplotlib inline\n",
    "import numpy as np\n",
    "import matplotlib.pyplot as plt\n",
    "x = np.arange(-10,10.01,0.01)\n",
    "\n",
    "plt.xkcd()\n",
    "\n",
    "fig = plt.figure()\n",
    "fig.subplots_adjust(bottom=0.1, right=1.4, top=0.9, wspace = 0.4)\n",
    "plot1 = fig.add_subplot(121)\n",
    "plot1.plot(x, x**2, label = r'$x^2$')\n",
    "plot1.plot(x, 10*np.sin(x), label = r'$sinx$')\n",
    "plot1.plot(x, 8*np.abs(x), label = r'$|x|$')\n",
    "plot1.set_xlabel('x')\n",
    "plot1.set_ylabel('f(x)')\n",
    "plot1.legend()\n",
    "\n",
    "plot2 = fig.add_subplot(122)\n",
    "plot2.plot(x, x**3, label = r'$x^3$')\n",
    "plot2.plot(x, 2**x, label = r'$2^x$')\n",
    "plot2.set_xlabel('x')\n",
    "plot2.set_ylabel('f(x)')\n",
    "plot2.legend()\n",
    "fig.set_canvas(plt.gcf().canvas)\n",
    "\n",
    "fig.savefig('plot.png',bbox_inches = 'tight')\n"
   ]
  },
  {
   "cell_type": "code",
   "execution_count": 10,
   "metadata": {
    "collapsed": false
   },
   "outputs": [],
   "source": [
    "fig.savefig('plot2.pdf',bbox_inches = 'tight')"
   ]
  },
  {
   "cell_type": "code",
   "execution_count": 11,
   "metadata": {
    "collapsed": false,
    "scrolled": true
   },
   "outputs": [
    {
     "name": "stdout",
     "output_type": "stream",
     "text": [
      "Собственные значения\n",
      "(-2.36762821786+1.18510100135j) (-2.36762821786-1.18510100135j) (0.432909848786+1.37344896439j) (0.432909848786-1.37344896439j) (1.2594774577+0j)\n",
      "Собственные векторы\n",
      "[ 0.35537229+0.08885373j -0.03483063+0.38108655j  0.31537217+0.40053854j\n",
      " -0.11607750+0.01337825j  0.66770632+0.j        ]\n",
      "[ 0.35537229-0.08885373j -0.03483063-0.38108655j  0.31537217-0.40053854j\n",
      " -0.11607750-0.01337825j  0.66770632-0.j        ]\n",
      "[-0.35297647-0.45439445j  0.10376780-0.21640337j  0.10176985+0.39278661j\n",
      "  0.62978210+0.j          0.22161246+0.03096956j]\n",
      "[-0.35297647+0.45439445j  0.10376780+0.21640337j  0.10176985-0.39278661j\n",
      "  0.62978210-0.j          0.22161246-0.03096956j]\n",
      "[-0.72435530+0.j  0.33256725+0.j -0.10376849+0.j -0.58368626+0.j\n",
      "  0.11511245+0.j]\n"
     ]
    }
   ],
   "source": [
    "import numpy as np\n",
    "from scipy import linalg\n",
    "A = np.random.normal(0, 1, [5,5])\n",
    "eigen_vals, eigen_vect = linalg.eig(A)\n",
    "eigen_vect.transpose()\n",
    "print('Собственные значения')\n",
    "print(*eigen_vals)\n",
    "print('Собственные векторы')\n",
    "for vect in eigen_vect.transpose():\n",
    "    print(vect)"
   ]
  },
  {
   "cell_type": "code",
   "execution_count": 12,
   "metadata": {
    "collapsed": false
   },
   "outputs": [
    {
     "name": "stdout",
     "output_type": "stream",
     "text": [
      "Воистину собственные!\n"
     ]
    }
   ],
   "source": [
    "flag = True\n",
    "for val, vect in zip(eigen_vals, eigen_vect.transpose()):\n",
    "    if np.abs(linalg.norm(A.dot(vect) - vect*val)) > 0.00000001:\n",
    "        flag = False\n",
    "if flag:\n",
    "    print('Воистину собственные!')\n",
    "else:\n",
    "    print('Что-то не так')"
   ]
  },
  {
   "cell_type": "code",
   "execution_count": null,
   "metadata": {
    "collapsed": false
   },
   "outputs": [],
   "source": []
  },
  {
   "cell_type": "code",
   "execution_count": null,
   "metadata": {
    "collapsed": true
   },
   "outputs": [],
   "source": []
  }
 ],
 "metadata": {
  "anaconda-cloud": {},
  "kernelspec": {
   "display_name": "Python [conda root]",
   "language": "python",
   "name": "conda-root-py"
  },
  "language_info": {
   "codemirror_mode": {
    "name": "ipython",
    "version": 3
   },
   "file_extension": ".py",
   "mimetype": "text/x-python",
   "name": "python",
   "nbconvert_exporter": "python",
   "pygments_lexer": "ipython3",
   "version": "3.5.2"
  }
 },
 "nbformat": 4,
 "nbformat_minor": 0
}

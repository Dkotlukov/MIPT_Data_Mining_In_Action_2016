{
 "cells": [
  {
   "cell_type": "code",
   "execution_count": 1,
   "metadata": {
    "collapsed": false
   },
   "outputs": [
    {
     "name": "stderr",
     "output_type": "stream",
     "text": [
      "/home/dima/anaconda2/lib/python2.7/site-packages/sklearn/cross_validation.py:44: DeprecationWarning: This module was deprecated in version 0.18 in favor of the model_selection module into which all the refactored classes and functions are moved. Also note that the interface of the new CV iterators are different from that of this module. This module will be removed in 0.20.\n",
      "  \"This module will be removed in 0.20.\", DeprecationWarning)\n"
     ]
    }
   ],
   "source": [
    "import numpy as np\n",
    "import pandas as pd\n",
    "from sklearn.linear_model import LinearRegression\n",
    "from sklearn.cross_validation import cross_val_score\n",
    "from sklearn.feature_extraction.text import HashingVectorizer\n",
    "from sklearn.cluster import AgglomerativeClustering\n",
    "from sklearn import manifold, decomposition, linear_model, ensemble, neighbors, cross_validation\n",
    "%matplotlib inline\n",
    "import seaborn as sns\n",
    "import sklearn\n",
    "import matplotlib.pyplot as plt\n",
    "import tqdm\n",
    "import xgboost as xgb\n",
    "import scipy.sparse as scp\n",
    "\n",
    "from heamy.dataset import Dataset\n",
    "from heamy.estimator import Regressor, Classifier\n",
    "from heamy.pipeline import ModelsPipeline"
   ]
  },
  {
   "cell_type": "code",
   "execution_count": 2,
   "metadata": {
    "collapsed": true
   },
   "outputs": [],
   "source": [
    "def rmse(x,y):\n",
    "    return np.mean((x - y) ** 2) ** 0.5"
   ]
  },
  {
   "cell_type": "markdown",
   "metadata": {},
   "source": [
    "## Подготовка данных (urls)"
   ]
  },
  {
   "cell_type": "code",
   "execution_count": 3,
   "metadata": {
    "collapsed": false
   },
   "outputs": [],
   "source": [
    "urls_train_df = pd.read_csv('data/url_domain_train', header=None, delimiter='\\t')\n",
    "urls_train_df.columns = ['id', 'url', 'count']\n",
    "urls_train_df = urls_train_df[['id', 'url']]"
   ]
  },
  {
   "cell_type": "code",
   "execution_count": 4,
   "metadata": {
    "collapsed": false
   },
   "outputs": [
    {
     "data": {
      "text/html": [
       "<div>\n",
       "<table border=\"1\" class=\"dataframe\">\n",
       "  <thead>\n",
       "    <tr style=\"text-align: right;\">\n",
       "      <th></th>\n",
       "      <th>id</th>\n",
       "      <th>url</th>\n",
       "    </tr>\n",
       "  </thead>\n",
       "  <tbody>\n",
       "    <tr>\n",
       "      <th>0</th>\n",
       "      <td>000000014B60815F65B38258011B6C01</td>\n",
       "      <td>login.rutracker.org</td>\n",
       "    </tr>\n",
       "    <tr>\n",
       "      <th>1</th>\n",
       "      <td>000000014B60815F65B38258011B6C01</td>\n",
       "      <td>rutracker.org</td>\n",
       "    </tr>\n",
       "    <tr>\n",
       "      <th>2</th>\n",
       "      <td>000000014C03DA2A47AC433A0C755201</td>\n",
       "      <td>admin.tour-spb.net</td>\n",
       "    </tr>\n",
       "    <tr>\n",
       "      <th>3</th>\n",
       "      <td>000000014C03DA2A47AC433A0C755201</td>\n",
       "      <td>czinfo.ru</td>\n",
       "    </tr>\n",
       "    <tr>\n",
       "      <th>4</th>\n",
       "      <td>000000014C03DA2A47AC433A0C755201</td>\n",
       "      <td>forumsostav.ru</td>\n",
       "    </tr>\n",
       "  </tbody>\n",
       "</table>\n",
       "</div>"
      ],
      "text/plain": [
       "                                 id                  url\n",
       "0  000000014B60815F65B38258011B6C01  login.rutracker.org\n",
       "1  000000014B60815F65B38258011B6C01        rutracker.org\n",
       "2  000000014C03DA2A47AC433A0C755201   admin.tour-spb.net\n",
       "3  000000014C03DA2A47AC433A0C755201            czinfo.ru\n",
       "4  000000014C03DA2A47AC433A0C755201       forumsostav.ru"
      ]
     },
     "execution_count": 4,
     "metadata": {},
     "output_type": "execute_result"
    }
   ],
   "source": [
    "urls_train_df.head()"
   ]
  },
  {
   "cell_type": "code",
   "execution_count": 5,
   "metadata": {
    "collapsed": false
   },
   "outputs": [],
   "source": [
    "urls_train_df = pd.DataFrame(urls_train_df.groupby('id')['url'].apply(lambda x: x.tolist()))\n",
    "urls_train_df['id'] = urls_train_df.index\n",
    "urls_train_df.index = range(len(urls_train_df))\n",
    "urls_train_df.columns = ['urls', 'id']"
   ]
  },
  {
   "cell_type": "code",
   "execution_count": 6,
   "metadata": {
    "collapsed": false
   },
   "outputs": [
    {
     "data": {
      "text/html": [
       "<div>\n",
       "<table border=\"1\" class=\"dataframe\">\n",
       "  <thead>\n",
       "    <tr style=\"text-align: right;\">\n",
       "      <th></th>\n",
       "      <th>urls</th>\n",
       "      <th>id</th>\n",
       "    </tr>\n",
       "  </thead>\n",
       "  <tbody>\n",
       "    <tr>\n",
       "      <th>0</th>\n",
       "      <td>[id.rambler.ru, mail.rambler.ru, r0.ru]</td>\n",
       "      <td>000000013CB5719C0000A2C90002C101</td>\n",
       "    </tr>\n",
       "    <tr>\n",
       "      <th>1</th>\n",
       "      <td>[1prime.ru, autorambler.ru, chellak.ru, docs.c...</td>\n",
       "      <td>00000001442BE24000001B7D00F50801</td>\n",
       "    </tr>\n",
       "    <tr>\n",
       "      <th>2</th>\n",
       "      <td>[bosch-korolev.ru]</td>\n",
       "      <td>00000001448580F800003F1B31FB0901</td>\n",
       "    </tr>\n",
       "    <tr>\n",
       "      <th>3</th>\n",
       "      <td>[aptekanizkihcen.ua, colady.ru, gorod.dp.ua, i...</td>\n",
       "      <td>0000000145BDB2FF000157971645E901</td>\n",
       "    </tr>\n",
       "    <tr>\n",
       "      <th>4</th>\n",
       "      <td>[astrorok.ru, diets.ru, edaplus.info, eshzdoro...</td>\n",
       "      <td>000000014602771F0000DB9359714C01</td>\n",
       "    </tr>\n",
       "  </tbody>\n",
       "</table>\n",
       "</div>"
      ],
      "text/plain": [
       "                                                urls  \\\n",
       "0            [id.rambler.ru, mail.rambler.ru, r0.ru]   \n",
       "1  [1prime.ru, autorambler.ru, chellak.ru, docs.c...   \n",
       "2                                 [bosch-korolev.ru]   \n",
       "3  [aptekanizkihcen.ua, colady.ru, gorod.dp.ua, i...   \n",
       "4  [astrorok.ru, diets.ru, edaplus.info, eshzdoro...   \n",
       "\n",
       "                                 id  \n",
       "0  000000013CB5719C0000A2C90002C101  \n",
       "1  00000001442BE24000001B7D00F50801  \n",
       "2  00000001448580F800003F1B31FB0901  \n",
       "3  0000000145BDB2FF000157971645E901  \n",
       "4  000000014602771F0000DB9359714C01  "
      ]
     },
     "execution_count": 6,
     "metadata": {},
     "output_type": "execute_result"
    }
   ],
   "source": [
    "urls_train_df.head()"
   ]
  },
  {
   "cell_type": "code",
   "execution_count": 7,
   "metadata": {
    "collapsed": false
   },
   "outputs": [],
   "source": [
    "age_train_df = pd.read_csv('data/age_profile_train', header=None, delimiter='\\t')\n",
    "age_train_df.columns = ['id', 'age']"
   ]
  },
  {
   "cell_type": "code",
   "execution_count": 8,
   "metadata": {
    "collapsed": false
   },
   "outputs": [
    {
     "data": {
      "text/html": [
       "<div>\n",
       "<table border=\"1\" class=\"dataframe\">\n",
       "  <thead>\n",
       "    <tr style=\"text-align: right;\">\n",
       "      <th></th>\n",
       "      <th>id</th>\n",
       "      <th>age</th>\n",
       "    </tr>\n",
       "  </thead>\n",
       "  <tbody>\n",
       "    <tr>\n",
       "      <th>0</th>\n",
       "      <td>000000013CB5719C0000A2C90002C101</td>\n",
       "      <td>53</td>\n",
       "    </tr>\n",
       "    <tr>\n",
       "      <th>1</th>\n",
       "      <td>00000001442BE24000001B7D00F50801</td>\n",
       "      <td>48</td>\n",
       "    </tr>\n",
       "    <tr>\n",
       "      <th>2</th>\n",
       "      <td>00000001448580F800003F1B31FB0901</td>\n",
       "      <td>28</td>\n",
       "    </tr>\n",
       "    <tr>\n",
       "      <th>3</th>\n",
       "      <td>0000000145BDB2FF000157971645E901</td>\n",
       "      <td>44</td>\n",
       "    </tr>\n",
       "    <tr>\n",
       "      <th>4</th>\n",
       "      <td>000000014602771F0000DB9359714C01</td>\n",
       "      <td>48</td>\n",
       "    </tr>\n",
       "  </tbody>\n",
       "</table>\n",
       "</div>"
      ],
      "text/plain": [
       "                                 id  age\n",
       "0  000000013CB5719C0000A2C90002C101   53\n",
       "1  00000001442BE24000001B7D00F50801   48\n",
       "2  00000001448580F800003F1B31FB0901   28\n",
       "3  0000000145BDB2FF000157971645E901   44\n",
       "4  000000014602771F0000DB9359714C01   48"
      ]
     },
     "execution_count": 8,
     "metadata": {},
     "output_type": "execute_result"
    }
   ],
   "source": [
    "age_train_df.head()"
   ]
  },
  {
   "cell_type": "code",
   "execution_count": 9,
   "metadata": {
    "collapsed": false,
    "scrolled": false
   },
   "outputs": [],
   "source": [
    "train_df = urls_train_df.merge(age_train_df, on='id', how='left')"
   ]
  },
  {
   "cell_type": "code",
   "execution_count": 10,
   "metadata": {
    "collapsed": false
   },
   "outputs": [
    {
     "data": {
      "text/html": [
       "<div>\n",
       "<table border=\"1\" class=\"dataframe\">\n",
       "  <thead>\n",
       "    <tr style=\"text-align: right;\">\n",
       "      <th></th>\n",
       "      <th>urls</th>\n",
       "      <th>id</th>\n",
       "      <th>age</th>\n",
       "    </tr>\n",
       "  </thead>\n",
       "  <tbody>\n",
       "    <tr>\n",
       "      <th>118598</th>\n",
       "      <td>[dme.ru]</td>\n",
       "      <td>E9B7BDD54E733BDF364DD7B4EF74CFEB</td>\n",
       "      <td>27</td>\n",
       "    </tr>\n",
       "    <tr>\n",
       "      <th>118599</th>\n",
       "      <td>[aif.ru, autochel.ru, chelyabinsk.ru, id.rambl...</td>\n",
       "      <td>E9B9D7D347EB1ACE5AAEEBFCE3FBCE7B</td>\n",
       "      <td>58</td>\n",
       "    </tr>\n",
       "    <tr>\n",
       "      <th>118600</th>\n",
       "      <td>[blog.partisani.ge, li.ru, tvrain.ru]</td>\n",
       "      <td>EBFAC66B4EE3FB96BA5DD7DDE3787FE7</td>\n",
       "      <td>56</td>\n",
       "    </tr>\n",
       "    <tr>\n",
       "      <th>118601</th>\n",
       "      <td>[doctorkirov.ru, drive.ru, extrim-park43.ru, m...</td>\n",
       "      <td>F537AD6B46D31ABFF597EFDFE1BDDE71</td>\n",
       "      <td>31</td>\n",
       "    </tr>\n",
       "    <tr>\n",
       "      <th>118602</th>\n",
       "      <td>[samara.drom.ru]</td>\n",
       "      <td>F55C7EDB467B9FAE1F97E7DDE1747F6B</td>\n",
       "      <td>35</td>\n",
       "    </tr>\n",
       "  </tbody>\n",
       "</table>\n",
       "</div>"
      ],
      "text/plain": [
       "                                                     urls  \\\n",
       "118598                                           [dme.ru]   \n",
       "118599  [aif.ru, autochel.ru, chelyabinsk.ru, id.rambl...   \n",
       "118600              [blog.partisani.ge, li.ru, tvrain.ru]   \n",
       "118601  [doctorkirov.ru, drive.ru, extrim-park43.ru, m...   \n",
       "118602                                   [samara.drom.ru]   \n",
       "\n",
       "                                      id  age  \n",
       "118598  E9B7BDD54E733BDF364DD7B4EF74CFEB   27  \n",
       "118599  E9B9D7D347EB1ACE5AAEEBFCE3FBCE7B   58  \n",
       "118600  EBFAC66B4EE3FB96BA5DD7DDE3787FE7   56  \n",
       "118601  F537AD6B46D31ABFF597EFDFE1BDDE71   31  \n",
       "118602  F55C7EDB467B9FAE1F97E7DDE1747F6B   35  "
      ]
     },
     "execution_count": 10,
     "metadata": {},
     "output_type": "execute_result"
    }
   ],
   "source": [
    "train_df.tail()"
   ]
  },
  {
   "cell_type": "code",
   "execution_count": 11,
   "metadata": {
    "collapsed": false
   },
   "outputs": [],
   "source": [
    "title_unify_train = pd.read_csv('data/title_unify_train', header=None, delimiter='\\t')\n",
    "title_unify_train.columns = ['id','words','count']\n",
    "title_unify_train = title_unify_train[['id','words']]"
   ]
  },
  {
   "cell_type": "code",
   "execution_count": 12,
   "metadata": {
    "collapsed": false,
    "scrolled": false
   },
   "outputs": [
    {
     "data": {
      "text/html": [
       "<div>\n",
       "<table border=\"1\" class=\"dataframe\">\n",
       "  <thead>\n",
       "    <tr style=\"text-align: right;\">\n",
       "      <th></th>\n",
       "      <th>id</th>\n",
       "      <th>words</th>\n",
       "    </tr>\n",
       "  </thead>\n",
       "  <tbody>\n",
       "    <tr>\n",
       "      <th>5850384</th>\n",
       "      <td>0625E40E56FB2B910000054E7CE27501</td>\n",
       "      <td>обозрение политический</td>\n",
       "    </tr>\n",
       "    <tr>\n",
       "      <th>5850385</th>\n",
       "      <td>0625E40E56FB2B910000054E7CE27501</td>\n",
       "      <td>обозрение политический страница</td>\n",
       "    </tr>\n",
       "    <tr>\n",
       "      <th>5850386</th>\n",
       "      <td>063915F15703D2CD000005362EDFB501</td>\n",
       "      <td>без вложение день заработок интернет рубль</td>\n",
       "    </tr>\n",
       "    <tr>\n",
       "      <th>5850387</th>\n",
       "      <td>063915F15703D2CD000005362EDFB501</td>\n",
       "      <td>бесплатный надёжный почта рамблер электронный</td>\n",
       "    </tr>\n",
       "    <tr>\n",
       "      <th>5850388</th>\n",
       "      <td>D79FBED94DD35ED75AADEDBC6D1CAFE7</td>\n",
       "      <td>март стих</td>\n",
       "    </tr>\n",
       "  </tbody>\n",
       "</table>\n",
       "</div>"
      ],
      "text/plain": [
       "                                       id  \\\n",
       "5850384  0625E40E56FB2B910000054E7CE27501   \n",
       "5850385  0625E40E56FB2B910000054E7CE27501   \n",
       "5850386  063915F15703D2CD000005362EDFB501   \n",
       "5850387  063915F15703D2CD000005362EDFB501   \n",
       "5850388  D79FBED94DD35ED75AADEDBC6D1CAFE7   \n",
       "\n",
       "                                                 words  \n",
       "5850384                         обозрение политический  \n",
       "5850385                обозрение политический страница  \n",
       "5850386     без вложение день заработок интернет рубль  \n",
       "5850387  бесплатный надёжный почта рамблер электронный  \n",
       "5850388                                      март стих  "
      ]
     },
     "execution_count": 12,
     "metadata": {},
     "output_type": "execute_result"
    }
   ],
   "source": [
    "title_unify_train.tail()"
   ]
  },
  {
   "cell_type": "code",
   "execution_count": 13,
   "metadata": {
    "collapsed": false
   },
   "outputs": [],
   "source": [
    "title_unify_train = pd.DataFrame(title_unify_train.groupby('id')['words'].apply(lambda x: ' '.join(x)))\n",
    "title_unify_train['id'] = title_unify_train.index\n",
    "title_unify_train.index = range(len(title_unify_train))\n",
    "title_unify_train.columns = ['words', 'id']"
   ]
  },
  {
   "cell_type": "code",
   "execution_count": 14,
   "metadata": {
    "collapsed": false,
    "scrolled": true
   },
   "outputs": [
    {
     "data": {
      "text/html": [
       "<div>\n",
       "<table border=\"1\" class=\"dataframe\">\n",
       "  <thead>\n",
       "    <tr style=\"text-align: right;\">\n",
       "      <th></th>\n",
       "      <th>words</th>\n",
       "      <th>id</th>\n",
       "    </tr>\n",
       "  </thead>\n",
       "  <tbody>\n",
       "    <tr>\n",
       "      <th>0</th>\n",
       "      <td>бесплатный надёжный почта рамблер электронный ...</td>\n",
       "      <td>000000013CB5719C0000A2C90002C101</td>\n",
       "    </tr>\n",
       "    <tr>\n",
       "      <th>1</th>\n",
       "      <td>24-х 34-х до договор неделя новость предложить...</td>\n",
       "      <td>00000001442BE24000001B7D00F50801</td>\n",
       "    </tr>\n",
       "    <tr>\n",
       "      <th>2</th>\n",
       "      <td>авто бош контакт королёв сервис авто бош корол...</td>\n",
       "      <td>00000001448580F800003F1B31FB0901</td>\n",
       "    </tr>\n",
       "    <tr>\n",
       "      <th>3</th>\n",
       "      <td>ua втрать війни донбасі за на новини озвучить ...</td>\n",
       "      <td>0000000145BDB2FF000157971645E901</td>\n",
       "    </tr>\n",
       "    <tr>\n",
       "      <th>4</th>\n",
       "      <td>black walnut грецкий орех чёрный inmoment ru w...</td>\n",
       "      <td>000000014602771F0000DB9359714C01</td>\n",
       "    </tr>\n",
       "  </tbody>\n",
       "</table>\n",
       "</div>"
      ],
      "text/plain": [
       "                                               words  \\\n",
       "0  бесплатный надёжный почта рамблер электронный ...   \n",
       "1  24-х 34-х до договор неделя новость предложить...   \n",
       "2  авто бош контакт королёв сервис авто бош корол...   \n",
       "3  ua втрать війни донбасі за на новини озвучить ...   \n",
       "4  black walnut грецкий орех чёрный inmoment ru w...   \n",
       "\n",
       "                                 id  \n",
       "0  000000013CB5719C0000A2C90002C101  \n",
       "1  00000001442BE24000001B7D00F50801  \n",
       "2  00000001448580F800003F1B31FB0901  \n",
       "3  0000000145BDB2FF000157971645E901  \n",
       "4  000000014602771F0000DB9359714C01  "
      ]
     },
     "execution_count": 14,
     "metadata": {},
     "output_type": "execute_result"
    }
   ],
   "source": [
    "title_unify_train.head()"
   ]
  },
  {
   "cell_type": "code",
   "execution_count": 15,
   "metadata": {
    "collapsed": false
   },
   "outputs": [],
   "source": [
    "train_df = train_df.merge(title_unify_train, on='id', how='left')"
   ]
  },
  {
   "cell_type": "code",
   "execution_count": 16,
   "metadata": {
    "collapsed": false,
    "scrolled": true
   },
   "outputs": [
    {
     "data": {
      "text/html": [
       "<div>\n",
       "<table border=\"1\" class=\"dataframe\">\n",
       "  <thead>\n",
       "    <tr style=\"text-align: right;\">\n",
       "      <th></th>\n",
       "      <th>urls</th>\n",
       "      <th>id</th>\n",
       "      <th>age</th>\n",
       "      <th>words</th>\n",
       "    </tr>\n",
       "  </thead>\n",
       "  <tbody>\n",
       "    <tr>\n",
       "      <th>118598</th>\n",
       "      <td>[dme.ru]</td>\n",
       "      <td>E9B7BDD54E733BDF364DD7B4EF74CFEB</td>\n",
       "      <td>27</td>\n",
       "      <td>NaN</td>\n",
       "    </tr>\n",
       "    <tr>\n",
       "      <th>118599</th>\n",
       "      <td>[aif.ru, autochel.ru, chelyabinsk.ru, id.rambl...</td>\n",
       "      <td>E9B9D7D347EB1ACE5AAEEBFCE3FBCE7B</td>\n",
       "      <td>58</td>\n",
       "      <td>4z7616051a 4z7616051d 4z7616052a allroad arnot...</td>\n",
       "    </tr>\n",
       "    <tr>\n",
       "      <th>118600</th>\n",
       "      <td>[blog.partisani.ge, li.ru, tvrain.ru]</td>\n",
       "      <td>EBFAC66B4EE3FB96BA5DD7DDE3787FE7</td>\n",
       "      <td>56</td>\n",
       "      <td>ru онлайн попка порно секс азербайджан военный...</td>\n",
       "    </tr>\n",
       "    <tr>\n",
       "      <th>118601</th>\n",
       "      <td>[doctorkirov.ru, drive.ru, extrim-park43.ru, m...</td>\n",
       "      <td>F537AD6B46D31ABFF597EFDFE1BDDE71</td>\n",
       "      <td>31</td>\n",
       "      <td>5d merced-benz видео драйв комплектация отзыв ...</td>\n",
       "    </tr>\n",
       "    <tr>\n",
       "      <th>118602</th>\n",
       "      <td>[samara.drom.ru]</td>\n",
       "      <td>F55C7EDB467B9FAE1F97E7DDE1747F6B</td>\n",
       "      <td>35</td>\n",
       "      <td>NaN</td>\n",
       "    </tr>\n",
       "  </tbody>\n",
       "</table>\n",
       "</div>"
      ],
      "text/plain": [
       "                                                     urls  \\\n",
       "118598                                           [dme.ru]   \n",
       "118599  [aif.ru, autochel.ru, chelyabinsk.ru, id.rambl...   \n",
       "118600              [blog.partisani.ge, li.ru, tvrain.ru]   \n",
       "118601  [doctorkirov.ru, drive.ru, extrim-park43.ru, m...   \n",
       "118602                                   [samara.drom.ru]   \n",
       "\n",
       "                                      id  age  \\\n",
       "118598  E9B7BDD54E733BDF364DD7B4EF74CFEB   27   \n",
       "118599  E9B9D7D347EB1ACE5AAEEBFCE3FBCE7B   58   \n",
       "118600  EBFAC66B4EE3FB96BA5DD7DDE3787FE7   56   \n",
       "118601  F537AD6B46D31ABFF597EFDFE1BDDE71   31   \n",
       "118602  F55C7EDB467B9FAE1F97E7DDE1747F6B   35   \n",
       "\n",
       "                                                    words  \n",
       "118598                                                NaN  \n",
       "118599  4z7616051a 4z7616051d 4z7616052a allroad arnot...  \n",
       "118600  ru онлайн попка порно секс азербайджан военный...  \n",
       "118601  5d merced-benz видео драйв комплектация отзыв ...  \n",
       "118602                                                NaN  "
      ]
     },
     "execution_count": 16,
     "metadata": {},
     "output_type": "execute_result"
    }
   ],
   "source": [
    "train_df.tail()"
   ]
  },
  {
   "cell_type": "code",
   "execution_count": 17,
   "metadata": {
    "collapsed": false
   },
   "outputs": [],
   "source": [
    "train_df = train_df[['id','urls','words','age']]"
   ]
  },
  {
   "cell_type": "code",
   "execution_count": 18,
   "metadata": {
    "collapsed": false
   },
   "outputs": [
    {
     "data": {
      "text/html": [
       "<div>\n",
       "<table border=\"1\" class=\"dataframe\">\n",
       "  <thead>\n",
       "    <tr style=\"text-align: right;\">\n",
       "      <th></th>\n",
       "      <th>id</th>\n",
       "      <th>urls</th>\n",
       "      <th>words</th>\n",
       "      <th>age</th>\n",
       "    </tr>\n",
       "  </thead>\n",
       "  <tbody>\n",
       "    <tr>\n",
       "      <th>118598</th>\n",
       "      <td>E9B7BDD54E733BDF364DD7B4EF74CFEB</td>\n",
       "      <td>[dme.ru]</td>\n",
       "      <td>NaN</td>\n",
       "      <td>27</td>\n",
       "    </tr>\n",
       "    <tr>\n",
       "      <th>118599</th>\n",
       "      <td>E9B9D7D347EB1ACE5AAEEBFCE3FBCE7B</td>\n",
       "      <td>[aif.ru, autochel.ru, chelyabinsk.ru, id.rambl...</td>\n",
       "      <td>4z7616051a 4z7616051d 4z7616052a allroad arnot...</td>\n",
       "      <td>58</td>\n",
       "    </tr>\n",
       "    <tr>\n",
       "      <th>118600</th>\n",
       "      <td>EBFAC66B4EE3FB96BA5DD7DDE3787FE7</td>\n",
       "      <td>[blog.partisani.ge, li.ru, tvrain.ru]</td>\n",
       "      <td>ru онлайн попка порно секс азербайджан военный...</td>\n",
       "      <td>56</td>\n",
       "    </tr>\n",
       "    <tr>\n",
       "      <th>118601</th>\n",
       "      <td>F537AD6B46D31ABFF597EFDFE1BDDE71</td>\n",
       "      <td>[doctorkirov.ru, drive.ru, extrim-park43.ru, m...</td>\n",
       "      <td>5d merced-benz видео драйв комплектация отзыв ...</td>\n",
       "      <td>31</td>\n",
       "    </tr>\n",
       "    <tr>\n",
       "      <th>118602</th>\n",
       "      <td>F55C7EDB467B9FAE1F97E7DDE1747F6B</td>\n",
       "      <td>[samara.drom.ru]</td>\n",
       "      <td>NaN</td>\n",
       "      <td>35</td>\n",
       "    </tr>\n",
       "  </tbody>\n",
       "</table>\n",
       "</div>"
      ],
      "text/plain": [
       "                                      id  \\\n",
       "118598  E9B7BDD54E733BDF364DD7B4EF74CFEB   \n",
       "118599  E9B9D7D347EB1ACE5AAEEBFCE3FBCE7B   \n",
       "118600  EBFAC66B4EE3FB96BA5DD7DDE3787FE7   \n",
       "118601  F537AD6B46D31ABFF597EFDFE1BDDE71   \n",
       "118602  F55C7EDB467B9FAE1F97E7DDE1747F6B   \n",
       "\n",
       "                                                     urls  \\\n",
       "118598                                           [dme.ru]   \n",
       "118599  [aif.ru, autochel.ru, chelyabinsk.ru, id.rambl...   \n",
       "118600              [blog.partisani.ge, li.ru, tvrain.ru]   \n",
       "118601  [doctorkirov.ru, drive.ru, extrim-park43.ru, m...   \n",
       "118602                                   [samara.drom.ru]   \n",
       "\n",
       "                                                    words  age  \n",
       "118598                                                NaN   27  \n",
       "118599  4z7616051a 4z7616051d 4z7616052a allroad arnot...   58  \n",
       "118600  ru онлайн попка порно секс азербайджан военный...   56  \n",
       "118601  5d merced-benz видео драйв комплектация отзыв ...   31  \n",
       "118602                                                NaN   35  "
      ]
     },
     "execution_count": 18,
     "metadata": {},
     "output_type": "execute_result"
    }
   ],
   "source": [
    "train_df.tail()"
   ]
  },
  {
   "cell_type": "code",
   "execution_count": 29,
   "metadata": {
    "collapsed": false
   },
   "outputs": [
    {
     "data": {
      "image/png": "[encoded data removed]",
      "text/plain": [
       "<matplotlib.figure.Figure at 0x7f6d28698dd0>"
      ]
     },
     "metadata": {},
     "output_type": "display_data"
    }
   ],
   "source": [
    "age_count = []\n",
    "for age in xrange(100):\n",
    "    age_count += [len(train_df[train_df.age == age])]\n",
    "pd.Series(age_count).plot(figsize=(10,4))\n",
    "plt.xlabel = 'возраст'"
   ]
  },
  {
   "cell_type": "code",
   "execution_count": 21,
   "metadata": {
    "collapsed": false
   },
   "outputs": [
    {
     "data": {
      "text/plain": [
       "[<matplotlib.lines.Line2D at 0x7f6d292f4710>]"
      ]
     },
     "execution_count": 21,
     "metadata": {},
     "output_type": "execute_result"
    },
    {
     "data": {
      "image/png": "[encoded data removed]",
      "text/plain": [
       "<matplotlib.figure.Figure at 0x7f6d2dbb4bd0>"
      ]
     },
     "metadata": {},
     "output_type": "display_data"
    }
   ],
   "source": [
    "age_count = []\n",
    "for i in xrange(10):\n",
    "    age_count += [len(train_df[train_df.age % 10 == i])]\n",
    "plt.plot(age_count)"
   ]
  },
  {
   "cell_type": "code",
   "execution_count": 33,
   "metadata": {
    "collapsed": false
   },
   "outputs": [
    {
     "data": {
      "text/html": [
       "<div>\n",
       "<table border=\"1\" class=\"dataframe\">\n",
       "  <thead>\n",
       "    <tr style=\"text-align: right;\">\n",
       "      <th></th>\n",
       "      <th>id</th>\n",
       "      <th>urls</th>\n",
       "      <th>words</th>\n",
       "      <th>age</th>\n",
       "    </tr>\n",
       "  </thead>\n",
       "  <tbody>\n",
       "    <tr>\n",
       "      <th>118148</th>\n",
       "      <td>0625E94F5702082200000543EDA15F01</td>\n",
       "      <td>[anitokyo.tv, consultmill.ru, kakras.ru, mail....</td>\n",
       "      <td>formar terra аниме бесплатно онлайн смотреть т...</td>\n",
       "      <td>25</td>\n",
       "    </tr>\n",
       "    <tr>\n",
       "      <th>118257</th>\n",
       "      <td>06323A7556EA742B00000534ED7F9901</td>\n",
       "      <td>[aktteva.ru, m.rambler.ru, mirtesen.ru, newss....</td>\n",
       "      <td>америка взбесить войско вывод почему будущее в...</td>\n",
       "      <td>45</td>\n",
       "    </tr>\n",
       "    <tr>\n",
       "      <th>118368</th>\n",
       "      <td>063905E556DFCF6D00000540B3121801</td>\n",
       "      <td>[abonentov.net, chat.ru, gazeta.ru, gisclub.tv...</td>\n",
       "      <td>3g usb-модем для интернет мобильный gi прошивк...</td>\n",
       "      <td>55</td>\n",
       "    </tr>\n",
       "    <tr>\n",
       "      <th>118488</th>\n",
       "      <td>06392CA75702A7630000054E1849B501</td>\n",
       "      <td>[d2bingo.ru, id.rambler.ru, mail.rambler.ru, m...</td>\n",
       "      <td>co rambler авторизация d2bingo ru дот испытать...</td>\n",
       "      <td>25</td>\n",
       "    </tr>\n",
       "    <tr>\n",
       "      <th>118602</th>\n",
       "      <td>F55C7EDB467B9FAE1F97E7DDE1747F6B</td>\n",
       "      <td>[samara.drom.ru]</td>\n",
       "      <td>NaN</td>\n",
       "      <td>35</td>\n",
       "    </tr>\n",
       "  </tbody>\n",
       "</table>\n",
       "</div>"
      ],
      "text/plain": [
       "                                      id  \\\n",
       "118148  0625E94F5702082200000543EDA15F01   \n",
       "118257  06323A7556EA742B00000534ED7F9901   \n",
       "118368  063905E556DFCF6D00000540B3121801   \n",
       "118488  06392CA75702A7630000054E1849B501   \n",
       "118602  F55C7EDB467B9FAE1F97E7DDE1747F6B   \n",
       "\n",
       "                                                     urls  \\\n",
       "118148  [anitokyo.tv, consultmill.ru, kakras.ru, mail....   \n",
       "118257  [aktteva.ru, m.rambler.ru, mirtesen.ru, newss....   \n",
       "118368  [abonentov.net, chat.ru, gazeta.ru, gisclub.tv...   \n",
       "118488  [d2bingo.ru, id.rambler.ru, mail.rambler.ru, m...   \n",
       "118602                                   [samara.drom.ru]   \n",
       "\n",
       "                                                    words  age  \n",
       "118148  formar terra аниме бесплатно онлайн смотреть т...   25  \n",
       "118257  америка взбесить войско вывод почему будущее в...   45  \n",
       "118368  3g usb-модем для интернет мобильный gi прошивк...   55  \n",
       "118488  co rambler авторизация d2bingo ru дот испытать...   25  \n",
       "118602                                                NaN   35  "
      ]
     },
     "execution_count": 33,
     "metadata": {},
     "output_type": "execute_result"
    }
   ],
   "source": [
    "train_df[train_df.age % 10 == 5].tail()"
   ]
  },
  {
   "cell_type": "code",
   "execution_count": 34,
   "metadata": {
    "collapsed": false
   },
   "outputs": [
    {
     "name": "stdout",
     "output_type": "stream",
     "text": [
      "2254\n"
     ]
    }
   ],
   "source": [
    "print(len(train_df[train_df.age >= 65]))\n",
    "train_df = train_df[train_df.age < 65]"
   ]
  },
  {
   "cell_type": "code",
   "execution_count": 35,
   "metadata": {
    "collapsed": false
   },
   "outputs": [
    {
     "name": "stdout",
     "output_type": "stream",
     "text": [
      "3387\n"
     ]
    }
   ],
   "source": [
    "print(len(train_df[train_df.age <= 15]))\n",
    "train_df = train_df[train_df.age > 15]"
   ]
  },
  {
   "cell_type": "code",
   "execution_count": 36,
   "metadata": {
    "collapsed": false,
    "scrolled": true
   },
   "outputs": [
    {
     "data": {
      "text/html": [
       "<div>\n",
       "<table border=\"1\" class=\"dataframe\">\n",
       "  <thead>\n",
       "    <tr style=\"text-align: right;\">\n",
       "      <th></th>\n",
       "      <th>id</th>\n",
       "      <th>urls</th>\n",
       "      <th>words</th>\n",
       "      <th>age</th>\n",
       "    </tr>\n",
       "  </thead>\n",
       "  <tbody>\n",
       "    <tr>\n",
       "      <th>118598</th>\n",
       "      <td>E9B7BDD54E733BDF364DD7B4EF74CFEB</td>\n",
       "      <td>[dme.ru]</td>\n",
       "      <td>NaN</td>\n",
       "      <td>27</td>\n",
       "    </tr>\n",
       "    <tr>\n",
       "      <th>118599</th>\n",
       "      <td>E9B9D7D347EB1ACE5AAEEBFCE3FBCE7B</td>\n",
       "      <td>[aif.ru, autochel.ru, chelyabinsk.ru, id.rambl...</td>\n",
       "      <td>4z7616051a 4z7616051d 4z7616052a allroad arnot...</td>\n",
       "      <td>58</td>\n",
       "    </tr>\n",
       "    <tr>\n",
       "      <th>118600</th>\n",
       "      <td>EBFAC66B4EE3FB96BA5DD7DDE3787FE7</td>\n",
       "      <td>[blog.partisani.ge, li.ru, tvrain.ru]</td>\n",
       "      <td>ru онлайн попка порно секс азербайджан военный...</td>\n",
       "      <td>56</td>\n",
       "    </tr>\n",
       "    <tr>\n",
       "      <th>118601</th>\n",
       "      <td>F537AD6B46D31ABFF597EFDFE1BDDE71</td>\n",
       "      <td>[doctorkirov.ru, drive.ru, extrim-park43.ru, m...</td>\n",
       "      <td>5d merced-benz видео драйв комплектация отзыв ...</td>\n",
       "      <td>31</td>\n",
       "    </tr>\n",
       "    <tr>\n",
       "      <th>118602</th>\n",
       "      <td>F55C7EDB467B9FAE1F97E7DDE1747F6B</td>\n",
       "      <td>[samara.drom.ru]</td>\n",
       "      <td>NaN</td>\n",
       "      <td>35</td>\n",
       "    </tr>\n",
       "  </tbody>\n",
       "</table>\n",
       "</div>"
      ],
      "text/plain": [
       "                                      id  \\\n",
       "118598  E9B7BDD54E733BDF364DD7B4EF74CFEB   \n",
       "118599  E9B9D7D347EB1ACE5AAEEBFCE3FBCE7B   \n",
       "118600  EBFAC66B4EE3FB96BA5DD7DDE3787FE7   \n",
       "118601  F537AD6B46D31ABFF597EFDFE1BDDE71   \n",
       "118602  F55C7EDB467B9FAE1F97E7DDE1747F6B   \n",
       "\n",
       "                                                     urls  \\\n",
       "118598                                           [dme.ru]   \n",
       "118599  [aif.ru, autochel.ru, chelyabinsk.ru, id.rambl...   \n",
       "118600              [blog.partisani.ge, li.ru, tvrain.ru]   \n",
       "118601  [doctorkirov.ru, drive.ru, extrim-park43.ru, m...   \n",
       "118602                                   [samara.drom.ru]   \n",
       "\n",
       "                                                    words  age  \n",
       "118598                                                NaN   27  \n",
       "118599  4z7616051a 4z7616051d 4z7616052a allroad arnot...   58  \n",
       "118600  ru онлайн попка порно секс азербайджан военный...   56  \n",
       "118601  5d merced-benz видео драйв комплектация отзыв ...   31  \n",
       "118602                                                NaN   35  "
      ]
     },
     "execution_count": 36,
     "metadata": {},
     "output_type": "execute_result"
    }
   ],
   "source": [
    "train_df.tail()"
   ]
  },
  {
   "cell_type": "code",
   "execution_count": 37,
   "metadata": {
    "collapsed": false
   },
   "outputs": [],
   "source": [
    "train_df = train_df[train_df.words == train_df.words]"
   ]
  },
  {
   "cell_type": "markdown",
   "metadata": {},
   "source": [
    "## Снижение размерности"
   ]
  },
  {
   "cell_type": "code",
   "execution_count": 38,
   "metadata": {
    "collapsed": false
   },
   "outputs": [
    {
     "data": {
      "text/plain": [
       "108573"
      ]
     },
     "execution_count": 38,
     "metadata": {},
     "output_type": "execute_result"
    }
   ],
   "source": [
    "topk = 300000\n",
    "X_urls, X_title, y = train_df.urls.values[:topk], train_df.words.values[:topk], train_df.age.values[:topk]\n",
    "y = y - 36\n",
    "y.size"
   ]
  },
  {
   "cell_type": "code",
   "execution_count": 28,
   "metadata": {
    "collapsed": false,
    "scrolled": true
   },
   "outputs": [
    {
     "data": {
      "text/plain": [
       "<matplotlib.axes._subplots.AxesSubplot at 0x7fd47bb30a90>"
      ]
     },
     "execution_count": 28,
     "metadata": {},
     "output_type": "execute_result"
    },
    {
     "data": {
      "image/png": "[encoded data removed]",
      "text/plain": [
       "<matplotlib.figure.Figure at 0x7fd47bab5810>"
      ]
     },
     "metadata": {},
     "output_type": "display_data"
    }
   ],
   "source": [
    "url_frequency = pd.Series([j for i in X_urls for j in i]).value_counts()\n",
    "url_frequency.index = range(len(url_frequency))\n",
    "url_frequency.cumsum().plot(figsize=(12,2))"
   ]
  },
  {
   "cell_type": "code",
   "execution_count": 35,
   "metadata": {
    "collapsed": false
   },
   "outputs": [
    {
     "data": {
      "text/plain": [
       "<matplotlib.axes._subplots.AxesSubplot at 0x7fd47ba21090>"
      ]
     },
     "execution_count": 35,
     "metadata": {},
     "output_type": "execute_result"
    },
    {
     "data": {
      "image/png": "[encoded data removed]",
      "text/plain": [
       "<matplotlib.figure.Figure at 0x7fd47b965590>"
      ]
     },
     "metadata": {},
     "output_type": "display_data"
    }
   ],
   "source": [
    "#title_frequency = pd.Series([j for i in X_title for j in i.split()]).value_counts()\n",
    "#title_frequency.index = range(len(title_frequency))\n",
    "title_frequency[0:10000].cumsum().plot(figsize=(12,2))"
   ]
  },
  {
   "cell_type": "code",
   "execution_count": 39,
   "metadata": {
    "collapsed": false
   },
   "outputs": [],
   "source": [
    "X_urls = map(lambda x: ' '.join(x), X_urls)\n",
    "hw_u = HashingVectorizer(n_features=1000, non_negative=True).fit(X_urls)\n",
    "X_urls = hw_u.transform(X_urls)"
   ]
  },
  {
   "cell_type": "code",
   "execution_count": 40,
   "metadata": {
    "collapsed": false,
    "scrolled": true
   },
   "outputs": [
    {
     "data": {
      "text/plain": [
       "(108573, 1000)"
      ]
     },
     "execution_count": 40,
     "metadata": {},
     "output_type": "execute_result"
    }
   ],
   "source": [
    "X_urls.shape"
   ]
  },
  {
   "cell_type": "code",
   "execution_count": 41,
   "metadata": {
    "collapsed": false,
    "scrolled": true
   },
   "outputs": [
    {
     "name": "stdout",
     "output_type": "stream",
     "text": [
      "1\n"
     ]
    }
   ],
   "source": [
    "#X_title = map(lambda x: ' '.join(x), X_title)\n",
    "hw_t = HashingVectorizer(n_features=1500, non_negative=True, decode_error='ignore').fit(X_title)\n",
    "X_title = hw_t.transform(X_title)\n",
    "print 1"
   ]
  },
  {
   "cell_type": "code",
   "execution_count": 42,
   "metadata": {
    "collapsed": false
   },
   "outputs": [
    {
     "data": {
      "text/plain": [
       "(108573, 1500)"
      ]
     },
     "execution_count": 42,
     "metadata": {},
     "output_type": "execute_result"
    }
   ],
   "source": [
    "X_title.shape"
   ]
  },
  {
   "cell_type": "code",
   "execution_count": 32,
   "metadata": {
    "collapsed": false
   },
   "outputs": [
    {
     "name": "stdout",
     "output_type": "stream",
     "text": [
      "CPU times: user 36min 53s, sys: 16.8 s, total: 37min 9s\n",
      "Wall time: 20min 3s\n"
     ]
    }
   ],
   "source": [
    "%%time\n",
    "\n",
    "transformer = sklearn.decomposition.NMF(n_components=100)\n",
    "X_nmf = transformer.fit_transform(X_urls)"
   ]
  },
  {
   "cell_type": "code",
   "execution_count": 33,
   "metadata": {
    "collapsed": false
   },
   "outputs": [
    {
     "data": {
      "text/plain": [
       "(108573, 100)"
      ]
     },
     "execution_count": 33,
     "metadata": {},
     "output_type": "execute_result"
    }
   ],
   "source": [
    "X_nmf.shape"
   ]
  },
  {
   "cell_type": "code",
   "execution_count": null,
   "metadata": {
    "collapsed": false,
    "scrolled": true
   },
   "outputs": [],
   "source": [
    "clust = AgglomerativeClustering(5)\n",
    "clust.fit(X_nmf[:10000]) "
   ]
  },
  {
   "cell_type": "markdown",
   "metadata": {},
   "source": [
    "## Холдаут"
   ]
  },
  {
   "cell_type": "code",
   "execution_count": 43,
   "metadata": {
    "collapsed": false
   },
   "outputs": [
    {
     "data": {
      "text/plain": [
       "(72382, 36191)"
      ]
     },
     "execution_count": 43,
     "metadata": {},
     "output_type": "execute_result"
    }
   ],
   "source": [
    "itrain, itest = cross_validation.train_test_split(range(X_urls.shape[0]), test_size=1./3, random_state=42)\n",
    "len(itrain), len(itest)"
   ]
  },
  {
   "cell_type": "markdown",
   "metadata": {},
   "source": [
    "## Обучение модели"
   ]
  },
  {
   "cell_type": "markdown",
   "metadata": {},
   "source": [
    "Константный бейзлайн"
   ]
  },
  {
   "cell_type": "code",
   "execution_count": 44,
   "metadata": {
    "collapsed": false
   },
   "outputs": [
    {
     "data": {
      "text/plain": [
       "10.772915115482986"
      ]
     },
     "execution_count": 44,
     "metadata": {},
     "output_type": "execute_result"
    }
   ],
   "source": [
    "rmse(y[itest], np.mean(y[itrain]))\n"
   ]
  },
  {
   "cell_type": "code",
   "execution_count": 45,
   "metadata": {
    "collapsed": false
   },
   "outputs": [
    {
     "name": "stdout",
     "output_type": "stream",
     "text": [
      "(16, 36.285734022270731, 64)\n"
     ]
    }
   ],
   "source": [
    "print(min(y),np.mean(y),max(y))\n"
   ]
  },
  {
   "cell_type": "markdown",
   "metadata": {},
   "source": [
    "Линейная модель на обычных фичах"
   ]
  },
  {
   "cell_type": "code",
   "execution_count": 67,
   "metadata": {
    "collapsed": false
   },
   "outputs": [],
   "source": [
    "y = train_df.age.values"
   ]
  },
  {
   "cell_type": "code",
   "execution_count": null,
   "metadata": {
    "collapsed": true
   },
   "outputs": [],
   "source": []
  },
  {
   "cell_type": "markdown",
   "metadata": {},
   "source": [
    "Линейная модель на NMF от обычных фичей"
   ]
  },
  {
   "cell_type": "code",
   "execution_count": 71,
   "metadata": {
    "collapsed": false,
    "scrolled": false
   },
   "outputs": [
    {
     "name": "stdout",
     "output_type": "stream",
     "text": [
      "10.2421827729\n"
     ]
    }
   ],
   "source": [
    "reg = LinearRegression()\n",
    "reg.fit(X_nmf[itrain, :], y[itrain])\n",
    "\n",
    "pred_X_nmf = reg.predict(X_nmf[itest, :])\n",
    "print(rmse(y[itest], pred_X_nmf))"
   ]
  },
  {
   "cell_type": "code",
   "execution_count": 112,
   "metadata": {
    "collapsed": true
   },
   "outputs": [
    {
     "ename": "KeyboardInterrupt",
     "evalue": "",
     "output_type": "error",
     "traceback": [
      "\u001b[0;31m---------------------------------------------------------------------------\u001b[0m",
      "\u001b[0;31mKeyboardInterrupt\u001b[0m                         Traceback (most recent call last)",
      "\u001b[0;32m<ipython-input-112-65ce7bba25ae>\u001b[0m in \u001b[0;36m<module>\u001b[0;34m()\u001b[0m\n\u001b[1;32m      1\u001b[0m \u001b[0mreg2\u001b[0m \u001b[0;34m=\u001b[0m \u001b[0msklearn\u001b[0m\u001b[0;34m.\u001b[0m\u001b[0mensemble\u001b[0m\u001b[0;34m.\u001b[0m\u001b[0mExtraTreesRegressor\u001b[0m\u001b[0;34m(\u001b[0m\u001b[0mn_estimators\u001b[0m\u001b[0;34m=\u001b[0m\u001b[0;36m100\u001b[0m\u001b[0;34m,\u001b[0m \u001b[0mmax_leaf_nodes\u001b[0m\u001b[0;34m=\u001b[0m\u001b[0;36m10\u001b[0m\u001b[0;34m)\u001b[0m\u001b[0;34m\u001b[0m\u001b[0m\n\u001b[0;32m----> 2\u001b[0;31m \u001b[0mreg2\u001b[0m\u001b[0;34m.\u001b[0m\u001b[0mfit\u001b[0m\u001b[0;34m(\u001b[0m\u001b[0mX_title\u001b[0m\u001b[0;34m[\u001b[0m\u001b[0mitrain\u001b[0m\u001b[0;34m,\u001b[0m \u001b[0;34m:\u001b[0m\u001b[0;34m]\u001b[0m\u001b[0;34m,\u001b[0m \u001b[0my\u001b[0m\u001b[0;34m[\u001b[0m\u001b[0mitrain\u001b[0m\u001b[0;34m]\u001b[0m\u001b[0;34m)\u001b[0m\u001b[0;34m\u001b[0m\u001b[0m\n\u001b[0m\u001b[1;32m      3\u001b[0m \u001b[0;34m\u001b[0m\u001b[0m\n\u001b[1;32m      4\u001b[0m \u001b[0;32mprint\u001b[0m \u001b[0mrmse\u001b[0m\u001b[0;34m(\u001b[0m\u001b[0mreg2\u001b[0m\u001b[0;34m.\u001b[0m\u001b[0mpredict\u001b[0m\u001b[0;34m(\u001b[0m\u001b[0mX_title\u001b[0m\u001b[0;34m[\u001b[0m\u001b[0mitrain\u001b[0m\u001b[0;34m,\u001b[0m \u001b[0;34m:\u001b[0m\u001b[0;34m]\u001b[0m\u001b[0;34m)\u001b[0m\u001b[0;34m,\u001b[0m \u001b[0my\u001b[0m\u001b[0;34m[\u001b[0m\u001b[0mitrain\u001b[0m\u001b[0;34m]\u001b[0m\u001b[0;34m)\u001b[0m\u001b[0;34m\u001b[0m\u001b[0m\n\u001b[1;32m      5\u001b[0m \u001b[0mpred_X_title\u001b[0m \u001b[0;34m=\u001b[0m \u001b[0mreg2\u001b[0m\u001b[0;34m.\u001b[0m\u001b[0mpredict\u001b[0m\u001b[0;34m(\u001b[0m\u001b[0mX_title\u001b[0m\u001b[0;34m[\u001b[0m\u001b[0mitest\u001b[0m\u001b[0;34m,\u001b[0m \u001b[0;34m:\u001b[0m\u001b[0;34m]\u001b[0m\u001b[0;34m)\u001b[0m\u001b[0;34m\u001b[0m\u001b[0m\n",
      "\u001b[0;32m/home/dima/anaconda2/lib/python2.7/site-packages/sklearn/ensemble/forest.pyc\u001b[0m in \u001b[0;36mfit\u001b[0;34m(self, X, y, sample_weight)\u001b[0m\n\u001b[1;32m    324\u001b[0m                     \u001b[0mt\u001b[0m\u001b[0;34m,\u001b[0m \u001b[0mself\u001b[0m\u001b[0;34m,\u001b[0m \u001b[0mX\u001b[0m\u001b[0;34m,\u001b[0m \u001b[0my\u001b[0m\u001b[0;34m,\u001b[0m \u001b[0msample_weight\u001b[0m\u001b[0;34m,\u001b[0m \u001b[0mi\u001b[0m\u001b[0;34m,\u001b[0m \u001b[0mlen\u001b[0m\u001b[0;34m(\u001b[0m\u001b[0mtrees\u001b[0m\u001b[0;34m)\u001b[0m\u001b[0;34m,\u001b[0m\u001b[0;34m\u001b[0m\u001b[0m\n\u001b[1;32m    325\u001b[0m                     verbose=self.verbose, class_weight=self.class_weight)\n\u001b[0;32m--> 326\u001b[0;31m                 for i, t in enumerate(trees))\n\u001b[0m\u001b[1;32m    327\u001b[0m \u001b[0;34m\u001b[0m\u001b[0m\n\u001b[1;32m    328\u001b[0m             \u001b[0;31m# Collect newly grown trees\u001b[0m\u001b[0;34m\u001b[0m\u001b[0;34m\u001b[0m\u001b[0m\n",
      "\u001b[0;32m/home/dima/anaconda2/lib/python2.7/site-packages/sklearn/externals/joblib/parallel.pyc\u001b[0m in \u001b[0;36m__call__\u001b[0;34m(self, iterable)\u001b[0m\n\u001b[1;32m    756\u001b[0m             \u001b[0;31m# was dispatched. In particular this covers the edge\u001b[0m\u001b[0;34m\u001b[0m\u001b[0;34m\u001b[0m\u001b[0m\n\u001b[1;32m    757\u001b[0m             \u001b[0;31m# case of Parallel used with an exhausted iterator.\u001b[0m\u001b[0;34m\u001b[0m\u001b[0;34m\u001b[0m\u001b[0m\n\u001b[0;32m--> 758\u001b[0;31m             \u001b[0;32mwhile\u001b[0m \u001b[0mself\u001b[0m\u001b[0;34m.\u001b[0m\u001b[0mdispatch_one_batch\u001b[0m\u001b[0;34m(\u001b[0m\u001b[0miterator\u001b[0m\u001b[0;34m)\u001b[0m\u001b[0;34m:\u001b[0m\u001b[0;34m\u001b[0m\u001b[0m\n\u001b[0m\u001b[1;32m    759\u001b[0m                 \u001b[0mself\u001b[0m\u001b[0;34m.\u001b[0m\u001b[0m_iterating\u001b[0m \u001b[0;34m=\u001b[0m \u001b[0mTrue\u001b[0m\u001b[0;34m\u001b[0m\u001b[0m\n\u001b[1;32m    760\u001b[0m             \u001b[0;32melse\u001b[0m\u001b[0;34m:\u001b[0m\u001b[0;34m\u001b[0m\u001b[0m\n",
      "\u001b[0;32m/home/dima/anaconda2/lib/python2.7/site-packages/sklearn/externals/joblib/parallel.pyc\u001b[0m in \u001b[0;36mdispatch_one_batch\u001b[0;34m(self, iterator)\u001b[0m\n\u001b[1;32m    606\u001b[0m                 \u001b[0;32mreturn\u001b[0m \u001b[0mFalse\u001b[0m\u001b[0;34m\u001b[0m\u001b[0m\n\u001b[1;32m    607\u001b[0m             \u001b[0;32melse\u001b[0m\u001b[0;34m:\u001b[0m\u001b[0;34m\u001b[0m\u001b[0m\n\u001b[0;32m--> 608\u001b[0;31m                 \u001b[0mself\u001b[0m\u001b[0;34m.\u001b[0m\u001b[0m_dispatch\u001b[0m\u001b[0;34m(\u001b[0m\u001b[0mtasks\u001b[0m\u001b[0;34m)\u001b[0m\u001b[0;34m\u001b[0m\u001b[0m\n\u001b[0m\u001b[1;32m    609\u001b[0m                 \u001b[0;32mreturn\u001b[0m \u001b[0mTrue\u001b[0m\u001b[0;34m\u001b[0m\u001b[0m\n\u001b[1;32m    610\u001b[0m \u001b[0;34m\u001b[0m\u001b[0m\n",
      "\u001b[0;32m/home/dima/anaconda2/lib/python2.7/site-packages/sklearn/externals/joblib/parallel.pyc\u001b[0m in \u001b[0;36m_dispatch\u001b[0;34m(self, batch)\u001b[0m\n\u001b[1;32m    569\u001b[0m         \u001b[0mdispatch_timestamp\u001b[0m \u001b[0;34m=\u001b[0m \u001b[0mtime\u001b[0m\u001b[0;34m.\u001b[0m\u001b[0mtime\u001b[0m\u001b[0;34m(\u001b[0m\u001b[0;34m)\u001b[0m\u001b[0;34m\u001b[0m\u001b[0m\n\u001b[1;32m    570\u001b[0m         \u001b[0mcb\u001b[0m \u001b[0;34m=\u001b[0m \u001b[0mBatchCompletionCallBack\u001b[0m\u001b[0;34m(\u001b[0m\u001b[0mdispatch_timestamp\u001b[0m\u001b[0;34m,\u001b[0m \u001b[0mlen\u001b[0m\u001b[0;34m(\u001b[0m\u001b[0mbatch\u001b[0m\u001b[0;34m)\u001b[0m\u001b[0;34m,\u001b[0m \u001b[0mself\u001b[0m\u001b[0;34m)\u001b[0m\u001b[0;34m\u001b[0m\u001b[0m\n\u001b[0;32m--> 571\u001b[0;31m         \u001b[0mjob\u001b[0m \u001b[0;34m=\u001b[0m \u001b[0mself\u001b[0m\u001b[0;34m.\u001b[0m\u001b[0m_backend\u001b[0m\u001b[0;34m.\u001b[0m\u001b[0mapply_async\u001b[0m\u001b[0;34m(\u001b[0m\u001b[0mbatch\u001b[0m\u001b[0;34m,\u001b[0m \u001b[0mcallback\u001b[0m\u001b[0;34m=\u001b[0m\u001b[0mcb\u001b[0m\u001b[0;34m)\u001b[0m\u001b[0;34m\u001b[0m\u001b[0m\n\u001b[0m\u001b[1;32m    572\u001b[0m         \u001b[0mself\u001b[0m\u001b[0;34m.\u001b[0m\u001b[0m_jobs\u001b[0m\u001b[0;34m.\u001b[0m\u001b[0mappend\u001b[0m\u001b[0;34m(\u001b[0m\u001b[0mjob\u001b[0m\u001b[0;34m)\u001b[0m\u001b[0;34m\u001b[0m\u001b[0m\n\u001b[1;32m    573\u001b[0m \u001b[0;34m\u001b[0m\u001b[0m\n",
      "\u001b[0;32m/home/dima/anaconda2/lib/python2.7/site-packages/sklearn/externals/joblib/_parallel_backends.pyc\u001b[0m in \u001b[0;36mapply_async\u001b[0;34m(self, func, callback)\u001b[0m\n\u001b[1;32m    107\u001b[0m     \u001b[0;32mdef\u001b[0m \u001b[0mapply_async\u001b[0m\u001b[0;34m(\u001b[0m\u001b[0mself\u001b[0m\u001b[0;34m,\u001b[0m \u001b[0mfunc\u001b[0m\u001b[0;34m,\u001b[0m \u001b[0mcallback\u001b[0m\u001b[0;34m=\u001b[0m\u001b[0mNone\u001b[0m\u001b[0;34m)\u001b[0m\u001b[0;34m:\u001b[0m\u001b[0;34m\u001b[0m\u001b[0m\n\u001b[1;32m    108\u001b[0m         \u001b[0;34m\"\"\"Schedule a func to be run\"\"\"\u001b[0m\u001b[0;34m\u001b[0m\u001b[0m\n\u001b[0;32m--> 109\u001b[0;31m         \u001b[0mresult\u001b[0m \u001b[0;34m=\u001b[0m \u001b[0mImmediateResult\u001b[0m\u001b[0;34m(\u001b[0m\u001b[0mfunc\u001b[0m\u001b[0;34m)\u001b[0m\u001b[0;34m\u001b[0m\u001b[0m\n\u001b[0m\u001b[1;32m    110\u001b[0m         \u001b[0;32mif\u001b[0m \u001b[0mcallback\u001b[0m\u001b[0;34m:\u001b[0m\u001b[0;34m\u001b[0m\u001b[0m\n\u001b[1;32m    111\u001b[0m             \u001b[0mcallback\u001b[0m\u001b[0;34m(\u001b[0m\u001b[0mresult\u001b[0m\u001b[0;34m)\u001b[0m\u001b[0;34m\u001b[0m\u001b[0m\n",
      "\u001b[0;32m/home/dima/anaconda2/lib/python2.7/site-packages/sklearn/externals/joblib/_parallel_backends.pyc\u001b[0m in \u001b[0;36m__init__\u001b[0;34m(self, batch)\u001b[0m\n\u001b[1;32m    320\u001b[0m         \u001b[0;31m# Don't delay the application, to avoid keeping the input\u001b[0m\u001b[0;34m\u001b[0m\u001b[0;34m\u001b[0m\u001b[0m\n\u001b[1;32m    321\u001b[0m         \u001b[0;31m# arguments in memory\u001b[0m\u001b[0;34m\u001b[0m\u001b[0;34m\u001b[0m\u001b[0m\n\u001b[0;32m--> 322\u001b[0;31m         \u001b[0mself\u001b[0m\u001b[0;34m.\u001b[0m\u001b[0mresults\u001b[0m \u001b[0;34m=\u001b[0m \u001b[0mbatch\u001b[0m\u001b[0;34m(\u001b[0m\u001b[0;34m)\u001b[0m\u001b[0;34m\u001b[0m\u001b[0m\n\u001b[0m\u001b[1;32m    323\u001b[0m \u001b[0;34m\u001b[0m\u001b[0m\n\u001b[1;32m    324\u001b[0m     \u001b[0;32mdef\u001b[0m \u001b[0mget\u001b[0m\u001b[0;34m(\u001b[0m\u001b[0mself\u001b[0m\u001b[0;34m)\u001b[0m\u001b[0;34m:\u001b[0m\u001b[0;34m\u001b[0m\u001b[0m\n",
      "\u001b[0;32m/home/dima/anaconda2/lib/python2.7/site-packages/sklearn/externals/joblib/parallel.pyc\u001b[0m in \u001b[0;36m__call__\u001b[0;34m(self)\u001b[0m\n\u001b[1;32m    129\u001b[0m \u001b[0;34m\u001b[0m\u001b[0m\n\u001b[1;32m    130\u001b[0m     \u001b[0;32mdef\u001b[0m \u001b[0m__call__\u001b[0m\u001b[0;34m(\u001b[0m\u001b[0mself\u001b[0m\u001b[0;34m)\u001b[0m\u001b[0;34m:\u001b[0m\u001b[0;34m\u001b[0m\u001b[0m\n\u001b[0;32m--> 131\u001b[0;31m         \u001b[0;32mreturn\u001b[0m \u001b[0;34m[\u001b[0m\u001b[0mfunc\u001b[0m\u001b[0;34m(\u001b[0m\u001b[0;34m*\u001b[0m\u001b[0margs\u001b[0m\u001b[0;34m,\u001b[0m \u001b[0;34m**\u001b[0m\u001b[0mkwargs\u001b[0m\u001b[0;34m)\u001b[0m \u001b[0;32mfor\u001b[0m \u001b[0mfunc\u001b[0m\u001b[0;34m,\u001b[0m \u001b[0margs\u001b[0m\u001b[0;34m,\u001b[0m \u001b[0mkwargs\u001b[0m \u001b[0;32min\u001b[0m \u001b[0mself\u001b[0m\u001b[0;34m.\u001b[0m\u001b[0mitems\u001b[0m\u001b[0;34m]\u001b[0m\u001b[0;34m\u001b[0m\u001b[0m\n\u001b[0m\u001b[1;32m    132\u001b[0m \u001b[0;34m\u001b[0m\u001b[0m\n\u001b[1;32m    133\u001b[0m     \u001b[0;32mdef\u001b[0m \u001b[0m__len__\u001b[0m\u001b[0;34m(\u001b[0m\u001b[0mself\u001b[0m\u001b[0;34m)\u001b[0m\u001b[0;34m:\u001b[0m\u001b[0;34m\u001b[0m\u001b[0m\n",
      "\u001b[0;32m/home/dima/anaconda2/lib/python2.7/site-packages/sklearn/ensemble/forest.pyc\u001b[0m in \u001b[0;36m_parallel_build_trees\u001b[0;34m(tree, forest, X, y, sample_weight, tree_idx, n_trees, verbose, class_weight)\u001b[0m\n\u001b[1;32m    120\u001b[0m         \u001b[0mtree\u001b[0m\u001b[0;34m.\u001b[0m\u001b[0mfit\u001b[0m\u001b[0;34m(\u001b[0m\u001b[0mX\u001b[0m\u001b[0;34m,\u001b[0m \u001b[0my\u001b[0m\u001b[0;34m,\u001b[0m \u001b[0msample_weight\u001b[0m\u001b[0;34m=\u001b[0m\u001b[0mcurr_sample_weight\u001b[0m\u001b[0;34m,\u001b[0m \u001b[0mcheck_input\u001b[0m\u001b[0;34m=\u001b[0m\u001b[0mFalse\u001b[0m\u001b[0;34m)\u001b[0m\u001b[0;34m\u001b[0m\u001b[0m\n\u001b[1;32m    121\u001b[0m     \u001b[0;32melse\u001b[0m\u001b[0;34m:\u001b[0m\u001b[0;34m\u001b[0m\u001b[0m\n\u001b[0;32m--> 122\u001b[0;31m         \u001b[0mtree\u001b[0m\u001b[0;34m.\u001b[0m\u001b[0mfit\u001b[0m\u001b[0;34m(\u001b[0m\u001b[0mX\u001b[0m\u001b[0;34m,\u001b[0m \u001b[0my\u001b[0m\u001b[0;34m,\u001b[0m \u001b[0msample_weight\u001b[0m\u001b[0;34m=\u001b[0m\u001b[0msample_weight\u001b[0m\u001b[0;34m,\u001b[0m \u001b[0mcheck_input\u001b[0m\u001b[0;34m=\u001b[0m\u001b[0mFalse\u001b[0m\u001b[0;34m)\u001b[0m\u001b[0;34m\u001b[0m\u001b[0m\n\u001b[0m\u001b[1;32m    123\u001b[0m \u001b[0;34m\u001b[0m\u001b[0m\n\u001b[1;32m    124\u001b[0m     \u001b[0;32mreturn\u001b[0m \u001b[0mtree\u001b[0m\u001b[0;34m\u001b[0m\u001b[0m\n",
      "\u001b[0;32m/home/dima/anaconda2/lib/python2.7/site-packages/sklearn/tree/tree.pyc\u001b[0m in \u001b[0;36mfit\u001b[0;34m(self, X, y, sample_weight, check_input, X_idx_sorted)\u001b[0m\n\u001b[1;32m    375\u001b[0m                                            max_leaf_nodes, self.min_impurity_split)\n\u001b[1;32m    376\u001b[0m \u001b[0;34m\u001b[0m\u001b[0m\n\u001b[0;32m--> 377\u001b[0;31m         \u001b[0mbuilder\u001b[0m\u001b[0;34m.\u001b[0m\u001b[0mbuild\u001b[0m\u001b[0;34m(\u001b[0m\u001b[0mself\u001b[0m\u001b[0;34m.\u001b[0m\u001b[0mtree_\u001b[0m\u001b[0;34m,\u001b[0m \u001b[0mX\u001b[0m\u001b[0;34m,\u001b[0m \u001b[0my\u001b[0m\u001b[0;34m,\u001b[0m \u001b[0msample_weight\u001b[0m\u001b[0;34m,\u001b[0m \u001b[0mX_idx_sorted\u001b[0m\u001b[0;34m)\u001b[0m\u001b[0;34m\u001b[0m\u001b[0m\n\u001b[0m\u001b[1;32m    378\u001b[0m \u001b[0;34m\u001b[0m\u001b[0m\n\u001b[1;32m    379\u001b[0m         \u001b[0;32mif\u001b[0m \u001b[0mself\u001b[0m\u001b[0;34m.\u001b[0m\u001b[0mn_outputs_\u001b[0m \u001b[0;34m==\u001b[0m \u001b[0;36m1\u001b[0m\u001b[0;34m:\u001b[0m\u001b[0;34m\u001b[0m\u001b[0m\n",
      "\u001b[0;31mKeyboardInterrupt\u001b[0m: "
     ]
    }
   ],
   "source": [
    "reg2 = sklearn.ensemble.ExtraTreesRegressor(n_estimators=100, max_leaf_nodes=10)\n",
    "reg2.fit(X_title[itrain, :], y[itrain])\n",
    "\n",
    "print rmse(reg2.predict(X_title[itrain, :]), y[itrain])\n",
    "pred_X_title = reg2.predict(X_title[itest, :])\n",
    "print(rmse(y[itest], pred_X_title))"
   ]
  },
  {
   "cell_type": "code",
   "execution_count": 115,
   "metadata": {
    "collapsed": false
   },
   "outputs": [
    {
     "name": "stdout",
     "output_type": "stream",
     "text": [
      "10.0981519647\n"
     ]
    }
   ],
   "source": [
    "reg1 = LinearRegression()\n",
    "reg1.fit(X_urls[itrain, :], y[itrain])\n",
    "\n",
    "pred_lin_urls = reg1.predict(X_urls[itest, :])\n",
    "print(rmse(y[itest], pred_X_urls))"
   ]
  },
  {
   "cell_type": "code",
   "execution_count": 116,
   "metadata": {
    "collapsed": false
   },
   "outputs": [
    {
     "name": "stdout",
     "output_type": "stream",
     "text": [
      "9.82954052364\n",
      "10.1214757278\n"
     ]
    }
   ],
   "source": [
    "reg3 = LinearRegression()\n",
    "reg3.fit(X_title[itrain, :], y[itrain])\n",
    "\n",
    "print rmse(reg3.predict(X_title[itrain, :]), y[itrain])\n",
    "pred_lin_title = reg3.predict(X_title[itest, :])\n",
    "print(rmse(y[itest], pred_X_title))"
   ]
  },
  {
   "cell_type": "markdown",
   "metadata": {},
   "source": [
    "Линейная комбинация"
   ]
  },
  {
   "cell_type": "code",
   "execution_count": 117,
   "metadata": {
    "collapsed": false
   },
   "outputs": [
    {
     "name": "stdout",
     "output_type": "stream",
     "text": [
      "9.93450419347\n",
      "48\n"
     ]
    },
    {
     "data": {
      "image/png": "[encoded data removed]",
      "text/plain": [
       "<matplotlib.figure.Figure at 0x7fbbc962df90>"
      ]
     },
     "metadata": {},
     "output_type": "display_data"
    }
   ],
   "source": [
    "error = []\n",
    "for w in np.linspace(0, 1, 100):\n",
    "     error += [rmse(y[itest], pred_lin_title * w + (1-w) * pred_lin_urls)]\n",
    "\n",
    "pd.Series(error, index=np.linspace(0, 1, 100)).plot(figsize=(6,3))\n",
    "print(min(error))\n",
    "print np.argmin(error)"
   ]
  },
  {
   "cell_type": "code",
   "execution_count": 139,
   "metadata": {
    "collapsed": false,
    "scrolled": true
   },
   "outputs": [
    {
     "name": "stdout",
     "output_type": "stream",
     "text": [
      "[0]\tvalidation_0-rmse:10.6188\tvalidation_1-rmse:10.6708\n",
      "[1]\tvalidation_0-rmse:10.5237\tvalidation_1-rmse:10.5851\n",
      "[2]\tvalidation_0-rmse:10.4443\tvalidation_1-rmse:10.5141\n",
      "[3]\tvalidation_0-rmse:10.3775\tvalidation_1-rmse:10.4552\n",
      "[4]\tvalidation_0-rmse:10.3201\tvalidation_1-rmse:10.4058\n",
      "[5]\tvalidation_0-rmse:10.2721\tvalidation_1-rmse:10.3658\n",
      "[6]\tvalidation_0-rmse:10.2308\tvalidation_1-rmse:10.3317\n",
      "[7]\tvalidation_0-rmse:10.195\tvalidation_1-rmse:10.3032\n",
      "[8]\tvalidation_0-rmse:10.1638\tvalidation_1-rmse:10.2791\n",
      "[9]\tvalidation_0-rmse:10.1353\tvalidation_1-rmse:10.258\n",
      "[10]\tvalidation_0-rmse:10.1114\tvalidation_1-rmse:10.2391\n",
      "[11]\tvalidation_0-rmse:10.0885\tvalidation_1-rmse:10.2234\n",
      "[12]\tvalidation_0-rmse:10.0688\tvalidation_1-rmse:10.2093\n",
      "[13]\tvalidation_0-rmse:10.0501\tvalidation_1-rmse:10.1964\n",
      "[14]\tvalidation_0-rmse:10.0338\tvalidation_1-rmse:10.1865\n",
      "[15]\tvalidation_0-rmse:10.018\tvalidation_1-rmse:10.1757\n",
      "[16]\tvalidation_0-rmse:10.0032\tvalidation_1-rmse:10.1657\n",
      "[17]\tvalidation_0-rmse:9.99039\tvalidation_1-rmse:10.1576\n",
      "[18]\tvalidation_0-rmse:9.97827\tvalidation_1-rmse:10.1499\n",
      "[19]\tvalidation_0-rmse:9.96608\tvalidation_1-rmse:10.1428\n",
      "[20]\tvalidation_0-rmse:9.95723\tvalidation_1-rmse:10.1371\n",
      "[21]\tvalidation_0-rmse:9.94856\tvalidation_1-rmse:10.1315\n",
      "[22]\tvalidation_0-rmse:9.93869\tvalidation_1-rmse:10.125\n",
      "[23]\tvalidation_0-rmse:9.93074\tvalidation_1-rmse:10.1201\n",
      "[24]\tvalidation_0-rmse:9.92205\tvalidation_1-rmse:10.1159\n",
      "[25]\tvalidation_0-rmse:9.91468\tvalidation_1-rmse:10.1113\n",
      "[26]\tvalidation_0-rmse:9.90728\tvalidation_1-rmse:10.1069\n",
      "[27]\tvalidation_0-rmse:9.90088\tvalidation_1-rmse:10.1033\n",
      "[28]\tvalidation_0-rmse:9.89315\tvalidation_1-rmse:10.0995\n",
      "[29]\tvalidation_0-rmse:9.88672\tvalidation_1-rmse:10.0954\n",
      "[30]\tvalidation_0-rmse:9.87929\tvalidation_1-rmse:10.0901\n",
      "[31]\tvalidation_0-rmse:9.87404\tvalidation_1-rmse:10.0872\n",
      "[32]\tvalidation_0-rmse:9.86884\tvalidation_1-rmse:10.0844\n",
      "[33]\tvalidation_0-rmse:9.8628\tvalidation_1-rmse:10.081\n",
      "[34]\tvalidation_0-rmse:9.85617\tvalidation_1-rmse:10.0774\n",
      "[35]\tvalidation_0-rmse:9.84998\tvalidation_1-rmse:10.0748\n",
      "[36]\tvalidation_0-rmse:9.8451\tvalidation_1-rmse:10.0717\n",
      "[37]\tvalidation_0-rmse:9.8402\tvalidation_1-rmse:10.0687\n",
      "[38]\tvalidation_0-rmse:9.83531\tvalidation_1-rmse:10.0664\n",
      "[39]\tvalidation_0-rmse:9.83007\tvalidation_1-rmse:10.0641\n",
      "[40]\tvalidation_0-rmse:9.82502\tvalidation_1-rmse:10.0618\n",
      "[41]\tvalidation_0-rmse:9.82051\tvalidation_1-rmse:10.06\n",
      "[42]\tvalidation_0-rmse:9.81597\tvalidation_1-rmse:10.0576\n",
      "[43]\tvalidation_0-rmse:9.81131\tvalidation_1-rmse:10.0562\n",
      "[44]\tvalidation_0-rmse:9.80647\tvalidation_1-rmse:10.0548\n",
      "[45]\tvalidation_0-rmse:9.80257\tvalidation_1-rmse:10.0527\n",
      "[46]\tvalidation_0-rmse:9.79887\tvalidation_1-rmse:10.0516\n",
      "[47]\tvalidation_0-rmse:9.79321\tvalidation_1-rmse:10.0494\n",
      "[48]\tvalidation_0-rmse:9.78904\tvalidation_1-rmse:10.0476\n",
      "[49]\tvalidation_0-rmse:9.78416\tvalidation_1-rmse:10.0458\n",
      "[50]\tvalidation_0-rmse:9.78105\tvalidation_1-rmse:10.0442\n",
      "[51]\tvalidation_0-rmse:9.77711\tvalidation_1-rmse:10.0424\n",
      "[52]\tvalidation_0-rmse:9.77344\tvalidation_1-rmse:10.0408\n",
      "[53]\tvalidation_0-rmse:9.76984\tvalidation_1-rmse:10.0393\n",
      "[54]\tvalidation_0-rmse:9.76652\tvalidation_1-rmse:10.0384\n",
      "[55]\tvalidation_0-rmse:9.76288\tvalidation_1-rmse:10.0368\n",
      "[56]\tvalidation_0-rmse:9.75948\tvalidation_1-rmse:10.0356\n",
      "[57]\tvalidation_0-rmse:9.75524\tvalidation_1-rmse:10.0339\n",
      "[58]\tvalidation_0-rmse:9.75127\tvalidation_1-rmse:10.0321\n",
      "[59]\tvalidation_0-rmse:9.74869\tvalidation_1-rmse:10.031\n",
      "[60]\tvalidation_0-rmse:9.74504\tvalidation_1-rmse:10.0295\n",
      "[61]\tvalidation_0-rmse:9.74239\tvalidation_1-rmse:10.0285\n",
      "[62]\tvalidation_0-rmse:9.73973\tvalidation_1-rmse:10.0275\n",
      "[63]\tvalidation_0-rmse:9.73665\tvalidation_1-rmse:10.0268\n",
      "[64]\tvalidation_0-rmse:9.7339\tvalidation_1-rmse:10.0254\n",
      "[65]\tvalidation_0-rmse:9.73122\tvalidation_1-rmse:10.0242\n",
      "[66]\tvalidation_0-rmse:9.72856\tvalidation_1-rmse:10.0235\n",
      "[67]\tvalidation_0-rmse:9.726\tvalidation_1-rmse:10.0226\n",
      "[68]\tvalidation_0-rmse:9.72344\tvalidation_1-rmse:10.0218\n",
      "[69]\tvalidation_0-rmse:9.71968\tvalidation_1-rmse:10.0207\n",
      "[70]\tvalidation_0-rmse:9.71612\tvalidation_1-rmse:10.0191\n",
      "[71]\tvalidation_0-rmse:9.71371\tvalidation_1-rmse:10.018\n",
      "[72]\tvalidation_0-rmse:9.71118\tvalidation_1-rmse:10.0167\n",
      "[73]\tvalidation_0-rmse:9.7094\tvalidation_1-rmse:10.0161\n",
      "[74]\tvalidation_0-rmse:9.7072\tvalidation_1-rmse:10.015\n",
      "[75]\tvalidation_0-rmse:9.70419\tvalidation_1-rmse:10.014\n",
      "[76]\tvalidation_0-rmse:9.70119\tvalidation_1-rmse:10.0132\n",
      "[77]\tvalidation_0-rmse:9.69781\tvalidation_1-rmse:10.0124\n",
      "[78]\tvalidation_0-rmse:9.695\tvalidation_1-rmse:10.0113\n",
      "[79]\tvalidation_0-rmse:9.69316\tvalidation_1-rmse:10.0102\n",
      "[80]\tvalidation_0-rmse:9.68985\tvalidation_1-rmse:10.0089\n",
      "[81]\tvalidation_0-rmse:9.6872\tvalidation_1-rmse:10.0085\n",
      "[82]\tvalidation_0-rmse:9.6846\tvalidation_1-rmse:10.0078\n",
      "[83]\tvalidation_0-rmse:9.68263\tvalidation_1-rmse:10.0068\n",
      "[84]\tvalidation_0-rmse:9.68108\tvalidation_1-rmse:10.0062\n",
      "[85]\tvalidation_0-rmse:9.67824\tvalidation_1-rmse:10.0052\n",
      "[86]\tvalidation_0-rmse:9.67589\tvalidation_1-rmse:10.0041\n",
      "[87]\tvalidation_0-rmse:9.67294\tvalidation_1-rmse:10.0029\n",
      "[88]\tvalidation_0-rmse:9.67053\tvalidation_1-rmse:10.0021\n",
      "[89]\tvalidation_0-rmse:9.66865\tvalidation_1-rmse:10.0012\n",
      "[90]\tvalidation_0-rmse:9.66592\tvalidation_1-rmse:10.0004\n",
      "[91]\tvalidation_0-rmse:9.66331\tvalidation_1-rmse:10.0003\n",
      "[92]\tvalidation_0-rmse:9.66025\tvalidation_1-rmse:9.99907\n",
      "[93]\tvalidation_0-rmse:9.65746\tvalidation_1-rmse:9.99818\n",
      "[94]\tvalidation_0-rmse:9.65589\tvalidation_1-rmse:9.99809\n",
      "[95]\tvalidation_0-rmse:9.65449\tvalidation_1-rmse:9.99776\n",
      "[96]\tvalidation_0-rmse:9.6524\tvalidation_1-rmse:9.99659\n",
      "[97]\tvalidation_0-rmse:9.64994\tvalidation_1-rmse:9.99613\n",
      "[98]\tvalidation_0-rmse:9.6471\tvalidation_1-rmse:9.99534\n",
      "[99]\tvalidation_0-rmse:9.64437\tvalidation_1-rmse:9.99523\n",
      "[100]\tvalidation_0-rmse:9.64234\tvalidation_1-rmse:9.99429\n",
      "[101]\tvalidation_0-rmse:9.64044\tvalidation_1-rmse:9.99382\n",
      "[102]\tvalidation_0-rmse:9.63846\tvalidation_1-rmse:9.99313\n",
      "[103]\tvalidation_0-rmse:9.63692\tvalidation_1-rmse:9.99257\n",
      "[104]\tvalidation_0-rmse:9.63459\tvalidation_1-rmse:9.99189\n",
      "[105]\tvalidation_0-rmse:9.63332\tvalidation_1-rmse:9.99103\n",
      "[106]\tvalidation_0-rmse:9.6311\tvalidation_1-rmse:9.99086\n",
      "[107]\tvalidation_0-rmse:9.62837\tvalidation_1-rmse:9.98989\n",
      "[108]\tvalidation_0-rmse:9.62614\tvalidation_1-rmse:9.98943\n",
      "[109]\tvalidation_0-rmse:9.62467\tvalidation_1-rmse:9.98851\n",
      "[110]\tvalidation_0-rmse:9.62231\tvalidation_1-rmse:9.98784\n",
      "[111]\tvalidation_0-rmse:9.6202\tvalidation_1-rmse:9.98726\n",
      "[112]\tvalidation_0-rmse:9.61813\tvalidation_1-rmse:9.98644\n",
      "[113]\tvalidation_0-rmse:9.61632\tvalidation_1-rmse:9.9861\n",
      "[114]\tvalidation_0-rmse:9.61442\tvalidation_1-rmse:9.98605\n",
      "[115]\tvalidation_0-rmse:9.61271\tvalidation_1-rmse:9.98502\n",
      "[116]\tvalidation_0-rmse:9.61047\tvalidation_1-rmse:9.98469\n",
      "[117]\tvalidation_0-rmse:9.60877\tvalidation_1-rmse:9.98421\n",
      "[118]\tvalidation_0-rmse:9.60719\tvalidation_1-rmse:9.98336\n",
      "[119]\tvalidation_0-rmse:9.60586\tvalidation_1-rmse:9.98306\n",
      "[120]\tvalidation_0-rmse:9.60393\tvalidation_1-rmse:9.98243\n",
      "[121]\tvalidation_0-rmse:9.60178\tvalidation_1-rmse:9.98149\n",
      "[122]\tvalidation_0-rmse:9.60035\tvalidation_1-rmse:9.98103\n",
      "[123]\tvalidation_0-rmse:9.59773\tvalidation_1-rmse:9.98064\n",
      "[124]\tvalidation_0-rmse:9.59607\tvalidation_1-rmse:9.98063\n",
      "[125]\tvalidation_0-rmse:9.59375\tvalidation_1-rmse:9.97988\n",
      "[126]\tvalidation_0-rmse:9.59206\tvalidation_1-rmse:9.97942\n",
      "[127]\tvalidation_0-rmse:9.59019\tvalidation_1-rmse:9.97888\n",
      "[128]\tvalidation_0-rmse:9.58743\tvalidation_1-rmse:9.97857\n",
      "[129]\tvalidation_0-rmse:9.58529\tvalidation_1-rmse:9.97774\n",
      "[130]\tvalidation_0-rmse:9.58421\tvalidation_1-rmse:9.9775\n",
      "[131]\tvalidation_0-rmse:9.5823\tvalidation_1-rmse:9.97724\n",
      "[132]\tvalidation_0-rmse:9.57973\tvalidation_1-rmse:9.97688\n",
      "[133]\tvalidation_0-rmse:9.57882\tvalidation_1-rmse:9.97659\n",
      "[134]\tvalidation_0-rmse:9.57715\tvalidation_1-rmse:9.97611\n",
      "[135]\tvalidation_0-rmse:9.57575\tvalidation_1-rmse:9.97574\n",
      "[136]\tvalidation_0-rmse:9.57356\tvalidation_1-rmse:9.97507\n",
      "[137]\tvalidation_0-rmse:9.5714\tvalidation_1-rmse:9.97501\n",
      "[138]\tvalidation_0-rmse:9.5687\tvalidation_1-rmse:9.97436\n",
      "[139]\tvalidation_0-rmse:9.56703\tvalidation_1-rmse:9.97381\n",
      "[140]\tvalidation_0-rmse:9.56565\tvalidation_1-rmse:9.97368\n",
      "[141]\tvalidation_0-rmse:9.56362\tvalidation_1-rmse:9.97326\n",
      "[142]\tvalidation_0-rmse:9.56149\tvalidation_1-rmse:9.97302\n",
      "[143]\tvalidation_0-rmse:9.56048\tvalidation_1-rmse:9.97259\n",
      "[144]\tvalidation_0-rmse:9.55862\tvalidation_1-rmse:9.97218\n",
      "[145]\tvalidation_0-rmse:9.55691\tvalidation_1-rmse:9.97193\n",
      "[146]\tvalidation_0-rmse:9.5558\tvalidation_1-rmse:9.97213\n",
      "[147]\tvalidation_0-rmse:9.55481\tvalidation_1-rmse:9.9718\n",
      "[148]\tvalidation_0-rmse:9.5535\tvalidation_1-rmse:9.97162\n",
      "[149]\tvalidation_0-rmse:9.55153\tvalidation_1-rmse:9.97085\n",
      "[150]\tvalidation_0-rmse:9.54976\tvalidation_1-rmse:9.97047\n",
      "[151]\tvalidation_0-rmse:9.54779\tvalidation_1-rmse:9.97067\n",
      "[152]\tvalidation_0-rmse:9.5466\tvalidation_1-rmse:9.97042\n",
      "[153]\tvalidation_0-rmse:9.54472\tvalidation_1-rmse:9.97003\n",
      "[154]\tvalidation_0-rmse:9.54383\tvalidation_1-rmse:9.96958\n",
      "[155]\tvalidation_0-rmse:9.54249\tvalidation_1-rmse:9.9692\n",
      "[156]\tvalidation_0-rmse:9.54017\tvalidation_1-rmse:9.96864\n",
      "[157]\tvalidation_0-rmse:9.53832\tvalidation_1-rmse:9.96857\n",
      "[158]\tvalidation_0-rmse:9.53612\tvalidation_1-rmse:9.9679\n",
      "[159]\tvalidation_0-rmse:9.5349\tvalidation_1-rmse:9.96809\n",
      "[160]\tvalidation_0-rmse:9.53359\tvalidation_1-rmse:9.96775\n",
      "[161]\tvalidation_0-rmse:9.53233\tvalidation_1-rmse:9.96735\n",
      "[162]\tvalidation_0-rmse:9.53128\tvalidation_1-rmse:9.96709\n",
      "[163]\tvalidation_0-rmse:9.53029\tvalidation_1-rmse:9.96696\n",
      "[164]\tvalidation_0-rmse:9.52786\tvalidation_1-rmse:9.96666\n",
      "[165]\tvalidation_0-rmse:9.52625\tvalidation_1-rmse:9.9663\n",
      "[166]\tvalidation_0-rmse:9.52416\tvalidation_1-rmse:9.9659\n",
      "[167]\tvalidation_0-rmse:9.52274\tvalidation_1-rmse:9.96578\n",
      "[168]\tvalidation_0-rmse:9.52172\tvalidation_1-rmse:9.96555\n",
      "[169]\tvalidation_0-rmse:9.52031\tvalidation_1-rmse:9.96522\n",
      "[170]\tvalidation_0-rmse:9.51911\tvalidation_1-rmse:9.96514\n",
      "[171]\tvalidation_0-rmse:9.51696\tvalidation_1-rmse:9.96481\n",
      "[172]\tvalidation_0-rmse:9.51576\tvalidation_1-rmse:9.9647\n",
      "[173]\tvalidation_0-rmse:9.51459\tvalidation_1-rmse:9.96448\n",
      "[174]\tvalidation_0-rmse:9.51354\tvalidation_1-rmse:9.96446\n",
      "[175]\tvalidation_0-rmse:9.51184\tvalidation_1-rmse:9.9645\n",
      "[176]\tvalidation_0-rmse:9.51066\tvalidation_1-rmse:9.96432\n",
      "[177]\tvalidation_0-rmse:9.50908\tvalidation_1-rmse:9.96409\n",
      "[178]\tvalidation_0-rmse:9.50819\tvalidation_1-rmse:9.96383\n",
      "[179]\tvalidation_0-rmse:9.50679\tvalidation_1-rmse:9.96313\n",
      "[180]\tvalidation_0-rmse:9.50489\tvalidation_1-rmse:9.963\n",
      "[181]\tvalidation_0-rmse:9.5033\tvalidation_1-rmse:9.96231\n",
      "[182]\tvalidation_0-rmse:9.50173\tvalidation_1-rmse:9.96192\n",
      "[183]\tvalidation_0-rmse:9.50027\tvalidation_1-rmse:9.9617\n",
      "[184]\tvalidation_0-rmse:9.4995\tvalidation_1-rmse:9.96143\n",
      "[185]\tvalidation_0-rmse:9.49848\tvalidation_1-rmse:9.96144\n",
      "[186]\tvalidation_0-rmse:9.49763\tvalidation_1-rmse:9.9614\n",
      "[187]\tvalidation_0-rmse:9.49554\tvalidation_1-rmse:9.96119\n",
      "[188]\tvalidation_0-rmse:9.49456\tvalidation_1-rmse:9.96134\n",
      "[189]\tvalidation_0-rmse:9.49336\tvalidation_1-rmse:9.96125\n",
      "[190]\tvalidation_0-rmse:9.49155\tvalidation_1-rmse:9.9612\n",
      "[191]\tvalidation_0-rmse:9.48941\tvalidation_1-rmse:9.96102\n",
      "[192]\tvalidation_0-rmse:9.48771\tvalidation_1-rmse:9.96098\n",
      "[193]\tvalidation_0-rmse:9.48593\tvalidation_1-rmse:9.96116\n",
      "[194]\tvalidation_0-rmse:9.4843\tvalidation_1-rmse:9.96083\n",
      "[195]\tvalidation_0-rmse:9.48315\tvalidation_1-rmse:9.96069\n",
      "[196]\tvalidation_0-rmse:9.48147\tvalidation_1-rmse:9.9605\n",
      "[197]\tvalidation_0-rmse:9.47984\tvalidation_1-rmse:9.96086\n",
      "[198]\tvalidation_0-rmse:9.47767\tvalidation_1-rmse:9.96049\n",
      "[199]\tvalidation_0-rmse:9.47645\tvalidation_1-rmse:9.96049\n",
      "[200]\tvalidation_0-rmse:9.47538\tvalidation_1-rmse:9.9604\n",
      "[201]\tvalidation_0-rmse:9.47398\tvalidation_1-rmse:9.96024\n",
      "[202]\tvalidation_0-rmse:9.47235\tvalidation_1-rmse:9.96022\n",
      "[203]\tvalidation_0-rmse:9.47145\tvalidation_1-rmse:9.96009\n",
      "[204]\tvalidation_0-rmse:9.47062\tvalidation_1-rmse:9.96039\n",
      "[205]\tvalidation_0-rmse:9.46954\tvalidation_1-rmse:9.95994\n",
      "[206]\tvalidation_0-rmse:9.46829\tvalidation_1-rmse:9.95961\n",
      "[207]\tvalidation_0-rmse:9.46773\tvalidation_1-rmse:9.95941\n",
      "[208]\tvalidation_0-rmse:9.4667\tvalidation_1-rmse:9.95931\n",
      "[209]\tvalidation_0-rmse:9.46595\tvalidation_1-rmse:9.95917\n",
      "[210]\tvalidation_0-rmse:9.46509\tvalidation_1-rmse:9.95872\n",
      "[211]\tvalidation_0-rmse:9.46395\tvalidation_1-rmse:9.95861\n",
      "[212]\tvalidation_0-rmse:9.46279\tvalidation_1-rmse:9.95826\n",
      "[213]\tvalidation_0-rmse:9.46097\tvalidation_1-rmse:9.95784\n",
      "[214]\tvalidation_0-rmse:9.45969\tvalidation_1-rmse:9.95748\n",
      "[215]\tvalidation_0-rmse:9.4582\tvalidation_1-rmse:9.9574\n",
      "[216]\tvalidation_0-rmse:9.45742\tvalidation_1-rmse:9.95733\n",
      "[217]\tvalidation_0-rmse:9.4554\tvalidation_1-rmse:9.95738\n",
      "[218]\tvalidation_0-rmse:9.45322\tvalidation_1-rmse:9.95721\n",
      "[219]\tvalidation_0-rmse:9.45151\tvalidation_1-rmse:9.95699\n",
      "[220]\tvalidation_0-rmse:9.44971\tvalidation_1-rmse:9.95694\n",
      "[221]\tvalidation_0-rmse:9.44834\tvalidation_1-rmse:9.9569\n",
      "[222]\tvalidation_0-rmse:9.44666\tvalidation_1-rmse:9.95675\n",
      "[223]\tvalidation_0-rmse:9.44571\tvalidation_1-rmse:9.9567\n",
      "[224]\tvalidation_0-rmse:9.44499\tvalidation_1-rmse:9.95645\n",
      "[225]\tvalidation_0-rmse:9.44334\tvalidation_1-rmse:9.95611\n",
      "[226]\tvalidation_0-rmse:9.44259\tvalidation_1-rmse:9.95624\n",
      "[227]\tvalidation_0-rmse:9.44147\tvalidation_1-rmse:9.95625\n",
      "[228]\tvalidation_0-rmse:9.44034\tvalidation_1-rmse:9.95605\n",
      "[229]\tvalidation_0-rmse:9.43924\tvalidation_1-rmse:9.95605\n",
      "[230]\tvalidation_0-rmse:9.43831\tvalidation_1-rmse:9.95586\n",
      "[231]\tvalidation_0-rmse:9.43753\tvalidation_1-rmse:9.9556\n",
      "[232]\tvalidation_0-rmse:9.43621\tvalidation_1-rmse:9.95511\n",
      "[233]\tvalidation_0-rmse:9.43513\tvalidation_1-rmse:9.95495\n",
      "[234]\tvalidation_0-rmse:9.43436\tvalidation_1-rmse:9.95496\n",
      "[235]\tvalidation_0-rmse:9.43272\tvalidation_1-rmse:9.9549\n",
      "[236]\tvalidation_0-rmse:9.43125\tvalidation_1-rmse:9.95443\n",
      "[237]\tvalidation_0-rmse:9.43036\tvalidation_1-rmse:9.95408\n",
      "[238]\tvalidation_0-rmse:9.42946\tvalidation_1-rmse:9.95384\n",
      "[239]\tvalidation_0-rmse:9.42856\tvalidation_1-rmse:9.95352\n",
      "[240]\tvalidation_0-rmse:9.42642\tvalidation_1-rmse:9.95344\n",
      "[241]\tvalidation_0-rmse:9.42482\tvalidation_1-rmse:9.95324\n",
      "[242]\tvalidation_0-rmse:9.4234\tvalidation_1-rmse:9.95355\n",
      "[243]\tvalidation_0-rmse:9.42143\tvalidation_1-rmse:9.95273\n",
      "[244]\tvalidation_0-rmse:9.41982\tvalidation_1-rmse:9.95264\n",
      "[245]\tvalidation_0-rmse:9.41913\tvalidation_1-rmse:9.95261\n",
      "[246]\tvalidation_0-rmse:9.41838\tvalidation_1-rmse:9.9526\n",
      "[247]\tvalidation_0-rmse:9.41739\tvalidation_1-rmse:9.95217\n",
      "[248]\tvalidation_0-rmse:9.41594\tvalidation_1-rmse:9.95215\n",
      "[249]\tvalidation_0-rmse:9.41531\tvalidation_1-rmse:9.95222\n",
      "[250]\tvalidation_0-rmse:9.41432\tvalidation_1-rmse:9.95216\n",
      "[251]\tvalidation_0-rmse:9.41285\tvalidation_1-rmse:9.9522\n",
      "[252]\tvalidation_0-rmse:9.41142\tvalidation_1-rmse:9.95228\n",
      "[253]\tvalidation_0-rmse:9.40983\tvalidation_1-rmse:9.95208\n",
      "[254]\tvalidation_0-rmse:9.40842\tvalidation_1-rmse:9.95216\n",
      "[255]\tvalidation_0-rmse:9.40765\tvalidation_1-rmse:9.95237\n",
      "[256]\tvalidation_0-rmse:9.40661\tvalidation_1-rmse:9.95237\n",
      "[257]\tvalidation_0-rmse:9.40586\tvalidation_1-rmse:9.95225\n",
      "[258]\tvalidation_0-rmse:9.40519\tvalidation_1-rmse:9.95203\n",
      "[259]\tvalidation_0-rmse:9.40449\tvalidation_1-rmse:9.95206\n",
      "[260]\tvalidation_0-rmse:9.40348\tvalidation_1-rmse:9.95217\n",
      "[261]\tvalidation_0-rmse:9.4027\tvalidation_1-rmse:9.95226\n",
      "[262]\tvalidation_0-rmse:9.40201\tvalidation_1-rmse:9.95198\n",
      "[263]\tvalidation_0-rmse:9.40067\tvalidation_1-rmse:9.95196\n",
      "[264]\tvalidation_0-rmse:9.39973\tvalidation_1-rmse:9.95169\n",
      "[265]\tvalidation_0-rmse:9.39878\tvalidation_1-rmse:9.95178\n",
      "[266]\tvalidation_0-rmse:9.39813\tvalidation_1-rmse:9.95162\n",
      "[267]\tvalidation_0-rmse:9.3971\tvalidation_1-rmse:9.95176\n",
      "[268]\tvalidation_0-rmse:9.39609\tvalidation_1-rmse:9.95161\n",
      "[269]\tvalidation_0-rmse:9.39493\tvalidation_1-rmse:9.9516\n",
      "[270]\tvalidation_0-rmse:9.3939\tvalidation_1-rmse:9.95144\n",
      "[271]\tvalidation_0-rmse:9.39213\tvalidation_1-rmse:9.95184\n",
      "[272]\tvalidation_0-rmse:9.38921\tvalidation_1-rmse:9.95128\n",
      "[273]\tvalidation_0-rmse:9.38863\tvalidation_1-rmse:9.95134\n",
      "[274]\tvalidation_0-rmse:9.38672\tvalidation_1-rmse:9.9515\n",
      "[275]\tvalidation_0-rmse:9.38599\tvalidation_1-rmse:9.9515\n",
      "[276]\tvalidation_0-rmse:9.38436\tvalidation_1-rmse:9.95161\n",
      "[277]\tvalidation_0-rmse:9.38305\tvalidation_1-rmse:9.9513\n",
      "[278]\tvalidation_0-rmse:9.38093\tvalidation_1-rmse:9.95162\n",
      "[279]\tvalidation_0-rmse:9.38024\tvalidation_1-rmse:9.95168\n",
      "[280]\tvalidation_0-rmse:9.37933\tvalidation_1-rmse:9.95173\n",
      "[281]\tvalidation_0-rmse:9.37806\tvalidation_1-rmse:9.95157\n",
      "[282]\tvalidation_0-rmse:9.37704\tvalidation_1-rmse:9.9512\n",
      "[283]\tvalidation_0-rmse:9.3762\tvalidation_1-rmse:9.95094\n",
      "[284]\tvalidation_0-rmse:9.37535\tvalidation_1-rmse:9.95078\n",
      "[285]\tvalidation_0-rmse:9.37466\tvalidation_1-rmse:9.95053\n",
      "[286]\tvalidation_0-rmse:9.37312\tvalidation_1-rmse:9.95037\n",
      "[287]\tvalidation_0-rmse:9.37186\tvalidation_1-rmse:9.95047\n",
      "[288]\tvalidation_0-rmse:9.37007\tvalidation_1-rmse:9.95026\n",
      "[289]\tvalidation_0-rmse:9.36926\tvalidation_1-rmse:9.95038\n",
      "[290]\tvalidation_0-rmse:9.36766\tvalidation_1-rmse:9.95026\n",
      "[291]\tvalidation_0-rmse:9.3668\tvalidation_1-rmse:9.95016\n",
      "[292]\tvalidation_0-rmse:9.36605\tvalidation_1-rmse:9.9499\n",
      "[293]\tvalidation_0-rmse:9.36487\tvalidation_1-rmse:9.94962\n",
      "[294]\tvalidation_0-rmse:9.3638\tvalidation_1-rmse:9.94955\n",
      "[295]\tvalidation_0-rmse:9.3632\tvalidation_1-rmse:9.94954\n",
      "[296]\tvalidation_0-rmse:9.3624\tvalidation_1-rmse:9.94961\n",
      "[297]\tvalidation_0-rmse:9.36106\tvalidation_1-rmse:9.9494\n",
      "[298]\tvalidation_0-rmse:9.36038\tvalidation_1-rmse:9.94935\n",
      "[299]\tvalidation_0-rmse:9.35984\tvalidation_1-rmse:9.94942\n",
      "[300]\tvalidation_0-rmse:9.35823\tvalidation_1-rmse:9.9495\n",
      "[301]\tvalidation_0-rmse:9.35697\tvalidation_1-rmse:9.95002\n",
      "[302]\tvalidation_0-rmse:9.35607\tvalidation_1-rmse:9.95002\n",
      "[303]\tvalidation_0-rmse:9.35426\tvalidation_1-rmse:9.95016\n",
      "[304]\tvalidation_0-rmse:9.35345\tvalidation_1-rmse:9.95013\n",
      "[305]\tvalidation_0-rmse:9.35292\tvalidation_1-rmse:9.95003\n",
      "[306]\tvalidation_0-rmse:9.35229\tvalidation_1-rmse:9.95002\n",
      "[307]\tvalidation_0-rmse:9.35089\tvalidation_1-rmse:9.95005\n",
      "[308]\tvalidation_0-rmse:9.34998\tvalidation_1-rmse:9.95002\n",
      "[309]\tvalidation_0-rmse:9.34945\tvalidation_1-rmse:9.95\n",
      "[310]\tvalidation_0-rmse:9.34852\tvalidation_1-rmse:9.95004\n",
      "[311]\tvalidation_0-rmse:9.34772\tvalidation_1-rmse:9.94991\n",
      "[312]\tvalidation_0-rmse:9.34717\tvalidation_1-rmse:9.94973\n",
      "[313]\tvalidation_0-rmse:9.34639\tvalidation_1-rmse:9.94961\n",
      "[314]\tvalidation_0-rmse:9.34578\tvalidation_1-rmse:9.94953\n",
      "[315]\tvalidation_0-rmse:9.34384\tvalidation_1-rmse:9.94897\n",
      "[316]\tvalidation_0-rmse:9.34265\tvalidation_1-rmse:9.94909\n",
      "[317]\tvalidation_0-rmse:9.34215\tvalidation_1-rmse:9.94931\n",
      "[318]\tvalidation_0-rmse:9.34154\tvalidation_1-rmse:9.94927\n",
      "[319]\tvalidation_0-rmse:9.34106\tvalidation_1-rmse:9.94934\n",
      "[320]\tvalidation_0-rmse:9.34042\tvalidation_1-rmse:9.94914\n",
      "[321]\tvalidation_0-rmse:9.33973\tvalidation_1-rmse:9.94916\n",
      "[322]\tvalidation_0-rmse:9.33827\tvalidation_1-rmse:9.94902\n",
      "[323]\tvalidation_0-rmse:9.33709\tvalidation_1-rmse:9.94926\n",
      "[324]\tvalidation_0-rmse:9.33589\tvalidation_1-rmse:9.94923\n",
      "[325]\tvalidation_0-rmse:9.33528\tvalidation_1-rmse:9.94927\n",
      "[326]\tvalidation_0-rmse:9.33447\tvalidation_1-rmse:9.94919\n",
      "[327]\tvalidation_0-rmse:9.33335\tvalidation_1-rmse:9.94897\n",
      "[328]\tvalidation_0-rmse:9.33233\tvalidation_1-rmse:9.94939\n",
      "[329]\tvalidation_0-rmse:9.33151\tvalidation_1-rmse:9.94911\n",
      "[330]\tvalidation_0-rmse:9.33066\tvalidation_1-rmse:9.94888\n",
      "[331]\tvalidation_0-rmse:9.32925\tvalidation_1-rmse:9.94897\n",
      "[332]\tvalidation_0-rmse:9.32769\tvalidation_1-rmse:9.94871\n",
      "[333]\tvalidation_0-rmse:9.32686\tvalidation_1-rmse:9.94893\n",
      "[334]\tvalidation_0-rmse:9.32634\tvalidation_1-rmse:9.94902\n",
      "[335]\tvalidation_0-rmse:9.32573\tvalidation_1-rmse:9.94905\n",
      "[336]\tvalidation_0-rmse:9.32533\tvalidation_1-rmse:9.94892\n",
      "[337]\tvalidation_0-rmse:9.32487\tvalidation_1-rmse:9.94885\n",
      "[338]\tvalidation_0-rmse:9.32332\tvalidation_1-rmse:9.94885\n",
      "[339]\tvalidation_0-rmse:9.32288\tvalidation_1-rmse:9.94895\n",
      "[340]\tvalidation_0-rmse:9.3222\tvalidation_1-rmse:9.94927\n",
      "[341]\tvalidation_0-rmse:9.32097\tvalidation_1-rmse:9.94911\n",
      "[342]\tvalidation_0-rmse:9.32007\tvalidation_1-rmse:9.94883\n",
      "[343]\tvalidation_0-rmse:9.31847\tvalidation_1-rmse:9.94863\n",
      "[344]\tvalidation_0-rmse:9.31797\tvalidation_1-rmse:9.94881\n",
      "[345]\tvalidation_0-rmse:9.3174\tvalidation_1-rmse:9.94865\n",
      "[346]\tvalidation_0-rmse:9.31661\tvalidation_1-rmse:9.94886\n",
      "[347]\tvalidation_0-rmse:9.31532\tvalidation_1-rmse:9.94889\n",
      "[348]\tvalidation_0-rmse:9.31454\tvalidation_1-rmse:9.94905\n",
      "[349]\tvalidation_0-rmse:9.31306\tvalidation_1-rmse:9.9491\n",
      "[350]\tvalidation_0-rmse:9.31207\tvalidation_1-rmse:9.94916\n",
      "[351]\tvalidation_0-rmse:9.31124\tvalidation_1-rmse:9.94924\n",
      "[352]\tvalidation_0-rmse:9.31032\tvalidation_1-rmse:9.94918\n",
      "[353]\tvalidation_0-rmse:9.30973\tvalidation_1-rmse:9.94905\n",
      "[354]\tvalidation_0-rmse:9.30903\tvalidation_1-rmse:9.9491\n",
      "[355]\tvalidation_0-rmse:9.30864\tvalidation_1-rmse:9.94901\n",
      "[356]\tvalidation_0-rmse:9.30827\tvalidation_1-rmse:9.9489\n",
      "[357]\tvalidation_0-rmse:9.30742\tvalidation_1-rmse:9.94894\n",
      "[358]\tvalidation_0-rmse:9.30647\tvalidation_1-rmse:9.94868\n",
      "[359]\tvalidation_0-rmse:9.30521\tvalidation_1-rmse:9.94871\n",
      "[360]\tvalidation_0-rmse:9.30448\tvalidation_1-rmse:9.94872\n",
      "[361]\tvalidation_0-rmse:9.30387\tvalidation_1-rmse:9.94906\n",
      "[362]\tvalidation_0-rmse:9.30276\tvalidation_1-rmse:9.94898\n",
      "[363]\tvalidation_0-rmse:9.30163\tvalidation_1-rmse:9.94911\n",
      "[364]\tvalidation_0-rmse:9.30079\tvalidation_1-rmse:9.94889\n",
      "[365]\tvalidation_0-rmse:9.29911\tvalidation_1-rmse:9.9491\n",
      "[366]\tvalidation_0-rmse:9.29822\tvalidation_1-rmse:9.94912\n",
      "[367]\tvalidation_0-rmse:9.29724\tvalidation_1-rmse:9.94931\n",
      "[368]\tvalidation_0-rmse:9.29649\tvalidation_1-rmse:9.94925\n",
      "[369]\tvalidation_0-rmse:9.29595\tvalidation_1-rmse:9.94931\n",
      "[370]\tvalidation_0-rmse:9.29492\tvalidation_1-rmse:9.94906\n",
      "[371]\tvalidation_0-rmse:9.29387\tvalidation_1-rmse:9.94928\n",
      "[372]\tvalidation_0-rmse:9.29337\tvalidation_1-rmse:9.94929\n",
      "[373]\tvalidation_0-rmse:9.29215\tvalidation_1-rmse:9.94919\n",
      "[374]\tvalidation_0-rmse:9.29168\tvalidation_1-rmse:9.94925\n",
      "[375]\tvalidation_0-rmse:9.29116\tvalidation_1-rmse:9.94894\n",
      "[376]\tvalidation_0-rmse:9.29019\tvalidation_1-rmse:9.94863\n",
      "[377]\tvalidation_0-rmse:9.28962\tvalidation_1-rmse:9.94849\n",
      "[378]\tvalidation_0-rmse:9.28922\tvalidation_1-rmse:9.94849\n",
      "[379]\tvalidation_0-rmse:9.2881\tvalidation_1-rmse:9.94852\n",
      "[380]\tvalidation_0-rmse:9.28766\tvalidation_1-rmse:9.94857\n",
      "[381]\tvalidation_0-rmse:9.28694\tvalidation_1-rmse:9.94869\n",
      "[382]\tvalidation_0-rmse:9.28614\tvalidation_1-rmse:9.94849\n",
      "[383]\tvalidation_0-rmse:9.2849\tvalidation_1-rmse:9.94833\n",
      "[384]\tvalidation_0-rmse:9.28392\tvalidation_1-rmse:9.94826\n",
      "[385]\tvalidation_0-rmse:9.28288\tvalidation_1-rmse:9.94852\n",
      "[386]\tvalidation_0-rmse:9.28149\tvalidation_1-rmse:9.94838\n",
      "[387]\tvalidation_0-rmse:9.28029\tvalidation_1-rmse:9.94838\n",
      "[388]\tvalidation_0-rmse:9.27991\tvalidation_1-rmse:9.94837\n",
      "[389]\tvalidation_0-rmse:9.27889\tvalidation_1-rmse:9.94819\n",
      "[390]\tvalidation_0-rmse:9.2783\tvalidation_1-rmse:9.94811\n",
      "[391]\tvalidation_0-rmse:9.27718\tvalidation_1-rmse:9.94783\n",
      "[392]\tvalidation_0-rmse:9.27665\tvalidation_1-rmse:9.94782\n",
      "[393]\tvalidation_0-rmse:9.27572\tvalidation_1-rmse:9.9477\n",
      "[394]\tvalidation_0-rmse:9.27486\tvalidation_1-rmse:9.94741\n",
      "[395]\tvalidation_0-rmse:9.27357\tvalidation_1-rmse:9.94741\n",
      "[396]\tvalidation_0-rmse:9.27321\tvalidation_1-rmse:9.94735\n",
      "[397]\tvalidation_0-rmse:9.27124\tvalidation_1-rmse:9.94754\n",
      "[398]\tvalidation_0-rmse:9.27051\tvalidation_1-rmse:9.94756\n",
      "[399]\tvalidation_0-rmse:9.26921\tvalidation_1-rmse:9.94771\n"
     ]
    },
    {
     "data": {
      "text/plain": [
       "XGBRegressor(base_score=0.5, colsample_bylevel=1, colsample_bytree=1, gamma=0,\n",
       "       learning_rate=0.1, max_delta_step=0, max_depth=6,\n",
       "       min_child_weight=100, missing=None, n_estimators=400, nthread=-1,\n",
       "       objective='reg:linear', reg_alpha=0, reg_lambda=0.05,\n",
       "       scale_pos_weight=1, seed=0, silent=False, subsample=1)"
      ]
     },
     "execution_count": 139,
     "metadata": {},
     "output_type": "execute_result"
    }
   ],
   "source": [
    "bst_urls = xgb.XGBRegressor(n_estimators=400, max_depth=6, learning_rate=0.1, silent = False, reg_lambda=0.05, min_child_weight=100)\n",
    "bst_urls.fit(X_urls[itrain], y[itrain], \n",
    "             eval_set = [(X_urls[itrain], y[itrain]),(X_urls[itest], y[itest])], \n",
    "             eval_metric='rmse', verbose=True)"
   ]
  },
  {
   "cell_type": "code",
   "execution_count": 141,
   "metadata": {
    "collapsed": false
   },
   "outputs": [
    {
     "name": "stdout",
     "output_type": "stream",
     "text": [
      "9.26921058975\n",
      "9.94770848737\n"
     ]
    }
   ],
   "source": [
    "print rmse(y[itrain], bst_urls.predict(X_urls[itrain]))\n",
    "pred_urls = bst_urls.predict(X_urls[itest])\n",
    "\n",
    "print rmse(y[itest], pred_urls)"
   ]
  },
  {
   "cell_type": "code",
   "execution_count": 245,
   "metadata": {
    "collapsed": false,
    "scrolled": true
   },
   "outputs": [
    {
     "name": "stdout",
     "output_type": "stream",
     "text": [
      "[0]\tvalidation_0-rmse:10.6248\tvalidation_1-rmse:10.6798\n",
      "[1]\tvalidation_0-rmse:10.5369\tvalidation_1-rmse:10.6029\n",
      "[2]\tvalidation_0-rmse:10.4625\tvalidation_1-rmse:10.541\n",
      "[3]\tvalidation_0-rmse:10.3956\tvalidation_1-rmse:10.4863\n",
      "[4]\tvalidation_0-rmse:10.338\tvalidation_1-rmse:10.4405\n",
      "[5]\tvalidation_0-rmse:10.289\tvalidation_1-rmse:10.4011\n",
      "[6]\tvalidation_0-rmse:10.2472\tvalidation_1-rmse:10.3701\n",
      "[7]\tvalidation_0-rmse:10.2099\tvalidation_1-rmse:10.3423\n",
      "[8]\tvalidation_0-rmse:10.1764\tvalidation_1-rmse:10.3177\n",
      "[9]\tvalidation_0-rmse:10.1427\tvalidation_1-rmse:10.2944\n",
      "[10]\tvalidation_0-rmse:10.1117\tvalidation_1-rmse:10.2734\n",
      "[11]\tvalidation_0-rmse:10.0838\tvalidation_1-rmse:10.2552\n",
      "[12]\tvalidation_0-rmse:10.0599\tvalidation_1-rmse:10.2409\n",
      "[13]\tvalidation_0-rmse:10.0384\tvalidation_1-rmse:10.2286\n",
      "[14]\tvalidation_0-rmse:10.018\tvalidation_1-rmse:10.2165\n",
      "[15]\tvalidation_0-rmse:10.0008\tvalidation_1-rmse:10.2061\n",
      "[16]\tvalidation_0-rmse:9.98318\tvalidation_1-rmse:10.1958\n",
      "[17]\tvalidation_0-rmse:9.96393\tvalidation_1-rmse:10.1863\n",
      "[18]\tvalidation_0-rmse:9.94918\tvalidation_1-rmse:10.1791\n",
      "[19]\tvalidation_0-rmse:9.93639\tvalidation_1-rmse:10.1726\n",
      "[20]\tvalidation_0-rmse:9.92115\tvalidation_1-rmse:10.165\n",
      "[21]\tvalidation_0-rmse:9.90592\tvalidation_1-rmse:10.1591\n",
      "[22]\tvalidation_0-rmse:9.8921\tvalidation_1-rmse:10.1525\n",
      "[23]\tvalidation_0-rmse:9.88107\tvalidation_1-rmse:10.1473\n",
      "[24]\tvalidation_0-rmse:9.86889\tvalidation_1-rmse:10.1423\n",
      "[25]\tvalidation_0-rmse:9.8579\tvalidation_1-rmse:10.1373\n",
      "[26]\tvalidation_0-rmse:9.84517\tvalidation_1-rmse:10.1323\n",
      "[27]\tvalidation_0-rmse:9.83452\tvalidation_1-rmse:10.1277\n",
      "[28]\tvalidation_0-rmse:9.8271\tvalidation_1-rmse:10.1239\n",
      "[29]\tvalidation_0-rmse:9.81701\tvalidation_1-rmse:10.119\n",
      "[30]\tvalidation_0-rmse:9.80665\tvalidation_1-rmse:10.1149\n",
      "[31]\tvalidation_0-rmse:9.79851\tvalidation_1-rmse:10.1102\n",
      "[32]\tvalidation_0-rmse:9.79114\tvalidation_1-rmse:10.1062\n",
      "[33]\tvalidation_0-rmse:9.78176\tvalidation_1-rmse:10.1034\n",
      "[34]\tvalidation_0-rmse:9.77585\tvalidation_1-rmse:10.1006\n",
      "[35]\tvalidation_0-rmse:9.76756\tvalidation_1-rmse:10.0978\n",
      "[36]\tvalidation_0-rmse:9.75873\tvalidation_1-rmse:10.0949\n",
      "[37]\tvalidation_0-rmse:9.74891\tvalidation_1-rmse:10.0911\n",
      "[38]\tvalidation_0-rmse:9.74034\tvalidation_1-rmse:10.0877\n",
      "[39]\tvalidation_0-rmse:9.73191\tvalidation_1-rmse:10.0851\n",
      "[40]\tvalidation_0-rmse:9.72612\tvalidation_1-rmse:10.083\n",
      "[41]\tvalidation_0-rmse:9.71938\tvalidation_1-rmse:10.0816\n",
      "[42]\tvalidation_0-rmse:9.7129\tvalidation_1-rmse:10.0788\n",
      "[43]\tvalidation_0-rmse:9.7055\tvalidation_1-rmse:10.0769\n",
      "[44]\tvalidation_0-rmse:9.69779\tvalidation_1-rmse:10.0741\n",
      "[45]\tvalidation_0-rmse:9.69028\tvalidation_1-rmse:10.0712\n",
      "[46]\tvalidation_0-rmse:9.68341\tvalidation_1-rmse:10.0682\n",
      "[47]\tvalidation_0-rmse:9.67774\tvalidation_1-rmse:10.0659\n",
      "[48]\tvalidation_0-rmse:9.6718\tvalidation_1-rmse:10.0641\n",
      "[49]\tvalidation_0-rmse:9.66475\tvalidation_1-rmse:10.0622\n",
      "[50]\tvalidation_0-rmse:9.65586\tvalidation_1-rmse:10.0601\n",
      "[51]\tvalidation_0-rmse:9.64776\tvalidation_1-rmse:10.0569\n",
      "[52]\tvalidation_0-rmse:9.63923\tvalidation_1-rmse:10.0541\n",
      "[53]\tvalidation_0-rmse:9.6351\tvalidation_1-rmse:10.053\n",
      "[54]\tvalidation_0-rmse:9.62786\tvalidation_1-rmse:10.0516\n",
      "[55]\tvalidation_0-rmse:9.61957\tvalidation_1-rmse:10.0498\n",
      "[56]\tvalidation_0-rmse:9.61507\tvalidation_1-rmse:10.0485\n",
      "[57]\tvalidation_0-rmse:9.61048\tvalidation_1-rmse:10.0477\n",
      "[58]\tvalidation_0-rmse:9.60462\tvalidation_1-rmse:10.0453\n",
      "[59]\tvalidation_0-rmse:9.60145\tvalidation_1-rmse:10.0445\n",
      "[60]\tvalidation_0-rmse:9.59451\tvalidation_1-rmse:10.043\n",
      "[61]\tvalidation_0-rmse:9.58851\tvalidation_1-rmse:10.0419\n",
      "[62]\tvalidation_0-rmse:9.58325\tvalidation_1-rmse:10.04\n",
      "[63]\tvalidation_0-rmse:9.57682\tvalidation_1-rmse:10.0379\n",
      "[64]\tvalidation_0-rmse:9.57109\tvalidation_1-rmse:10.0352\n",
      "[65]\tvalidation_0-rmse:9.56664\tvalidation_1-rmse:10.034\n",
      "[66]\tvalidation_0-rmse:9.5601\tvalidation_1-rmse:10.0328\n",
      "[67]\tvalidation_0-rmse:9.55469\tvalidation_1-rmse:10.0321\n",
      "[68]\tvalidation_0-rmse:9.55077\tvalidation_1-rmse:10.0316\n",
      "[69]\tvalidation_0-rmse:9.54638\tvalidation_1-rmse:10.0305\n",
      "[70]\tvalidation_0-rmse:9.54125\tvalidation_1-rmse:10.0298\n",
      "[71]\tvalidation_0-rmse:9.5382\tvalidation_1-rmse:10.0287\n",
      "[72]\tvalidation_0-rmse:9.53214\tvalidation_1-rmse:10.0284\n",
      "[73]\tvalidation_0-rmse:9.52747\tvalidation_1-rmse:10.0272\n",
      "[74]\tvalidation_0-rmse:9.5226\tvalidation_1-rmse:10.0264\n",
      "[75]\tvalidation_0-rmse:9.51744\tvalidation_1-rmse:10.0261\n",
      "[76]\tvalidation_0-rmse:9.51014\tvalidation_1-rmse:10.0246\n",
      "[77]\tvalidation_0-rmse:9.50448\tvalidation_1-rmse:10.0232\n",
      "[78]\tvalidation_0-rmse:9.50128\tvalidation_1-rmse:10.0226\n",
      "[79]\tvalidation_0-rmse:9.49598\tvalidation_1-rmse:10.0211\n",
      "[80]\tvalidation_0-rmse:9.49249\tvalidation_1-rmse:10.0205\n",
      "[81]\tvalidation_0-rmse:9.48748\tvalidation_1-rmse:10.0192\n",
      "[82]\tvalidation_0-rmse:9.48392\tvalidation_1-rmse:10.0189\n",
      "[83]\tvalidation_0-rmse:9.47939\tvalidation_1-rmse:10.0178\n",
      "[84]\tvalidation_0-rmse:9.47652\tvalidation_1-rmse:10.0166\n",
      "[85]\tvalidation_0-rmse:9.47048\tvalidation_1-rmse:10.0144\n",
      "[86]\tvalidation_0-rmse:9.46653\tvalidation_1-rmse:10.0132\n",
      "[87]\tvalidation_0-rmse:9.46435\tvalidation_1-rmse:10.0132\n",
      "[88]\tvalidation_0-rmse:9.46019\tvalidation_1-rmse:10.0122\n",
      "[89]\tvalidation_0-rmse:9.45609\tvalidation_1-rmse:10.0115\n",
      "[90]\tvalidation_0-rmse:9.45264\tvalidation_1-rmse:10.0106\n",
      "[91]\tvalidation_0-rmse:9.44566\tvalidation_1-rmse:10.0098\n",
      "[92]\tvalidation_0-rmse:9.44121\tvalidation_1-rmse:10.0085\n",
      "[93]\tvalidation_0-rmse:9.43544\tvalidation_1-rmse:10.0072\n",
      "[94]\tvalidation_0-rmse:9.43073\tvalidation_1-rmse:10.006\n",
      "[95]\tvalidation_0-rmse:9.42801\tvalidation_1-rmse:10.0053\n",
      "[96]\tvalidation_0-rmse:9.42449\tvalidation_1-rmse:10.0056\n",
      "[97]\tvalidation_0-rmse:9.42038\tvalidation_1-rmse:10.0048\n",
      "[98]\tvalidation_0-rmse:9.41748\tvalidation_1-rmse:10.005\n",
      "[99]\tvalidation_0-rmse:9.4118\tvalidation_1-rmse:10.0034\n",
      "[100]\tvalidation_0-rmse:9.40919\tvalidation_1-rmse:10.0031\n",
      "[101]\tvalidation_0-rmse:9.40698\tvalidation_1-rmse:10.003\n",
      "[102]\tvalidation_0-rmse:9.40329\tvalidation_1-rmse:10.0022\n",
      "[103]\tvalidation_0-rmse:9.39919\tvalidation_1-rmse:10.0006\n",
      "[104]\tvalidation_0-rmse:9.39542\tvalidation_1-rmse:10.0001\n",
      "[105]\tvalidation_0-rmse:9.39007\tvalidation_1-rmse:9.99856\n",
      "[106]\tvalidation_0-rmse:9.38705\tvalidation_1-rmse:9.99813\n",
      "[107]\tvalidation_0-rmse:9.38415\tvalidation_1-rmse:9.99788\n",
      "[108]\tvalidation_0-rmse:9.37971\tvalidation_1-rmse:9.99706\n",
      "[109]\tvalidation_0-rmse:9.3774\tvalidation_1-rmse:9.99622\n",
      "[110]\tvalidation_0-rmse:9.37353\tvalidation_1-rmse:9.99533\n",
      "[111]\tvalidation_0-rmse:9.36962\tvalidation_1-rmse:9.99463\n",
      "[112]\tvalidation_0-rmse:9.36557\tvalidation_1-rmse:9.99376\n",
      "[113]\tvalidation_0-rmse:9.36201\tvalidation_1-rmse:9.99375\n",
      "[114]\tvalidation_0-rmse:9.36023\tvalidation_1-rmse:9.99369\n",
      "[115]\tvalidation_0-rmse:9.35707\tvalidation_1-rmse:9.99276\n",
      "[116]\tvalidation_0-rmse:9.3552\tvalidation_1-rmse:9.99233\n",
      "[117]\tvalidation_0-rmse:9.34997\tvalidation_1-rmse:9.9922\n",
      "[118]\tvalidation_0-rmse:9.34807\tvalidation_1-rmse:9.99196\n",
      "[119]\tvalidation_0-rmse:9.34359\tvalidation_1-rmse:9.99122\n",
      "[120]\tvalidation_0-rmse:9.33952\tvalidation_1-rmse:9.99094\n",
      "[121]\tvalidation_0-rmse:9.33633\tvalidation_1-rmse:9.99027\n",
      "[122]\tvalidation_0-rmse:9.33382\tvalidation_1-rmse:9.98969\n",
      "[123]\tvalidation_0-rmse:9.33008\tvalidation_1-rmse:9.98905\n",
      "[124]\tvalidation_0-rmse:9.32789\tvalidation_1-rmse:9.98849\n",
      "[125]\tvalidation_0-rmse:9.3243\tvalidation_1-rmse:9.98768\n",
      "[126]\tvalidation_0-rmse:9.32086\tvalidation_1-rmse:9.98718\n",
      "[127]\tvalidation_0-rmse:9.3191\tvalidation_1-rmse:9.98691\n",
      "[128]\tvalidation_0-rmse:9.31746\tvalidation_1-rmse:9.98681\n",
      "[129]\tvalidation_0-rmse:9.31564\tvalidation_1-rmse:9.98653\n",
      "[130]\tvalidation_0-rmse:9.31097\tvalidation_1-rmse:9.98649\n",
      "[131]\tvalidation_0-rmse:9.30724\tvalidation_1-rmse:9.98565\n",
      "[132]\tvalidation_0-rmse:9.30231\tvalidation_1-rmse:9.98388\n",
      "[133]\tvalidation_0-rmse:9.29908\tvalidation_1-rmse:9.98381\n",
      "[134]\tvalidation_0-rmse:9.29816\tvalidation_1-rmse:9.98352\n",
      "[135]\tvalidation_0-rmse:9.29602\tvalidation_1-rmse:9.98274\n",
      "[136]\tvalidation_0-rmse:9.29121\tvalidation_1-rmse:9.98204\n",
      "[137]\tvalidation_0-rmse:9.28765\tvalidation_1-rmse:9.98119\n",
      "[138]\tvalidation_0-rmse:9.28396\tvalidation_1-rmse:9.98015\n",
      "[139]\tvalidation_0-rmse:9.28047\tvalidation_1-rmse:9.97955\n",
      "[140]\tvalidation_0-rmse:9.2774\tvalidation_1-rmse:9.97948\n",
      "[141]\tvalidation_0-rmse:9.27464\tvalidation_1-rmse:9.97928\n",
      "[142]\tvalidation_0-rmse:9.27261\tvalidation_1-rmse:9.97924\n",
      "[143]\tvalidation_0-rmse:9.27177\tvalidation_1-rmse:9.97921\n",
      "[144]\tvalidation_0-rmse:9.26521\tvalidation_1-rmse:9.97892\n",
      "[145]\tvalidation_0-rmse:9.26015\tvalidation_1-rmse:9.9784\n",
      "[146]\tvalidation_0-rmse:9.25744\tvalidation_1-rmse:9.97787\n",
      "[147]\tvalidation_0-rmse:9.25553\tvalidation_1-rmse:9.97772\n",
      "[148]\tvalidation_0-rmse:9.25274\tvalidation_1-rmse:9.9773\n",
      "[149]\tvalidation_0-rmse:9.24983\tvalidation_1-rmse:9.97691\n",
      "[150]\tvalidation_0-rmse:9.24737\tvalidation_1-rmse:9.97694\n",
      "[151]\tvalidation_0-rmse:9.24629\tvalidation_1-rmse:9.97718\n",
      "[152]\tvalidation_0-rmse:9.24232\tvalidation_1-rmse:9.9771\n",
      "[153]\tvalidation_0-rmse:9.24091\tvalidation_1-rmse:9.97677\n",
      "[154]\tvalidation_0-rmse:9.23751\tvalidation_1-rmse:9.97645\n",
      "[155]\tvalidation_0-rmse:9.23568\tvalidation_1-rmse:9.97624\n",
      "[156]\tvalidation_0-rmse:9.23184\tvalidation_1-rmse:9.97538\n",
      "[157]\tvalidation_0-rmse:9.23069\tvalidation_1-rmse:9.97516\n",
      "[158]\tvalidation_0-rmse:9.22906\tvalidation_1-rmse:9.97501\n",
      "[159]\tvalidation_0-rmse:9.22743\tvalidation_1-rmse:9.97493\n",
      "[160]\tvalidation_0-rmse:9.22607\tvalidation_1-rmse:9.97524\n",
      "[161]\tvalidation_0-rmse:9.22234\tvalidation_1-rmse:9.97512\n",
      "[162]\tvalidation_0-rmse:9.21813\tvalidation_1-rmse:9.9747\n",
      "[163]\tvalidation_0-rmse:9.2162\tvalidation_1-rmse:9.97417\n",
      "[164]\tvalidation_0-rmse:9.21124\tvalidation_1-rmse:9.97437\n",
      "[165]\tvalidation_0-rmse:9.20874\tvalidation_1-rmse:9.97429\n",
      "[166]\tvalidation_0-rmse:9.20571\tvalidation_1-rmse:9.97402\n",
      "[167]\tvalidation_0-rmse:9.2041\tvalidation_1-rmse:9.97382\n",
      "[168]\tvalidation_0-rmse:9.20191\tvalidation_1-rmse:9.97395\n",
      "[169]\tvalidation_0-rmse:9.19872\tvalidation_1-rmse:9.97395\n",
      "[170]\tvalidation_0-rmse:9.19715\tvalidation_1-rmse:9.97403\n",
      "[171]\tvalidation_0-rmse:9.19506\tvalidation_1-rmse:9.97411\n",
      "[172]\tvalidation_0-rmse:9.1905\tvalidation_1-rmse:9.97375\n",
      "[173]\tvalidation_0-rmse:9.18775\tvalidation_1-rmse:9.97328\n",
      "[174]\tvalidation_0-rmse:9.18483\tvalidation_1-rmse:9.97255\n",
      "[175]\tvalidation_0-rmse:9.18114\tvalidation_1-rmse:9.97235\n",
      "[176]\tvalidation_0-rmse:9.17919\tvalidation_1-rmse:9.97198\n",
      "[177]\tvalidation_0-rmse:9.17772\tvalidation_1-rmse:9.97215\n",
      "[178]\tvalidation_0-rmse:9.17676\tvalidation_1-rmse:9.97235\n",
      "[179]\tvalidation_0-rmse:9.17209\tvalidation_1-rmse:9.97234\n",
      "[180]\tvalidation_0-rmse:9.17047\tvalidation_1-rmse:9.97226\n",
      "[181]\tvalidation_0-rmse:9.16879\tvalidation_1-rmse:9.97218\n",
      "[182]\tvalidation_0-rmse:9.16723\tvalidation_1-rmse:9.97183\n",
      "[183]\tvalidation_0-rmse:9.16632\tvalidation_1-rmse:9.97187\n",
      "[184]\tvalidation_0-rmse:9.16291\tvalidation_1-rmse:9.97129\n",
      "[185]\tvalidation_0-rmse:9.16122\tvalidation_1-rmse:9.97098\n",
      "[186]\tvalidation_0-rmse:9.16029\tvalidation_1-rmse:9.97091\n",
      "[187]\tvalidation_0-rmse:9.15896\tvalidation_1-rmse:9.97059\n",
      "[188]\tvalidation_0-rmse:9.15575\tvalidation_1-rmse:9.96973\n",
      "[189]\tvalidation_0-rmse:9.15312\tvalidation_1-rmse:9.96909\n",
      "[190]\tvalidation_0-rmse:9.14942\tvalidation_1-rmse:9.96858\n",
      "[191]\tvalidation_0-rmse:9.14689\tvalidation_1-rmse:9.96855\n",
      "[192]\tvalidation_0-rmse:9.14333\tvalidation_1-rmse:9.96792\n",
      "[193]\tvalidation_0-rmse:9.14027\tvalidation_1-rmse:9.96774\n",
      "[194]\tvalidation_0-rmse:9.13712\tvalidation_1-rmse:9.9675\n",
      "[195]\tvalidation_0-rmse:9.13469\tvalidation_1-rmse:9.96713\n",
      "[196]\tvalidation_0-rmse:9.13296\tvalidation_1-rmse:9.96645\n",
      "[197]\tvalidation_0-rmse:9.13166\tvalidation_1-rmse:9.96632\n",
      "[198]\tvalidation_0-rmse:9.12949\tvalidation_1-rmse:9.96576\n",
      "[199]\tvalidation_0-rmse:9.12783\tvalidation_1-rmse:9.96557\n",
      "[200]\tvalidation_0-rmse:9.12527\tvalidation_1-rmse:9.96519\n",
      "[201]\tvalidation_0-rmse:9.12203\tvalidation_1-rmse:9.96482\n",
      "[202]\tvalidation_0-rmse:9.12057\tvalidation_1-rmse:9.96485\n",
      "[203]\tvalidation_0-rmse:9.11654\tvalidation_1-rmse:9.965\n",
      "[204]\tvalidation_0-rmse:9.11289\tvalidation_1-rmse:9.96428\n",
      "[205]\tvalidation_0-rmse:9.1108\tvalidation_1-rmse:9.96428\n",
      "[206]\tvalidation_0-rmse:9.10943\tvalidation_1-rmse:9.96427\n",
      "[207]\tvalidation_0-rmse:9.10695\tvalidation_1-rmse:9.96378\n",
      "[208]\tvalidation_0-rmse:9.10567\tvalidation_1-rmse:9.96384\n",
      "[209]\tvalidation_0-rmse:9.10219\tvalidation_1-rmse:9.96303\n",
      "[210]\tvalidation_0-rmse:9.10072\tvalidation_1-rmse:9.96319\n",
      "[211]\tvalidation_0-rmse:9.09811\tvalidation_1-rmse:9.96347\n",
      "[212]\tvalidation_0-rmse:9.09553\tvalidation_1-rmse:9.96295\n",
      "[213]\tvalidation_0-rmse:9.09456\tvalidation_1-rmse:9.96294\n",
      "[214]\tvalidation_0-rmse:9.09317\tvalidation_1-rmse:9.9628\n",
      "[215]\tvalidation_0-rmse:9.08985\tvalidation_1-rmse:9.9627\n",
      "[216]\tvalidation_0-rmse:9.08803\tvalidation_1-rmse:9.96284\n",
      "[217]\tvalidation_0-rmse:9.08698\tvalidation_1-rmse:9.96291\n",
      "[218]\tvalidation_0-rmse:9.08602\tvalidation_1-rmse:9.96288\n",
      "[219]\tvalidation_0-rmse:9.08445\tvalidation_1-rmse:9.9626\n",
      "[220]\tvalidation_0-rmse:9.08219\tvalidation_1-rmse:9.96245\n",
      "[221]\tvalidation_0-rmse:9.08048\tvalidation_1-rmse:9.96245\n",
      "[222]\tvalidation_0-rmse:9.07857\tvalidation_1-rmse:9.96265\n",
      "[223]\tvalidation_0-rmse:9.07717\tvalidation_1-rmse:9.96256\n",
      "[224]\tvalidation_0-rmse:9.07437\tvalidation_1-rmse:9.9619\n",
      "[225]\tvalidation_0-rmse:9.07264\tvalidation_1-rmse:9.96188\n",
      "[226]\tvalidation_0-rmse:9.07097\tvalidation_1-rmse:9.96149\n",
      "[227]\tvalidation_0-rmse:9.06899\tvalidation_1-rmse:9.96135\n",
      "[228]\tvalidation_0-rmse:9.06698\tvalidation_1-rmse:9.96079\n",
      "[229]\tvalidation_0-rmse:9.06515\tvalidation_1-rmse:9.96089\n",
      "[230]\tvalidation_0-rmse:9.06248\tvalidation_1-rmse:9.96051\n",
      "[231]\tvalidation_0-rmse:9.05703\tvalidation_1-rmse:9.95974\n",
      "[232]\tvalidation_0-rmse:9.05538\tvalidation_1-rmse:9.95983\n",
      "[233]\tvalidation_0-rmse:9.05393\tvalidation_1-rmse:9.95985\n",
      "[234]\tvalidation_0-rmse:9.05316\tvalidation_1-rmse:9.95974\n",
      "[235]\tvalidation_0-rmse:9.05161\tvalidation_1-rmse:9.95951\n",
      "[236]\tvalidation_0-rmse:9.04998\tvalidation_1-rmse:9.95937\n",
      "[237]\tvalidation_0-rmse:9.04915\tvalidation_1-rmse:9.95928\n",
      "[238]\tvalidation_0-rmse:9.04435\tvalidation_1-rmse:9.95928\n",
      "[239]\tvalidation_0-rmse:9.04092\tvalidation_1-rmse:9.95913\n",
      "[240]\tvalidation_0-rmse:9.03947\tvalidation_1-rmse:9.95897\n",
      "[241]\tvalidation_0-rmse:9.03637\tvalidation_1-rmse:9.9589\n",
      "[242]\tvalidation_0-rmse:9.03483\tvalidation_1-rmse:9.95902\n",
      "[243]\tvalidation_0-rmse:9.03013\tvalidation_1-rmse:9.95854\n",
      "[244]\tvalidation_0-rmse:9.02848\tvalidation_1-rmse:9.95822\n",
      "[245]\tvalidation_0-rmse:9.02634\tvalidation_1-rmse:9.95833\n",
      "[246]\tvalidation_0-rmse:9.02158\tvalidation_1-rmse:9.95791\n",
      "[247]\tvalidation_0-rmse:9.01911\tvalidation_1-rmse:9.95816\n",
      "[248]\tvalidation_0-rmse:9.01478\tvalidation_1-rmse:9.95772\n",
      "[249]\tvalidation_0-rmse:9.0142\tvalidation_1-rmse:9.95774\n",
      "[250]\tvalidation_0-rmse:9.01358\tvalidation_1-rmse:9.95759\n",
      "[251]\tvalidation_0-rmse:9.01017\tvalidation_1-rmse:9.95738\n",
      "[252]\tvalidation_0-rmse:9.00923\tvalidation_1-rmse:9.9575\n",
      "[253]\tvalidation_0-rmse:9.00745\tvalidation_1-rmse:9.9575\n",
      "[254]\tvalidation_0-rmse:9.00581\tvalidation_1-rmse:9.95763\n",
      "[255]\tvalidation_0-rmse:9.00345\tvalidation_1-rmse:9.95708\n",
      "[256]\tvalidation_0-rmse:9.00251\tvalidation_1-rmse:9.9572\n",
      "[257]\tvalidation_0-rmse:9.00128\tvalidation_1-rmse:9.95729\n",
      "[258]\tvalidation_0-rmse:9.00032\tvalidation_1-rmse:9.95742\n",
      "[259]\tvalidation_0-rmse:8.9989\tvalidation_1-rmse:9.95713\n",
      "8.99889752553\n",
      "9.95712576451\n"
     ]
    }
   ],
   "source": [
    "bst_title = xgb.XGBRegressor(n_estimators=260, max_depth=6, silent = False, reg_lambda=0.05, min_child_weight=100)\n",
    "bst_title.fit(X_title[itrain], y[itrain], \n",
    "            eval_set = [(X_title[itrain], y[itrain]),(X_title[itest], y[itest])], \n",
    "            eval_metric='rmse', verbose=True)\n",
    "\n",
    "print rmse(y[itrain], bst_title.predict(X_title[itrain]))\n",
    "pred_title = bst_title.predict(X_title[itest])\n",
    "\n",
    "print rmse(y[itest], pred_title)"
   ]
  },
  {
   "cell_type": "code",
   "execution_count": 188,
   "metadata": {
    "collapsed": false
   },
   "outputs": [
    {
     "name": "stdout",
     "output_type": "stream",
     "text": [
      "9.84305672804\n",
      "49\n"
     ]
    },
    {
     "data": {
      "image/png": "[encoded data removed]",
      "text/plain": [
       "<matplotlib.figure.Figure at 0x7fbbbf6663d0>"
      ]
     },
     "metadata": {},
     "output_type": "display_data"
    }
   ],
   "source": [
    "error = []\n",
    "for w in np.linspace(0, 1, 100):\n",
    "     error += [rmse(y[itest], pred_title * w + (1-w) * pred_urls)]\n",
    "\n",
    "pd.Series(error, index=np.linspace(0, 1, 100)).plot(figsize=(6,3))\n",
    "print(min(error))\n",
    "print np.argmin(error)"
   ]
  },
  {
   "cell_type": "code",
   "execution_count": 223,
   "metadata": {
    "collapsed": false
   },
   "outputs": [
    {
     "data": {
      "text/plain": [
       "<108573x1500 sparse matrix of type '<type 'numpy.float64'>'\n",
       "\twith 16587515 stored elements in Compressed Sparse Row format>"
      ]
     },
     "execution_count": 223,
     "metadata": {},
     "output_type": "execute_result"
    }
   ],
   "source": [
    "X_title"
   ]
  },
  {
   "cell_type": "code",
   "execution_count": 229,
   "metadata": {
    "collapsed": false
   },
   "outputs": [
    {
     "name": "stdout",
     "output_type": "stream",
     "text": [
      "(108573, 2500)\n"
     ]
    }
   ],
   "source": [
    "X_all = scp.hstack((X_title, X_urls))\n",
    "X_all = X_all.tocsr()\n",
    "print X_all.shape"
   ]
  },
  {
   "cell_type": "code",
   "execution_count": 230,
   "metadata": {
    "collapsed": false
   },
   "outputs": [
    {
     "data": {
      "text/plain": [
       "<108573x2500 sparse matrix of type '<type 'numpy.float64'>'\n",
       "\twith 19189106 stored elements in Compressed Sparse Row format>"
      ]
     },
     "execution_count": 230,
     "metadata": {},
     "output_type": "execute_result"
    }
   ],
   "source": [
    "X_all"
   ]
  },
  {
   "cell_type": "code",
   "execution_count": 231,
   "metadata": {
    "collapsed": true
   },
   "outputs": [
    {
     "name": "stdout",
     "output_type": "stream",
     "text": [
      "9.57441595303\n",
      "9.98787427247\n"
     ]
    }
   ],
   "source": [
    "lin_reg_all = LinearRegression()\n",
    "lin_reg_all.fit(X_all[itrain, :], y[itrain])\n",
    "\n",
    "print rmse(lin_reg_all.predict(X_all[itrain, :]), y[itrain])\n",
    "pred_lin_all = lin_reg_all.predict(X_all[itest, :])\n",
    "print(rmse(y[itest], pred_lin_all))"
   ]
  },
  {
   "cell_type": "code",
   "execution_count": 236,
   "metadata": {
    "collapsed": true
   },
   "outputs": [
    {
     "name": "stdout",
     "output_type": "stream",
     "text": [
      "[0]\tvalidation_0-rmse:10.6117\tvalidation_1-rmse:10.6668\n",
      "[1]\tvalidation_0-rmse:10.5097\tvalidation_1-rmse:10.5771\n",
      "[2]\tvalidation_0-rmse:10.4252\tvalidation_1-rmse:10.504\n",
      "[3]\tvalidation_0-rmse:10.3522\tvalidation_1-rmse:10.4434\n",
      "[4]\tvalidation_0-rmse:10.2902\tvalidation_1-rmse:10.3926\n",
      "[5]\tvalidation_0-rmse:10.2363\tvalidation_1-rmse:10.349\n",
      "[6]\tvalidation_0-rmse:10.1875\tvalidation_1-rmse:10.3111\n",
      "[7]\tvalidation_0-rmse:10.1445\tvalidation_1-rmse:10.2776\n",
      "[8]\tvalidation_0-rmse:10.107\tvalidation_1-rmse:10.2495\n",
      "[9]\tvalidation_0-rmse:10.0705\tvalidation_1-rmse:10.2243\n",
      "[10]\tvalidation_0-rmse:10.0379\tvalidation_1-rmse:10.203\n",
      "[11]\tvalidation_0-rmse:10.0086\tvalidation_1-rmse:10.183\n",
      "[12]\tvalidation_0-rmse:9.98341\tvalidation_1-rmse:10.1655\n",
      "[13]\tvalidation_0-rmse:9.96049\tvalidation_1-rmse:10.1505\n",
      "[14]\tvalidation_0-rmse:9.93989\tvalidation_1-rmse:10.1368\n",
      "[15]\tvalidation_0-rmse:9.9209\tvalidation_1-rmse:10.1247\n",
      "[16]\tvalidation_0-rmse:9.90325\tvalidation_1-rmse:10.1147\n",
      "[17]\tvalidation_0-rmse:9.88702\tvalidation_1-rmse:10.1055\n",
      "[18]\tvalidation_0-rmse:9.87112\tvalidation_1-rmse:10.0973\n",
      "[19]\tvalidation_0-rmse:9.85521\tvalidation_1-rmse:10.0888\n",
      "[20]\tvalidation_0-rmse:9.84184\tvalidation_1-rmse:10.0818\n",
      "[21]\tvalidation_0-rmse:9.82723\tvalidation_1-rmse:10.0739\n",
      "[22]\tvalidation_0-rmse:9.8153\tvalidation_1-rmse:10.0666\n",
      "[23]\tvalidation_0-rmse:9.8031\tvalidation_1-rmse:10.0613\n",
      "[24]\tvalidation_0-rmse:9.78934\tvalidation_1-rmse:10.0549\n",
      "[25]\tvalidation_0-rmse:9.77991\tvalidation_1-rmse:10.0502\n",
      "[26]\tvalidation_0-rmse:9.76784\tvalidation_1-rmse:10.0441\n",
      "[27]\tvalidation_0-rmse:9.75819\tvalidation_1-rmse:10.0391\n",
      "[28]\tvalidation_0-rmse:9.74749\tvalidation_1-rmse:10.0343\n",
      "[29]\tvalidation_0-rmse:9.73789\tvalidation_1-rmse:10.0298\n",
      "[30]\tvalidation_0-rmse:9.72942\tvalidation_1-rmse:10.0257\n",
      "[31]\tvalidation_0-rmse:9.72149\tvalidation_1-rmse:10.0221\n",
      "[32]\tvalidation_0-rmse:9.71016\tvalidation_1-rmse:10.0179\n",
      "[33]\tvalidation_0-rmse:9.70117\tvalidation_1-rmse:10.0149\n",
      "[34]\tvalidation_0-rmse:9.69365\tvalidation_1-rmse:10.0113\n",
      "[35]\tvalidation_0-rmse:9.68446\tvalidation_1-rmse:10.0066\n",
      "[36]\tvalidation_0-rmse:9.6755\tvalidation_1-rmse:10.0029\n",
      "[37]\tvalidation_0-rmse:9.66759\tvalidation_1-rmse:9.99927\n",
      "[38]\tvalidation_0-rmse:9.6579\tvalidation_1-rmse:9.99498\n",
      "[39]\tvalidation_0-rmse:9.65195\tvalidation_1-rmse:9.99169\n",
      "[40]\tvalidation_0-rmse:9.64479\tvalidation_1-rmse:9.98798\n",
      "[41]\tvalidation_0-rmse:9.63803\tvalidation_1-rmse:9.98584\n",
      "[42]\tvalidation_0-rmse:9.63212\tvalidation_1-rmse:9.98299\n",
      "[43]\tvalidation_0-rmse:9.62667\tvalidation_1-rmse:9.98023\n",
      "[44]\tvalidation_0-rmse:9.62089\tvalidation_1-rmse:9.97804\n",
      "[45]\tvalidation_0-rmse:9.61426\tvalidation_1-rmse:9.97559\n",
      "[46]\tvalidation_0-rmse:9.60752\tvalidation_1-rmse:9.97266\n",
      "[47]\tvalidation_0-rmse:9.60237\tvalidation_1-rmse:9.97037\n",
      "[48]\tvalidation_0-rmse:9.59534\tvalidation_1-rmse:9.96799\n",
      "[49]\tvalidation_0-rmse:9.58666\tvalidation_1-rmse:9.96611\n",
      "[50]\tvalidation_0-rmse:9.57879\tvalidation_1-rmse:9.96231\n",
      "[51]\tvalidation_0-rmse:9.5736\tvalidation_1-rmse:9.96026\n",
      "[52]\tvalidation_0-rmse:9.56718\tvalidation_1-rmse:9.95869\n",
      "[53]\tvalidation_0-rmse:9.56069\tvalidation_1-rmse:9.95525\n",
      "[54]\tvalidation_0-rmse:9.55447\tvalidation_1-rmse:9.95247\n",
      "[55]\tvalidation_0-rmse:9.54593\tvalidation_1-rmse:9.95044\n",
      "[56]\tvalidation_0-rmse:9.54161\tvalidation_1-rmse:9.9489\n",
      "[57]\tvalidation_0-rmse:9.53505\tvalidation_1-rmse:9.9473\n",
      "[58]\tvalidation_0-rmse:9.52989\tvalidation_1-rmse:9.94443\n",
      "[59]\tvalidation_0-rmse:9.52547\tvalidation_1-rmse:9.94306\n",
      "[60]\tvalidation_0-rmse:9.52167\tvalidation_1-rmse:9.94159\n",
      "[61]\tvalidation_0-rmse:9.51842\tvalidation_1-rmse:9.94027\n",
      "[62]\tvalidation_0-rmse:9.51394\tvalidation_1-rmse:9.93959\n",
      "[63]\tvalidation_0-rmse:9.50886\tvalidation_1-rmse:9.93833\n",
      "[64]\tvalidation_0-rmse:9.50328\tvalidation_1-rmse:9.93605\n",
      "[65]\tvalidation_0-rmse:9.49924\tvalidation_1-rmse:9.93424\n",
      "[66]\tvalidation_0-rmse:9.49407\tvalidation_1-rmse:9.93336\n",
      "[67]\tvalidation_0-rmse:9.49052\tvalidation_1-rmse:9.93211\n",
      "[68]\tvalidation_0-rmse:9.4859\tvalidation_1-rmse:9.93159\n",
      "[69]\tvalidation_0-rmse:9.48096\tvalidation_1-rmse:9.93034\n",
      "[70]\tvalidation_0-rmse:9.47444\tvalidation_1-rmse:9.92928\n",
      "[71]\tvalidation_0-rmse:9.47139\tvalidation_1-rmse:9.9281\n",
      "[72]\tvalidation_0-rmse:9.46548\tvalidation_1-rmse:9.92627\n",
      "[73]\tvalidation_0-rmse:9.46087\tvalidation_1-rmse:9.92593\n",
      "[74]\tvalidation_0-rmse:9.45489\tvalidation_1-rmse:9.92419\n",
      "[75]\tvalidation_0-rmse:9.4517\tvalidation_1-rmse:9.92356\n",
      "[76]\tvalidation_0-rmse:9.44841\tvalidation_1-rmse:9.92226\n",
      "[77]\tvalidation_0-rmse:9.44305\tvalidation_1-rmse:9.92093\n",
      "[78]\tvalidation_0-rmse:9.439\tvalidation_1-rmse:9.92001\n",
      "[79]\tvalidation_0-rmse:9.43519\tvalidation_1-rmse:9.91901\n",
      "[80]\tvalidation_0-rmse:9.4315\tvalidation_1-rmse:9.91839\n",
      "[81]\tvalidation_0-rmse:9.42846\tvalidation_1-rmse:9.91677\n",
      "[82]\tvalidation_0-rmse:9.42386\tvalidation_1-rmse:9.91528\n",
      "[83]\tvalidation_0-rmse:9.41966\tvalidation_1-rmse:9.91401\n",
      "[84]\tvalidation_0-rmse:9.41572\tvalidation_1-rmse:9.91286\n",
      "[85]\tvalidation_0-rmse:9.40976\tvalidation_1-rmse:9.91144\n",
      "[86]\tvalidation_0-rmse:9.40574\tvalidation_1-rmse:9.91008\n",
      "[87]\tvalidation_0-rmse:9.40064\tvalidation_1-rmse:9.90957\n",
      "[88]\tvalidation_0-rmse:9.39732\tvalidation_1-rmse:9.90832\n",
      "[89]\tvalidation_0-rmse:9.39283\tvalidation_1-rmse:9.90751\n",
      "[90]\tvalidation_0-rmse:9.38713\tvalidation_1-rmse:9.90633\n",
      "[91]\tvalidation_0-rmse:9.38366\tvalidation_1-rmse:9.9054\n",
      "[92]\tvalidation_0-rmse:9.37935\tvalidation_1-rmse:9.90456\n",
      "[93]\tvalidation_0-rmse:9.37559\tvalidation_1-rmse:9.9035\n",
      "[94]\tvalidation_0-rmse:9.3725\tvalidation_1-rmse:9.90175\n",
      "[95]\tvalidation_0-rmse:9.36894\tvalidation_1-rmse:9.90059\n",
      "[96]\tvalidation_0-rmse:9.36453\tvalidation_1-rmse:9.89889\n",
      "[97]\tvalidation_0-rmse:9.36227\tvalidation_1-rmse:9.89838\n",
      "[98]\tvalidation_0-rmse:9.35616\tvalidation_1-rmse:9.8973\n",
      "[99]\tvalidation_0-rmse:9.35277\tvalidation_1-rmse:9.89593\n",
      "[100]\tvalidation_0-rmse:9.34939\tvalidation_1-rmse:9.89511\n",
      "[101]\tvalidation_0-rmse:9.34716\tvalidation_1-rmse:9.89446\n",
      "[102]\tvalidation_0-rmse:9.34445\tvalidation_1-rmse:9.89335\n",
      "[103]\tvalidation_0-rmse:9.34109\tvalidation_1-rmse:9.89232\n",
      "[104]\tvalidation_0-rmse:9.33773\tvalidation_1-rmse:9.89143\n",
      "[105]\tvalidation_0-rmse:9.33311\tvalidation_1-rmse:9.89041\n",
      "[106]\tvalidation_0-rmse:9.33039\tvalidation_1-rmse:9.89023\n",
      "[107]\tvalidation_0-rmse:9.3283\tvalidation_1-rmse:9.88959\n",
      "[108]\tvalidation_0-rmse:9.32225\tvalidation_1-rmse:9.88901\n",
      "[109]\tvalidation_0-rmse:9.31856\tvalidation_1-rmse:9.88768\n",
      "[110]\tvalidation_0-rmse:9.31269\tvalidation_1-rmse:9.88735\n",
      "[111]\tvalidation_0-rmse:9.30953\tvalidation_1-rmse:9.88706\n",
      "[112]\tvalidation_0-rmse:9.30663\tvalidation_1-rmse:9.88638\n",
      "[113]\tvalidation_0-rmse:9.30383\tvalidation_1-rmse:9.88626\n",
      "[114]\tvalidation_0-rmse:9.29928\tvalidation_1-rmse:9.88623\n",
      "[115]\tvalidation_0-rmse:9.2959\tvalidation_1-rmse:9.88512\n",
      "[116]\tvalidation_0-rmse:9.29292\tvalidation_1-rmse:9.88381\n",
      "[117]\tvalidation_0-rmse:9.29054\tvalidation_1-rmse:9.88365\n",
      "[118]\tvalidation_0-rmse:9.28864\tvalidation_1-rmse:9.88357\n",
      "[119]\tvalidation_0-rmse:9.28398\tvalidation_1-rmse:9.88307\n",
      "[120]\tvalidation_0-rmse:9.28053\tvalidation_1-rmse:9.88199\n",
      "[121]\tvalidation_0-rmse:9.27841\tvalidation_1-rmse:9.88123\n",
      "[122]\tvalidation_0-rmse:9.27512\tvalidation_1-rmse:9.88058\n",
      "[123]\tvalidation_0-rmse:9.27248\tvalidation_1-rmse:9.88041\n",
      "[124]\tvalidation_0-rmse:9.27095\tvalidation_1-rmse:9.87986\n",
      "[125]\tvalidation_0-rmse:9.26894\tvalidation_1-rmse:9.87934\n",
      "[126]\tvalidation_0-rmse:9.26456\tvalidation_1-rmse:9.87828\n",
      "[127]\tvalidation_0-rmse:9.26068\tvalidation_1-rmse:9.87803\n",
      "[128]\tvalidation_0-rmse:9.25785\tvalidation_1-rmse:9.87727\n",
      "[129]\tvalidation_0-rmse:9.25522\tvalidation_1-rmse:9.87709\n",
      "[130]\tvalidation_0-rmse:9.25291\tvalidation_1-rmse:9.87613\n",
      "[131]\tvalidation_0-rmse:9.25106\tvalidation_1-rmse:9.8761\n",
      "[132]\tvalidation_0-rmse:9.24827\tvalidation_1-rmse:9.87563\n",
      "[133]\tvalidation_0-rmse:9.24537\tvalidation_1-rmse:9.8747\n",
      "[134]\tvalidation_0-rmse:9.24058\tvalidation_1-rmse:9.87384\n",
      "[135]\tvalidation_0-rmse:9.23854\tvalidation_1-rmse:9.87345\n",
      "[136]\tvalidation_0-rmse:9.23498\tvalidation_1-rmse:9.87264\n",
      "[137]\tvalidation_0-rmse:9.23346\tvalidation_1-rmse:9.87202\n",
      "[138]\tvalidation_0-rmse:9.22972\tvalidation_1-rmse:9.87092\n",
      "[139]\tvalidation_0-rmse:9.22509\tvalidation_1-rmse:9.87046\n",
      "[140]\tvalidation_0-rmse:9.22065\tvalidation_1-rmse:9.87024\n",
      "[141]\tvalidation_0-rmse:9.21933\tvalidation_1-rmse:9.87016\n",
      "[142]\tvalidation_0-rmse:9.21751\tvalidation_1-rmse:9.86951\n",
      "[143]\tvalidation_0-rmse:9.21547\tvalidation_1-rmse:9.86955\n",
      "[144]\tvalidation_0-rmse:9.21143\tvalidation_1-rmse:9.86901\n",
      "[145]\tvalidation_0-rmse:9.20876\tvalidation_1-rmse:9.86911\n",
      "[146]\tvalidation_0-rmse:9.20448\tvalidation_1-rmse:9.8684\n",
      "[147]\tvalidation_0-rmse:9.20201\tvalidation_1-rmse:9.86817\n",
      "[148]\tvalidation_0-rmse:9.19959\tvalidation_1-rmse:9.86763\n",
      "[149]\tvalidation_0-rmse:9.1944\tvalidation_1-rmse:9.86678\n",
      "[150]\tvalidation_0-rmse:9.18971\tvalidation_1-rmse:9.86567\n",
      "[151]\tvalidation_0-rmse:9.18832\tvalidation_1-rmse:9.86548\n",
      "[152]\tvalidation_0-rmse:9.18578\tvalidation_1-rmse:9.86483\n",
      "[153]\tvalidation_0-rmse:9.18386\tvalidation_1-rmse:9.86456\n",
      "[154]\tvalidation_0-rmse:9.18044\tvalidation_1-rmse:9.8638\n",
      "[155]\tvalidation_0-rmse:9.17782\tvalidation_1-rmse:9.86345\n",
      "[156]\tvalidation_0-rmse:9.17636\tvalidation_1-rmse:9.86315\n",
      "[157]\tvalidation_0-rmse:9.17442\tvalidation_1-rmse:9.86298\n",
      "[158]\tvalidation_0-rmse:9.17167\tvalidation_1-rmse:9.86253\n",
      "[159]\tvalidation_0-rmse:9.1702\tvalidation_1-rmse:9.86265\n",
      "[160]\tvalidation_0-rmse:9.16665\tvalidation_1-rmse:9.86225\n",
      "[161]\tvalidation_0-rmse:9.16484\tvalidation_1-rmse:9.86195\n",
      "[162]\tvalidation_0-rmse:9.16352\tvalidation_1-rmse:9.86202\n",
      "[163]\tvalidation_0-rmse:9.16069\tvalidation_1-rmse:9.86179\n",
      "[164]\tvalidation_0-rmse:9.15751\tvalidation_1-rmse:9.86147\n",
      "[165]\tvalidation_0-rmse:9.15538\tvalidation_1-rmse:9.86101\n",
      "[166]\tvalidation_0-rmse:9.152\tvalidation_1-rmse:9.86043\n",
      "[167]\tvalidation_0-rmse:9.14977\tvalidation_1-rmse:9.86033\n",
      "[168]\tvalidation_0-rmse:9.14503\tvalidation_1-rmse:9.85972\n",
      "[169]\tvalidation_0-rmse:9.13939\tvalidation_1-rmse:9.85918\n",
      "[170]\tvalidation_0-rmse:9.13806\tvalidation_1-rmse:9.85908\n",
      "[171]\tvalidation_0-rmse:9.13681\tvalidation_1-rmse:9.859\n",
      "[172]\tvalidation_0-rmse:9.13455\tvalidation_1-rmse:9.85853\n",
      "[173]\tvalidation_0-rmse:9.13043\tvalidation_1-rmse:9.85801\n",
      "[174]\tvalidation_0-rmse:9.12671\tvalidation_1-rmse:9.85736\n",
      "[175]\tvalidation_0-rmse:9.12536\tvalidation_1-rmse:9.85704\n",
      "[176]\tvalidation_0-rmse:9.12223\tvalidation_1-rmse:9.85695\n",
      "[177]\tvalidation_0-rmse:9.1204\tvalidation_1-rmse:9.85655\n",
      "[178]\tvalidation_0-rmse:9.11848\tvalidation_1-rmse:9.85581\n",
      "[179]\tvalidation_0-rmse:9.11674\tvalidation_1-rmse:9.85616\n",
      "[180]\tvalidation_0-rmse:9.11543\tvalidation_1-rmse:9.85586\n",
      "[181]\tvalidation_0-rmse:9.11411\tvalidation_1-rmse:9.85561\n",
      "[182]\tvalidation_0-rmse:9.11303\tvalidation_1-rmse:9.8551\n",
      "[183]\tvalidation_0-rmse:9.11196\tvalidation_1-rmse:9.85501\n",
      "[184]\tvalidation_0-rmse:9.1088\tvalidation_1-rmse:9.85445\n",
      "[185]\tvalidation_0-rmse:9.10744\tvalidation_1-rmse:9.85461\n",
      "[186]\tvalidation_0-rmse:9.10413\tvalidation_1-rmse:9.85414\n",
      "[187]\tvalidation_0-rmse:9.10163\tvalidation_1-rmse:9.85337\n",
      "[188]\tvalidation_0-rmse:9.09833\tvalidation_1-rmse:9.85332\n",
      "[189]\tvalidation_0-rmse:9.09561\tvalidation_1-rmse:9.85284\n",
      "[190]\tvalidation_0-rmse:9.09252\tvalidation_1-rmse:9.85286\n",
      "[191]\tvalidation_0-rmse:9.09153\tvalidation_1-rmse:9.85283\n",
      "[192]\tvalidation_0-rmse:9.08952\tvalidation_1-rmse:9.85258\n",
      "[193]\tvalidation_0-rmse:9.08662\tvalidation_1-rmse:9.85264\n",
      "[194]\tvalidation_0-rmse:9.0816\tvalidation_1-rmse:9.85189\n",
      "[195]\tvalidation_0-rmse:9.07875\tvalidation_1-rmse:9.85154\n",
      "[196]\tvalidation_0-rmse:9.07585\tvalidation_1-rmse:9.85145\n",
      "[197]\tvalidation_0-rmse:9.07275\tvalidation_1-rmse:9.85068\n",
      "[198]\tvalidation_0-rmse:9.06832\tvalidation_1-rmse:9.85006\n",
      "[199]\tvalidation_0-rmse:9.06685\tvalidation_1-rmse:9.84967\n",
      "[200]\tvalidation_0-rmse:9.06498\tvalidation_1-rmse:9.84942\n",
      "[201]\tvalidation_0-rmse:9.06367\tvalidation_1-rmse:9.84939\n",
      "[202]\tvalidation_0-rmse:9.05937\tvalidation_1-rmse:9.84935\n",
      "[203]\tvalidation_0-rmse:9.0579\tvalidation_1-rmse:9.84892\n",
      "[204]\tvalidation_0-rmse:9.05709\tvalidation_1-rmse:9.84875\n",
      "[205]\tvalidation_0-rmse:9.05583\tvalidation_1-rmse:9.84868\n",
      "[206]\tvalidation_0-rmse:9.05421\tvalidation_1-rmse:9.84831\n",
      "[207]\tvalidation_0-rmse:9.05285\tvalidation_1-rmse:9.84825\n",
      "[208]\tvalidation_0-rmse:9.05049\tvalidation_1-rmse:9.84784\n",
      "[209]\tvalidation_0-rmse:9.04912\tvalidation_1-rmse:9.84782\n",
      "[210]\tvalidation_0-rmse:9.04502\tvalidation_1-rmse:9.84673\n",
      "[211]\tvalidation_0-rmse:9.04286\tvalidation_1-rmse:9.84676\n",
      "[212]\tvalidation_0-rmse:9.04002\tvalidation_1-rmse:9.8465\n",
      "[213]\tvalidation_0-rmse:9.03757\tvalidation_1-rmse:9.84626\n",
      "[214]\tvalidation_0-rmse:9.03628\tvalidation_1-rmse:9.84621\n",
      "[215]\tvalidation_0-rmse:9.03249\tvalidation_1-rmse:9.84527\n",
      "[216]\tvalidation_0-rmse:9.02941\tvalidation_1-rmse:9.84499\n",
      "[217]\tvalidation_0-rmse:9.02823\tvalidation_1-rmse:9.84438\n",
      "[218]\tvalidation_0-rmse:9.02638\tvalidation_1-rmse:9.84453\n",
      "[219]\tvalidation_0-rmse:9.02384\tvalidation_1-rmse:9.84422\n",
      "[220]\tvalidation_0-rmse:9.02238\tvalidation_1-rmse:9.84396\n",
      "[221]\tvalidation_0-rmse:9.02047\tvalidation_1-rmse:9.84317\n",
      "[222]\tvalidation_0-rmse:9.01892\tvalidation_1-rmse:9.84328\n",
      "[223]\tvalidation_0-rmse:9.01685\tvalidation_1-rmse:9.84329\n",
      "[224]\tvalidation_0-rmse:9.01517\tvalidation_1-rmse:9.84268\n",
      "[225]\tvalidation_0-rmse:9.01166\tvalidation_1-rmse:9.84268\n",
      "[226]\tvalidation_0-rmse:9.00856\tvalidation_1-rmse:9.84263\n",
      "[227]\tvalidation_0-rmse:9.00642\tvalidation_1-rmse:9.84276\n",
      "[228]\tvalidation_0-rmse:9.00438\tvalidation_1-rmse:9.84223\n",
      "[229]\tvalidation_0-rmse:9.00279\tvalidation_1-rmse:9.84186\n",
      "[230]\tvalidation_0-rmse:8.99953\tvalidation_1-rmse:9.84161\n",
      "[231]\tvalidation_0-rmse:8.99845\tvalidation_1-rmse:9.84179\n",
      "[232]\tvalidation_0-rmse:8.99597\tvalidation_1-rmse:9.84156\n",
      "[233]\tvalidation_0-rmse:8.99459\tvalidation_1-rmse:9.84146\n",
      "[234]\tvalidation_0-rmse:8.99321\tvalidation_1-rmse:9.84127\n",
      "[235]\tvalidation_0-rmse:8.99054\tvalidation_1-rmse:9.8413\n",
      "[236]\tvalidation_0-rmse:8.98874\tvalidation_1-rmse:9.84076\n",
      "[237]\tvalidation_0-rmse:8.98433\tvalidation_1-rmse:9.84101\n",
      "[238]\tvalidation_0-rmse:8.98316\tvalidation_1-rmse:9.8407\n",
      "[239]\tvalidation_0-rmse:8.98113\tvalidation_1-rmse:9.84025\n",
      "[240]\tvalidation_0-rmse:8.98042\tvalidation_1-rmse:9.84024\n",
      "[241]\tvalidation_0-rmse:8.97933\tvalidation_1-rmse:9.84001\n",
      "[242]\tvalidation_0-rmse:8.97695\tvalidation_1-rmse:9.83979\n",
      "[243]\tvalidation_0-rmse:8.97489\tvalidation_1-rmse:9.83948\n",
      "[244]\tvalidation_0-rmse:8.97224\tvalidation_1-rmse:9.83944\n",
      "[245]\tvalidation_0-rmse:8.97044\tvalidation_1-rmse:9.83967\n",
      "[246]\tvalidation_0-rmse:8.9692\tvalidation_1-rmse:9.8395\n",
      "[247]\tvalidation_0-rmse:8.96781\tvalidation_1-rmse:9.8394\n",
      "[248]\tvalidation_0-rmse:8.96563\tvalidation_1-rmse:9.83921\n",
      "[249]\tvalidation_0-rmse:8.96346\tvalidation_1-rmse:9.83909\n",
      "[250]\tvalidation_0-rmse:8.96231\tvalidation_1-rmse:9.8388\n",
      "[251]\tvalidation_0-rmse:8.96129\tvalidation_1-rmse:9.83858\n",
      "[252]\tvalidation_0-rmse:8.95886\tvalidation_1-rmse:9.8382\n",
      "[253]\tvalidation_0-rmse:8.95762\tvalidation_1-rmse:9.83801\n",
      "[254]\tvalidation_0-rmse:8.95645\tvalidation_1-rmse:9.83828\n",
      "[255]\tvalidation_0-rmse:8.95509\tvalidation_1-rmse:9.83811\n",
      "[256]\tvalidation_0-rmse:8.95301\tvalidation_1-rmse:9.8381\n",
      "[257]\tvalidation_0-rmse:8.95101\tvalidation_1-rmse:9.83731\n",
      "[258]\tvalidation_0-rmse:8.94973\tvalidation_1-rmse:9.83703\n",
      "[259]\tvalidation_0-rmse:8.94869\tvalidation_1-rmse:9.8366\n",
      "[260]\tvalidation_0-rmse:8.94805\tvalidation_1-rmse:9.83672\n",
      "[261]\tvalidation_0-rmse:8.94655\tvalidation_1-rmse:9.83672\n",
      "[262]\tvalidation_0-rmse:8.94395\tvalidation_1-rmse:9.83676\n",
      "[263]\tvalidation_0-rmse:8.9423\tvalidation_1-rmse:9.83696\n",
      "[264]\tvalidation_0-rmse:8.94036\tvalidation_1-rmse:9.83626\n",
      "[265]\tvalidation_0-rmse:8.93832\tvalidation_1-rmse:9.83644\n",
      "[266]\tvalidation_0-rmse:8.93483\tvalidation_1-rmse:9.83579\n",
      "[267]\tvalidation_0-rmse:8.93296\tvalidation_1-rmse:9.83559\n",
      "[268]\tvalidation_0-rmse:8.93191\tvalidation_1-rmse:9.83538\n",
      "[269]\tvalidation_0-rmse:8.92927\tvalidation_1-rmse:9.83487\n",
      "[270]\tvalidation_0-rmse:8.92526\tvalidation_1-rmse:9.83431\n",
      "[271]\tvalidation_0-rmse:8.92408\tvalidation_1-rmse:9.8344\n",
      "[272]\tvalidation_0-rmse:8.92078\tvalidation_1-rmse:9.83424\n",
      "[273]\tvalidation_0-rmse:8.91884\tvalidation_1-rmse:9.83419\n",
      "[274]\tvalidation_0-rmse:8.91817\tvalidation_1-rmse:9.83382\n",
      "[275]\tvalidation_0-rmse:8.91551\tvalidation_1-rmse:9.83387\n",
      "[276]\tvalidation_0-rmse:8.91467\tvalidation_1-rmse:9.83375\n",
      "[277]\tvalidation_0-rmse:8.91179\tvalidation_1-rmse:9.83368\n",
      "[278]\tvalidation_0-rmse:8.90897\tvalidation_1-rmse:9.83351\n",
      "[279]\tvalidation_0-rmse:8.90745\tvalidation_1-rmse:9.83336\n",
      "[280]\tvalidation_0-rmse:8.90583\tvalidation_1-rmse:9.83318\n",
      "[281]\tvalidation_0-rmse:8.90385\tvalidation_1-rmse:9.83315\n",
      "[282]\tvalidation_0-rmse:8.90302\tvalidation_1-rmse:9.83338\n",
      "[283]\tvalidation_0-rmse:8.90223\tvalidation_1-rmse:9.83319\n",
      "[284]\tvalidation_0-rmse:8.9015\tvalidation_1-rmse:9.83353\n",
      "[285]\tvalidation_0-rmse:8.90071\tvalidation_1-rmse:9.83329\n",
      "[286]\tvalidation_0-rmse:8.8986\tvalidation_1-rmse:9.83283\n",
      "[287]\tvalidation_0-rmse:8.89788\tvalidation_1-rmse:9.83264\n",
      "[288]\tvalidation_0-rmse:8.895\tvalidation_1-rmse:9.83307\n",
      "[289]\tvalidation_0-rmse:8.89259\tvalidation_1-rmse:9.83286\n",
      "[290]\tvalidation_0-rmse:8.89111\tvalidation_1-rmse:9.83223\n",
      "[291]\tvalidation_0-rmse:8.88789\tvalidation_1-rmse:9.83134\n",
      "[292]\tvalidation_0-rmse:8.88667\tvalidation_1-rmse:9.83137\n",
      "[293]\tvalidation_0-rmse:8.88213\tvalidation_1-rmse:9.83096\n",
      "[294]\tvalidation_0-rmse:8.87972\tvalidation_1-rmse:9.83079\n",
      "[295]\tvalidation_0-rmse:8.8787\tvalidation_1-rmse:9.83085\n",
      "[296]\tvalidation_0-rmse:8.87634\tvalidation_1-rmse:9.8307\n",
      "[297]\tvalidation_0-rmse:8.87452\tvalidation_1-rmse:9.82989\n",
      "[298]\tvalidation_0-rmse:8.87341\tvalidation_1-rmse:9.82994\n",
      "[299]\tvalidation_0-rmse:8.87229\tvalidation_1-rmse:9.82992\n",
      "8.8722932535\n",
      "9.82992354026\n"
     ]
    }
   ],
   "source": [
    "bst_bust_all = xgb.XGBRegressor(n_estimators=300, max_depth=6, silent = False, reg_lambda=0.05, min_child_weight=100)\n",
    "bst_bust_all.fit(X_all[itrain], y[itrain], \n",
    "            eval_set = [(X_all[itrain], y[itrain]),(X_all[itest], y[itest])], \n",
    "            eval_metric='rmse', verbose=True)"
   ]
  },
  {
   "cell_type": "code",
   "execution_count": 266,
   "metadata": {
    "collapsed": false
   },
   "outputs": [
    {
     "name": "stdout",
     "output_type": "stream",
     "text": [
      "CPU times: user 58min 37s, sys: 15.6 s, total: 58min 53s\n",
      "Wall time: 53min 19s\n"
     ]
    }
   ],
   "source": [
    "%%time\n",
    "\n",
    "transformer = sklearn.decomposition.NMF(n_components=150)\n",
    "X_nmf = transformer.fit_transform(X_all)"
   ]
  },
  {
   "cell_type": "code",
   "execution_count": 265,
   "metadata": {
    "collapsed": false
   },
   "outputs": [
    {
     "data": {
      "text/plain": [
       "<108573x2500 sparse matrix of type '<type 'numpy.float64'>'\n",
       "\twith 19189106 stored elements in Compressed Sparse Row format>"
      ]
     },
     "execution_count": 265,
     "metadata": {},
     "output_type": "execute_result"
    }
   ],
   "source": [
    "extra_trees = ensemble.ExtraTreesRegressor(n_estimators=100)"
   ]
  },
  {
   "cell_type": "code",
   "execution_count": 241,
   "metadata": {
    "collapsed": false
   },
   "outputs": [
    {
     "name": "stdout",
     "output_type": "stream",
     "text": [
      "8.8722932535\n",
      "9.82992354026\n"
     ]
    }
   ],
   "source": [
    "print rmse(y[itrain], bst_bust_all.predict(X_all[itrain]))\n",
    "pred_bust_all = bst_bust_all.predict(X_all[itest])\n",
    "\n",
    "print rmse(y[itest], pred_bust_all)"
   ]
  },
  {
   "cell_type": "code",
   "execution_count": 259,
   "metadata": {
    "collapsed": false
   },
   "outputs": [],
   "source": [
    "X_pred = np.vstack((pred_title, pred_urls, pred_lin_title, pred_lin_urls, pred_lin_all, pred_bust_all)).transpose()"
   ]
  },
  {
   "cell_type": "code",
   "execution_count": 260,
   "metadata": {
    "collapsed": false
   },
   "outputs": [
    {
     "name": "stdout",
     "output_type": "stream",
     "text": [
      "9.7755094266\n"
     ]
    }
   ],
   "source": [
    "stack_reg = LinearRegression()\n",
    "stack_reg.fit(X_pred, y[itest])\n",
    "\n",
    "pred_stack = stack_reg.predict(X_pred)\n",
    "print(rmse(y[itest], pred_stack))"
   ]
  },
  {
   "cell_type": "code",
   "execution_count": 37,
   "metadata": {
    "collapsed": false
   },
   "outputs": [],
   "source": [
    "from sklearn import pipeline, preprocessing, feature_extraction"
   ]
  },
  {
   "cell_type": "code",
   "execution_count": 43,
   "metadata": {
    "collapsed": false
   },
   "outputs": [
    {
     "name": "stdout",
     "output_type": "stream",
     "text": [
      "1\n",
      "2\n",
      "3\n",
      "4\n",
      "10.0017198997\n"
     ]
    }
   ],
   "source": [
    "# %%time\n",
    "\n",
    "# обычный датасет\n",
    "dataset1 = Dataset(X_urls[itrain, :], y[itrain], X_urls[itest, :])\n",
    "# NMF\n",
    "#dataset2 = Dataset(X_nmf[itrain, :], y[itrain], X_nmf[itest, :])\n",
    "# датасет тайтлов\n",
    "dataset3 = Dataset(X_title[itrain, :], y[itrain], X_title[itest, :])\n",
    "\n",
    "# линейная модель на обычных данных\n",
    "lr_urls = Regressor(dataset=dataset1, \n",
    "                     estimator=linear_model.LinearRegression,\n",
    "                     parameters={'normalize': True},\n",
    "                     name='lr_urls')\n",
    "\n",
    "lr_title = Regressor(dataset=dataset3, \n",
    "                     estimator=linear_model.LinearRegression,\n",
    "                     parameters={'normalize': True},\n",
    "                     name='lr_title')\n",
    "\n",
    "# линейная модель на TFIDF от обычных данных\n",
    "def tfidf_lr_(X_train, y_train, X_test, y_test=None, random_state=8888):\n",
    "    model = pipeline.Pipeline([('tfidf', feature_extraction.text.TfidfTransformer()), \n",
    "                                ('linear_model', linear_model.LinearRegression())])\n",
    "    model.fit(X_train, y_train)\n",
    "    return model.predict(X_test)\n",
    "\n",
    "tfidf_lr = Regressor(dataset=dataset1,\n",
    "                     estimator=tfidf_lr_,\n",
    "                     name='tfidf_lr')\n",
    "\n",
    "# ExtraTrees на NMF\n",
    "#rf = Regressor(dataset=dataset2, \n",
    "#                     estimator=ensemble.ExtraTreesRegressor,\n",
    "#                     parameters={'n_estimators': 100, 'n_jobs': -1},\n",
    "#                     name='rf')\n",
    "\n",
    "print 1\n",
    "# Stack two models\n",
    "# Returns new dataset with out-of-fold predictions\n",
    "meta_pipeline = ModelsPipeline(lr_urls, lr_title, tfidf_lr, rf)\n",
    "print 2\n",
    "stack_ds = meta_pipeline.blend(proportion=0.2,seed=111)\n",
    "\n",
    "print 3\n",
    "# Train LinearRegression on stacked data (second stage)\n",
    "stacker = Regressor(dataset=stack_ds, estimator=LinearRegression)\n",
    "\n",
    "print 4\n",
    "results = stacker.predict()\n",
    "\n",
    "print(rmse(y[itest], results))"
   ]
  },
  {
   "cell_type": "markdown",
   "metadata": {},
   "source": [
    "### Делаю файл с предсказанием на тестовой выборке"
   ]
  },
  {
   "cell_type": "code",
   "execution_count": 122,
   "metadata": {
    "collapsed": false
   },
   "outputs": [
    {
     "data": {
      "text/html": [
       "<div>\n",
       "<table border=\"1\" class=\"dataframe\">\n",
       "  <thead>\n",
       "    <tr style=\"text-align: right;\">\n",
       "      <th></th>\n",
       "      <th>id</th>\n",
       "      <th>url</th>\n",
       "    </tr>\n",
       "  </thead>\n",
       "  <tbody>\n",
       "    <tr>\n",
       "      <th>613383</th>\n",
       "      <td>06258377567D8500000004DF4B0DF601</td>\n",
       "      <td>vashaibolit.ru</td>\n",
       "    </tr>\n",
       "    <tr>\n",
       "      <th>613384</th>\n",
       "      <td>06258377567D8500000004DF4B0DF601</td>\n",
       "      <td>xn--80aag2bpgd.xn--p1ai</td>\n",
       "    </tr>\n",
       "    <tr>\n",
       "      <th>613385</th>\n",
       "      <td>06258377567D8500000004DF4B0DF601</td>\n",
       "      <td>xn--h1aeghn.xn--p1ai</td>\n",
       "    </tr>\n",
       "    <tr>\n",
       "      <th>613386</th>\n",
       "      <td>06258377567D8500000004DF4B0DF601</td>\n",
       "      <td>zoom.cnews.ru</td>\n",
       "    </tr>\n",
       "    <tr>\n",
       "      <th>613387</th>\n",
       "      <td>06258377567D8500000004DF4B0DF601</td>\n",
       "      <td>zvenigorod.superjob.ru</td>\n",
       "    </tr>\n",
       "  </tbody>\n",
       "</table>\n",
       "</div>"
      ],
      "text/plain": [
       "                                      id                      url\n",
       "613383  06258377567D8500000004DF4B0DF601           vashaibolit.ru\n",
       "613384  06258377567D8500000004DF4B0DF601  xn--80aag2bpgd.xn--p1ai\n",
       "613385  06258377567D8500000004DF4B0DF601     xn--h1aeghn.xn--p1ai\n",
       "613386  06258377567D8500000004DF4B0DF601            zoom.cnews.ru\n",
       "613387  06258377567D8500000004DF4B0DF601   zvenigorod.superjob.ru"
      ]
     },
     "execution_count": 122,
     "metadata": {},
     "output_type": "execute_result"
    }
   ],
   "source": [
    "urls_test_df = pd.read_csv('data/url_domain_test', header=None, delimiter='\\t')\n",
    "urls_test_df.columns = ['id', 'url', 'count']\n",
    "urls_test_df = urls_test_df[['id', 'url']]\n",
    "urls_test_df.tail()"
   ]
  },
  {
   "cell_type": "code",
   "execution_count": 123,
   "metadata": {
    "collapsed": true
   },
   "outputs": [],
   "source": [
    "urls_test_df = pd.DataFrame(urls_test_df.groupby('id')['url'].apply(lambda x: x.tolist()))\n",
    "urls_test_df['id'] = urls_test_df.index\n",
    "urls_test_df.index = range(len(urls_test_df))\n",
    "urls_test_df.columns = ['urls', 'id']"
   ]
  },
  {
   "cell_type": "code",
   "execution_count": 124,
   "metadata": {
    "collapsed": false
   },
   "outputs": [
    {
     "data": {
      "text/html": [
       "<div>\n",
       "<table border=\"1\" class=\"dataframe\">\n",
       "  <thead>\n",
       "    <tr style=\"text-align: right;\">\n",
       "      <th></th>\n",
       "      <th>urls</th>\n",
       "      <th>id</th>\n",
       "    </tr>\n",
       "  </thead>\n",
       "  <tbody>\n",
       "    <tr>\n",
       "      <th>19969</th>\n",
       "      <td>[akusherstvo.ru, cat.pet2me.com, domik3.ru, ge...</td>\n",
       "      <td>06393B8756FE32ED000004DE11330B01</td>\n",
       "    </tr>\n",
       "    <tr>\n",
       "      <th>19970</th>\n",
       "      <td>[free.drweb.ru, mail.rambler.ru, pevp.mos.ru, ...</td>\n",
       "      <td>06393B87570376CB000004D6801BDC01</td>\n",
       "    </tr>\n",
       "    <tr>\n",
       "      <th>19971</th>\n",
       "      <td>[afisha.ru, formulalubvi.com, gazeta.ru, hh.ru...</td>\n",
       "      <td>06393D555702D3B2000004DE774F1901</td>\n",
       "    </tr>\n",
       "    <tr>\n",
       "      <th>19972</th>\n",
       "      <td>[kirrail.org, lenta.ru, mail.rambler.ru, rambl...</td>\n",
       "      <td>06394267570511A900000540C88F9201</td>\n",
       "    </tr>\n",
       "    <tr>\n",
       "      <th>19973</th>\n",
       "      <td>[help.rambler.ru, mail.rambler.ru, realtymag.r...</td>\n",
       "      <td>0639457C57020EB700006DD1885A0501</td>\n",
       "    </tr>\n",
       "  </tbody>\n",
       "</table>\n",
       "</div>"
      ],
      "text/plain": [
       "                                                    urls  \\\n",
       "19969  [akusherstvo.ru, cat.pet2me.com, domik3.ru, ge...   \n",
       "19970  [free.drweb.ru, mail.rambler.ru, pevp.mos.ru, ...   \n",
       "19971  [afisha.ru, formulalubvi.com, gazeta.ru, hh.ru...   \n",
       "19972  [kirrail.org, lenta.ru, mail.rambler.ru, rambl...   \n",
       "19973  [help.rambler.ru, mail.rambler.ru, realtymag.r...   \n",
       "\n",
       "                                     id  \n",
       "19969  06393B8756FE32ED000004DE11330B01  \n",
       "19970  06393B87570376CB000004D6801BDC01  \n",
       "19971  06393D555702D3B2000004DE774F1901  \n",
       "19972  06394267570511A900000540C88F9201  \n",
       "19973  0639457C57020EB700006DD1885A0501  "
      ]
     },
     "execution_count": 124,
     "metadata": {},
     "output_type": "execute_result"
    }
   ],
   "source": [
    "urls_test_df.tail()"
   ]
  },
  {
   "cell_type": "code",
   "execution_count": 125,
   "metadata": {
    "collapsed": true
   },
   "outputs": [],
   "source": [
    "title_unify_test = pd.read_csv('data/title_unify_test', header=None, delimiter='\\t')\n",
    "title_unify_test.columns = ['id','words','count']\n",
    "title_unify_test = title_unify_test[['id','words']]"
   ]
  },
  {
   "cell_type": "code",
   "execution_count": 126,
   "metadata": {
    "collapsed": false
   },
   "outputs": [
    {
     "data": {
      "text/html": [
       "<div>\n",
       "<table border=\"1\" class=\"dataframe\">\n",
       "  <thead>\n",
       "    <tr style=\"text-align: right;\">\n",
       "      <th></th>\n",
       "      <th>words</th>\n",
       "      <th>id</th>\n",
       "    </tr>\n",
       "  </thead>\n",
       "  <tbody>\n",
       "    <tr>\n",
       "      <th>114151</th>\n",
       "      <td>chanel афиша киев магазин cl merced для зажига...</td>\n",
       "      <td>E7DB77EB4EEFF6C73DD7EB5CD37CB7E3</td>\n",
       "    </tr>\n",
       "    <tr>\n",
       "      <th>114152</th>\n",
       "      <td>cosmopolitan ведущий гламурный гузеев журнал и...</td>\n",
       "      <td>E7DFB7DB4DDF3C7E785EDF7DF17AA76D</td>\n",
       "    </tr>\n",
       "    <tr>\n",
       "      <th>114153</th>\n",
       "      <td>4z7616051a 4z7616051d 4z7616052a allroad arnot...</td>\n",
       "      <td>E9B9D7D347EB1ACE5AAEEBFCE3FBCE7B</td>\n",
       "    </tr>\n",
       "    <tr>\n",
       "      <th>114154</th>\n",
       "      <td>ru онлайн попка порно секс азербайджан военный...</td>\n",
       "      <td>EBFAC66B4EE3FB96BA5DD7DDE3787FE7</td>\n",
       "    </tr>\n",
       "    <tr>\n",
       "      <th>114155</th>\n",
       "      <td>5d merced-benz видео драйв комплектация отзыв ...</td>\n",
       "      <td>F537AD6B46D31ABFF597EFDFE1BDDE71</td>\n",
       "    </tr>\n",
       "  </tbody>\n",
       "</table>\n",
       "</div>"
      ],
      "text/plain": [
       "                                                    words  \\\n",
       "114151  chanel афиша киев магазин cl merced для зажига...   \n",
       "114152  cosmopolitan ведущий гламурный гузеев журнал и...   \n",
       "114153  4z7616051a 4z7616051d 4z7616052a allroad arnot...   \n",
       "114154  ru онлайн попка порно секс азербайджан военный...   \n",
       "114155  5d merced-benz видео драйв комплектация отзыв ...   \n",
       "\n",
       "                                      id  \n",
       "114151  E7DB77EB4EEFF6C73DD7EB5CD37CB7E3  \n",
       "114152  E7DFB7DB4DDF3C7E785EDF7DF17AA76D  \n",
       "114153  E9B9D7D347EB1ACE5AAEEBFCE3FBCE7B  \n",
       "114154  EBFAC66B4EE3FB96BA5DD7DDE3787FE7  \n",
       "114155  F537AD6B46D31ABFF597EFDFE1BDDE71  "
      ]
     },
     "execution_count": 126,
     "metadata": {},
     "output_type": "execute_result"
    }
   ],
   "source": [
    "title_unify_train.tail()"
   ]
  },
  {
   "cell_type": "code",
   "execution_count": 127,
   "metadata": {
    "collapsed": true
   },
   "outputs": [],
   "source": [
    "title_unify_test = pd.DataFrame(title_unify_test.groupby('id')['words'].apply(lambda x: ' '.join(x)))\n",
    "title_unify_test['id'] = title_unify_test.index\n",
    "title_unify_test.index = range(len(title_unify_test))\n",
    "title_unify_test.columns = ['words', 'id']"
   ]
  },
  {
   "cell_type": "code",
   "execution_count": 128,
   "metadata": {
    "collapsed": true
   },
   "outputs": [],
   "source": [
    "test_df = urls_test_df.merge(title_unify_test, on='id', how='left')"
   ]
  },
  {
   "cell_type": "code",
   "execution_count": 129,
   "metadata": {
    "collapsed": false,
    "scrolled": true
   },
   "outputs": [
    {
     "data": {
      "text/html": [
       "<div>\n",
       "<table border=\"1\" class=\"dataframe\">\n",
       "  <thead>\n",
       "    <tr style=\"text-align: right;\">\n",
       "      <th></th>\n",
       "      <th>urls</th>\n",
       "      <th>id</th>\n",
       "      <th>words</th>\n",
       "    </tr>\n",
       "  </thead>\n",
       "  <tbody>\n",
       "    <tr>\n",
       "      <th>19969</th>\n",
       "      <td>[akusherstvo.ru, cat.pet2me.com, domik3.ru, ge...</td>\n",
       "      <td>06393B8756FE32ED000004DE11330B01</td>\n",
       "      <td>10-метровый бессмертный вечный май москва огон...</td>\n",
       "    </tr>\n",
       "    <tr>\n",
       "      <th>19970</th>\n",
       "      <td>[free.drweb.ru, mail.rambler.ru, pevp.mos.ru, ...</td>\n",
       "      <td>06393B87570376CB000004D6801BDC01</td>\n",
       "      <td>footer бесплатный надёжный почта рамблер элект...</td>\n",
       "    </tr>\n",
       "    <tr>\n",
       "      <th>19971</th>\n",
       "      <td>[afisha.ru, formulalubvi.com, gazeta.ru, hh.ru...</td>\n",
       "      <td>06393D555702D3B2000004DE774F1901</td>\n",
       "      <td>co rambler карьер group retail x5 вакансия гла...</td>\n",
       "    </tr>\n",
       "    <tr>\n",
       "      <th>19972</th>\n",
       "      <td>[kirrail.org, lenta.ru, mail.rambler.ru, rambl...</td>\n",
       "      <td>06394267570511A900000540C88F9201</td>\n",
       "      <td>lenta ru lenta ru война госдума день на отвест...</td>\n",
       "    </tr>\n",
       "    <tr>\n",
       "      <th>19973</th>\n",
       "      <td>[help.rambler.ru, mail.rambler.ru, realtymag.r...</td>\n",
       "      <td>0639457C57020EB700006DD1885A0501</td>\n",
       "      <td>alenka844 rambler ru входящая рамблер-почта ак...</td>\n",
       "    </tr>\n",
       "  </tbody>\n",
       "</table>\n",
       "</div>"
      ],
      "text/plain": [
       "                                                    urls  \\\n",
       "19969  [akusherstvo.ru, cat.pet2me.com, domik3.ru, ge...   \n",
       "19970  [free.drweb.ru, mail.rambler.ru, pevp.mos.ru, ...   \n",
       "19971  [afisha.ru, formulalubvi.com, gazeta.ru, hh.ru...   \n",
       "19972  [kirrail.org, lenta.ru, mail.rambler.ru, rambl...   \n",
       "19973  [help.rambler.ru, mail.rambler.ru, realtymag.r...   \n",
       "\n",
       "                                     id  \\\n",
       "19969  06393B8756FE32ED000004DE11330B01   \n",
       "19970  06393B87570376CB000004D6801BDC01   \n",
       "19971  06393D555702D3B2000004DE774F1901   \n",
       "19972  06394267570511A900000540C88F9201   \n",
       "19973  0639457C57020EB700006DD1885A0501   \n",
       "\n",
       "                                                   words  \n",
       "19969  10-метровый бессмертный вечный май москва огон...  \n",
       "19970  footer бесплатный надёжный почта рамблер элект...  \n",
       "19971  co rambler карьер group retail x5 вакансия гла...  \n",
       "19972  lenta ru lenta ru война госдума день на отвест...  \n",
       "19973  alenka844 rambler ru входящая рамблер-почта ак...  "
      ]
     },
     "execution_count": 129,
     "metadata": {},
     "output_type": "execute_result"
    }
   ],
   "source": [
    "test_df.tail()"
   ]
  },
  {
   "cell_type": "code",
   "execution_count": 130,
   "metadata": {
    "collapsed": false
   },
   "outputs": [
    {
     "data": {
      "text/html": [
       "<div>\n",
       "<table border=\"1\" class=\"dataframe\">\n",
       "  <thead>\n",
       "    <tr style=\"text-align: right;\">\n",
       "      <th></th>\n",
       "      <th>id</th>\n",
       "      <th>urls</th>\n",
       "      <th>words</th>\n",
       "    </tr>\n",
       "  </thead>\n",
       "  <tbody>\n",
       "    <tr>\n",
       "      <th>19969</th>\n",
       "      <td>06393B8756FE32ED000004DE11330B01</td>\n",
       "      <td>[akusherstvo.ru, cat.pet2me.com, domik3.ru, ge...</td>\n",
       "      <td>10-метровый бессмертный вечный май москва огон...</td>\n",
       "    </tr>\n",
       "    <tr>\n",
       "      <th>19970</th>\n",
       "      <td>06393B87570376CB000004D6801BDC01</td>\n",
       "      <td>[free.drweb.ru, mail.rambler.ru, pevp.mos.ru, ...</td>\n",
       "      <td>footer бесплатный надёжный почта рамблер элект...</td>\n",
       "    </tr>\n",
       "    <tr>\n",
       "      <th>19971</th>\n",
       "      <td>06393D555702D3B2000004DE774F1901</td>\n",
       "      <td>[afisha.ru, formulalubvi.com, gazeta.ru, hh.ru...</td>\n",
       "      <td>co rambler карьер group retail x5 вакансия гла...</td>\n",
       "    </tr>\n",
       "    <tr>\n",
       "      <th>19972</th>\n",
       "      <td>06394267570511A900000540C88F9201</td>\n",
       "      <td>[kirrail.org, lenta.ru, mail.rambler.ru, rambl...</td>\n",
       "      <td>lenta ru lenta ru война госдума день на отвест...</td>\n",
       "    </tr>\n",
       "    <tr>\n",
       "      <th>19973</th>\n",
       "      <td>0639457C57020EB700006DD1885A0501</td>\n",
       "      <td>[help.rambler.ru, mail.rambler.ru, realtymag.r...</td>\n",
       "      <td>alenka844 rambler ru входящая рамблер-почта ак...</td>\n",
       "    </tr>\n",
       "  </tbody>\n",
       "</table>\n",
       "</div>"
      ],
      "text/plain": [
       "                                     id  \\\n",
       "19969  06393B8756FE32ED000004DE11330B01   \n",
       "19970  06393B87570376CB000004D6801BDC01   \n",
       "19971  06393D555702D3B2000004DE774F1901   \n",
       "19972  06394267570511A900000540C88F9201   \n",
       "19973  0639457C57020EB700006DD1885A0501   \n",
       "\n",
       "                                                    urls  \\\n",
       "19969  [akusherstvo.ru, cat.pet2me.com, domik3.ru, ge...   \n",
       "19970  [free.drweb.ru, mail.rambler.ru, pevp.mos.ru, ...   \n",
       "19971  [afisha.ru, formulalubvi.com, gazeta.ru, hh.ru...   \n",
       "19972  [kirrail.org, lenta.ru, mail.rambler.ru, rambl...   \n",
       "19973  [help.rambler.ru, mail.rambler.ru, realtymag.r...   \n",
       "\n",
       "                                                   words  \n",
       "19969  10-метровый бессмертный вечный май москва огон...  \n",
       "19970  footer бесплатный надёжный почта рамблер элект...  \n",
       "19971  co rambler карьер group retail x5 вакансия гла...  \n",
       "19972  lenta ru lenta ru война госдума день на отвест...  \n",
       "19973  alenka844 rambler ru входящая рамблер-почта ак...  "
      ]
     },
     "execution_count": 130,
     "metadata": {},
     "output_type": "execute_result"
    }
   ],
   "source": [
    "test_df = test_df[['id','urls','words']]\n",
    "test_df.tail()"
   ]
  },
  {
   "cell_type": "code",
   "execution_count": 131,
   "metadata": {
    "collapsed": false
   },
   "outputs": [
    {
     "data": {
      "text/plain": [
       "19955"
      ]
     },
     "execution_count": 131,
     "metadata": {},
     "output_type": "execute_result"
    }
   ],
   "source": [
    "test_df = test_df[test_df.words == test_df.words]\n",
    "len(test_df)"
   ]
  },
  {
   "cell_type": "code",
   "execution_count": 132,
   "metadata": {
    "collapsed": true
   },
   "outputs": [],
   "source": [
    "X_urls_test = test_df.urls.values\n",
    "X_urls_test = map(lambda x: ' '.join(x), X_urls_test)\n",
    "X_urls_test = hw_u.transform(X_urls_test)"
   ]
  },
  {
   "cell_type": "code",
   "execution_count": 151,
   "metadata": {
    "collapsed": false
   },
   "outputs": [],
   "source": [
    "X_title_test = test_df.words.values\n",
    "X_title_test = hw_t.transform(X_title_test)"
   ]
  },
  {
   "cell_type": "code",
   "execution_count": 248,
   "metadata": {
    "collapsed": false
   },
   "outputs": [
    {
     "name": "stdout",
     "output_type": "stream",
     "text": [
      "(108573, 2500)\n"
     ]
    }
   ],
   "source": [
    "X_all_test = scp.hstack((X_title_test, X_urls_test))\n",
    "X_all_test = X_all_test.tocsr()\n",
    "print X_all.shape"
   ]
  },
  {
   "cell_type": "code",
   "execution_count": 152,
   "metadata": {
    "collapsed": false
   },
   "outputs": [
    {
     "data": {
      "text/plain": [
       "(19955, 1500)"
      ]
     },
     "execution_count": 152,
     "metadata": {},
     "output_type": "execute_result"
    }
   ],
   "source": [
    "X_title_test.shape"
   ]
  },
  {
   "cell_type": "code",
   "execution_count": 251,
   "metadata": {
    "collapsed": true
   },
   "outputs": [],
   "source": [
    "X_pred_test = np.vstack((bst_title.predict(X_title_test), bst_urls.predict(X_urls_test),\n",
    "                         reg3.predict(X_title_test), reg1.predict(X_urls_test),\n",
    "                        lin_reg_all.predict(X_all_test), bst_bust_all.predict(X_all_test))).transpose()"
   ]
  },
  {
   "cell_type": "code",
   "execution_count": 252,
   "metadata": {
    "collapsed": true
   },
   "outputs": [],
   "source": [
    "y_test = stack_reg.predict(X_pred_test)"
   ]
  },
  {
   "cell_type": "code",
   "execution_count": 153,
   "metadata": {
    "collapsed": false
   },
   "outputs": [],
   "source": []
  },
  {
   "cell_type": "code",
   "execution_count": 253,
   "metadata": {
    "collapsed": false
   },
   "outputs": [],
   "source": [
    "y_test += 36"
   ]
  },
  {
   "cell_type": "code",
   "execution_count": 254,
   "metadata": {
    "collapsed": false
   },
   "outputs": [
    {
     "data": {
      "text/plain": [
       "array([ 46.47048424,  42.66802345,  37.25292536, ...,  37.25190454,\n",
       "        39.19779586,  39.39158258])"
      ]
     },
     "execution_count": 254,
     "metadata": {},
     "output_type": "execute_result"
    }
   ],
   "source": [
    "y_test"
   ]
  },
  {
   "cell_type": "code",
   "execution_count": null,
   "metadata": {
    "collapsed": true
   },
   "outputs": [],
   "source": [
    "X_test_nmf = transformer.transform(X_test)"
   ]
  },
  {
   "cell_type": "code",
   "execution_count": null,
   "metadata": {
    "collapsed": true
   },
   "outputs": [],
   "source": [
    "y_test = reg.predict(X_test_nmf)"
   ]
  },
  {
   "cell_type": "code",
   "execution_count": null,
   "metadata": {
    "collapsed": false
   },
   "outputs": [],
   "source": [
    "y_test"
   ]
  },
  {
   "cell_type": "code",
   "execution_count": 255,
   "metadata": {
    "collapsed": false
   },
   "outputs": [
    {
     "name": "stdout",
     "output_type": "stream",
     "text": [
      "46.4704842356\n",
      "['1000bankov.ru', '1tv.ru', '4put.ru', 'argumenti.ru', 'avmalgin.livejournal.com', 'baikalvisa.ru', 'blog.irr.ru', 'cbslibrary5.blogspot.ca', 'club.foto.ru', 'cmd-online.ru', 'cult-turist.ru', 'doseng.org', 'dp.ru', 'dvkapital.ru', 'eadaily.com', 'eda.ru', 'edimdoma.ru', 'eg.ru', 'expert.ru', 'family.rambler.ru', 'film.ru', 'filmi-hd.ru', 'finance.rambler.ru', 'fishki.net', 'forum.ixbt.com', 'forums.drom.ru', 'gazeta.ru', 'gotovim-doma.ru', 'govoritmoskva.ru', 'grani.ru', 'hockey-world.net', 'inforeactor.ru', 'inmoment.ru', 'interfax.ru', 'katebor.com', 'keddr.com', 'kino-teatr.ru', 'kommersant.ru', 'kp.ru', 'lady-forever.ru', 'lenta.ru', 'letaet.livejournal.com', 'livejournal.com', 'livenews.cz', 'love-is.ru', 'lyrics.mp3s.ru', 'm24.ru', 'mail.rambler.ru', 'meddaily.ru', 'megogo.net', 'minivideospectr.ru', 'mk.ru', 'nearyou.ru', 'news.rambler.ru', 'news.smi2.ru', 'newsru.co.il', 'pevp.mos.ru', 'pfrf.ru', 'philologist.livejournal.com', 'potsreotizm.livejournal.com', 'povarenok.ru', 'pozdrav.ru', 'primechaniya.ru', 'proza.ru', 'quote.rbc.ru', 'rambler.ru', 'realty.rbc.ru', 'ren.tv', 'rg.ru', 'ria.ru', 'ridus.ru', 'riko.ws', 'ritamsk.livejournal.com', 'rlsnet.ru', 'rns.online', 'ru.investing.com', 'rusdialog.ru', 'rusplt.ru', 'rutracker.net', 'rutracker.org', 'rutube.ru', 'sapsan.su', 'shitovidki.ru', 'snob.ru', 'sobytiya.info', 'spb.kp.ru', 'spletnik.ru', 'sport.rbc.ru', 'sprivetom.com', 'stringer-news.com', 'superlinker.livejournal.com', 'swg54.livejournal.com', 'tass.ru', 'translate.ru', 'travel.rambler.ru', 'tv.mk.ru', 'uahotels.info', 'ukrrudprom.com', 'urgantshow.ru', 'vedomosti.ru', 'vesti.ru', 'video.rambler.ru', 'votpusk.ru', 'vtb24.ru', 'vz.ru', 'yablyk.com', 'yuris-design.io.ua', 'zdeshdonline.ru', 'zdorovieinfo.ru']\n"
     ]
    },
    {
     "data": {
      "text/plain": [
       "[<matplotlib.lines.Line2D at 0x7fbbc071ea10>]"
      ]
     },
     "execution_count": 255,
     "metadata": {},
     "output_type": "execute_result"
    },
    {
     "data": {
      "image/png": "[encoded data removed]",
      "text/plain": [
       "<matplotlib.figure.Figure at 0x7fbbc9ba2f90>"
      ]
     },
     "metadata": {},
     "output_type": "display_data"
    }
   ],
   "source": [
    "k = 0\n",
    "print(y_test[k])\n",
    "print(urls_test_df.urls[k])\n",
    "plt.plot(y_test)"
   ]
  },
  {
   "cell_type": "code",
   "execution_count": 256,
   "metadata": {
    "collapsed": false
   },
   "outputs": [
    {
     "data": {
      "text/html": [
       "<div>\n",
       "<table border=\"1\" class=\"dataframe\">\n",
       "  <thead>\n",
       "    <tr style=\"text-align: right;\">\n",
       "      <th></th>\n",
       "      <th>Id</th>\n",
       "      <th>age</th>\n",
       "    </tr>\n",
       "  </thead>\n",
       "  <tbody>\n",
       "    <tr>\n",
       "      <th>19950</th>\n",
       "      <td>06393B8756FE32ED000004DE11330B01</td>\n",
       "      <td>38.293626</td>\n",
       "    </tr>\n",
       "    <tr>\n",
       "      <th>19951</th>\n",
       "      <td>06393B87570376CB000004D6801BDC01</td>\n",
       "      <td>37.015728</td>\n",
       "    </tr>\n",
       "    <tr>\n",
       "      <th>19952</th>\n",
       "      <td>06393D555702D3B2000004DE774F1901</td>\n",
       "      <td>37.251905</td>\n",
       "    </tr>\n",
       "    <tr>\n",
       "      <th>19953</th>\n",
       "      <td>06394267570511A900000540C88F9201</td>\n",
       "      <td>39.197796</td>\n",
       "    </tr>\n",
       "    <tr>\n",
       "      <th>19954</th>\n",
       "      <td>0639457C57020EB700006DD1885A0501</td>\n",
       "      <td>39.391583</td>\n",
       "    </tr>\n",
       "  </tbody>\n",
       "</table>\n",
       "</div>"
      ],
      "text/plain": [
       "                                     Id        age\n",
       "19950  06393B8756FE32ED000004DE11330B01  38.293626\n",
       "19951  06393B87570376CB000004D6801BDC01  37.015728\n",
       "19952  06393D555702D3B2000004DE774F1901  37.251905\n",
       "19953  06394267570511A900000540C88F9201  39.197796\n",
       "19954  0639457C57020EB700006DD1885A0501  39.391583"
      ]
     },
     "execution_count": 256,
     "metadata": {},
     "output_type": "execute_result"
    }
   ],
   "source": [
    "answer = pd.DataFrame(y_test, test_df.id)\n",
    "answer['Id'] = answer.index\n",
    "answer.index = range(len(answer))\n",
    "answer.columns = ['age', 'Id']\n",
    "answer = answer[['Id', 'age']]\n",
    "answer.tail()"
   ]
  },
  {
   "cell_type": "code",
   "execution_count": null,
   "metadata": {
    "collapsed": false
   },
   "outputs": [],
   "source": [
    "answer.to_csv(path_or_buf = 'submission1.csv',  index = False)"
   ]
  },
  {
   "cell_type": "code",
   "execution_count": 257,
   "metadata": {
    "collapsed": false
   },
   "outputs": [],
   "source": [
    "aaa = pd.read_csv('data/sample_submission.csv')\n",
    "Set = set(aaa.Id.values)\n",
    "\n",
    "Set2 = set(answer.Id.values)\n",
    "\n",
    "dop = pd.DataFrame([[i,36] for i in (Set - Set2)], columns = ['Id','age'])\n",
    "\n",
    "answer.append(dop).to_csv(path_or_buf = 'submission1.csv',  index = False)"
   ]
  },
  {
   "cell_type": "code",
   "execution_count": null,
   "metadata": {
    "collapsed": true
   },
   "outputs": [],
   "source": []
  },
  {
   "cell_type": "code",
   "execution_count": 163,
   "metadata": {
    "collapsed": false
   },
   "outputs": [
    {
     "data": {
      "text/plain": [
       "63.40415"
      ]
     },
     "execution_count": 163,
     "metadata": {},
     "output_type": "execute_result"
    }
   ],
   "source": [
    "0.17371*365"
   ]
  },
  {
   "cell_type": "code",
   "execution_count": null,
   "metadata": {
    "collapsed": true
   },
   "outputs": [],
   "source": []
  }
 ],
 "metadata": {
  "anaconda-cloud": {},
  "kernelspec": {
   "display_name": "Python [conda root]",
   "language": "python",
   "name": "conda-root-py"
  },
  "language_info": {
   "codemirror_mode": {
    "name": "ipython",
    "version": 2
   },
   "file_extension": ".py",
   "mimetype": "text/x-python",
   "name": "python",
   "nbconvert_exporter": "python",
   "pygments_lexer": "ipython2",
   "version": "2.7.12"
  }
 },
 "nbformat": 4,
 "nbformat_minor": 0
}

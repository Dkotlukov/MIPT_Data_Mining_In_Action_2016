{
 "cells": [
  {
   "cell_type": "code",
   "execution_count": 1,
   "metadata": {
    "collapsed": false
   },
   "outputs": [
    {
     "name": "stderr",
     "output_type": "stream",
     "text": [
      "/home/dima/anaconda2/lib/python2.7/site-packages/sklearn/cross_validation.py:44: DeprecationWarning: This module was deprecated in version 0.18 in favor of the model_selection module into which all the refactored classes and functions are moved. Also note that the interface of the new CV iterators are different from that of this module. This module will be removed in 0.20.\n",
      "  \"This module will be removed in 0.20.\", DeprecationWarning)\n"
     ]
    }
   ],
   "source": [
    "import numpy as np\n",
    "import pandas as pd\n",
    "from sklearn.linear_model import LinearRegression\n",
    "from sklearn.cross_validation import cross_val_score\n",
    "from sklearn.feature_extraction.text import HashingVectorizer\n",
    "from sklearn.cluster import AgglomerativeClustering\n",
    "from sklearn import manifold, decomposition, linear_model, ensemble, neighbors, cross_validation\n",
    "%matplotlib inline\n",
    "import seaborn as sns\n",
    "import sklearn\n",
    "import matplotlib.pyplot as plt\n",
    "import tqdm\n",
    "\n",
    "from heamy.dataset import Dataset\n",
    "from heamy.estimator import Regressor, Classifier\n",
    "from heamy.pipeline import ModelsPipeline"
   ]
  },
  {
   "cell_type": "code",
   "execution_count": 2,
   "metadata": {
    "collapsed": true
   },
   "outputs": [],
   "source": [
    "def rmse(x,y):\n",
    "    return np.mean((x - y) ** 2) ** 0.5"
   ]
  },
  {
   "cell_type": "markdown",
   "metadata": {},
   "source": [
    "## Подготовка данных (urls)"
   ]
  },
  {
   "cell_type": "code",
   "execution_count": 3,
   "metadata": {
    "collapsed": false
   },
   "outputs": [],
   "source": [
    "urls_train_df = pd.read_csv('data/url_domain_train', header=None, delimiter='\\t')\n",
    "urls_train_df.columns = ['id', 'url', 'count']\n",
    "urls_train_df = urls_train_df[['id', 'url']]"
   ]
  },
  {
   "cell_type": "code",
   "execution_count": 4,
   "metadata": {
    "collapsed": false
   },
   "outputs": [
    {
     "data": {
      "text/html": [
       "<div>\n",
       "<table border=\"1\" class=\"dataframe\">\n",
       "  <thead>\n",
       "    <tr style=\"text-align: right;\">\n",
       "      <th></th>\n",
       "      <th>id</th>\n",
       "      <th>url</th>\n",
       "    </tr>\n",
       "  </thead>\n",
       "  <tbody>\n",
       "    <tr>\n",
       "      <th>0</th>\n",
       "      <td>000000014B60815F65B38258011B6C01</td>\n",
       "      <td>login.rutracker.org</td>\n",
       "    </tr>\n",
       "    <tr>\n",
       "      <th>1</th>\n",
       "      <td>000000014B60815F65B38258011B6C01</td>\n",
       "      <td>rutracker.org</td>\n",
       "    </tr>\n",
       "    <tr>\n",
       "      <th>2</th>\n",
       "      <td>000000014C03DA2A47AC433A0C755201</td>\n",
       "      <td>admin.tour-spb.net</td>\n",
       "    </tr>\n",
       "    <tr>\n",
       "      <th>3</th>\n",
       "      <td>000000014C03DA2A47AC433A0C755201</td>\n",
       "      <td>czinfo.ru</td>\n",
       "    </tr>\n",
       "    <tr>\n",
       "      <th>4</th>\n",
       "      <td>000000014C03DA2A47AC433A0C755201</td>\n",
       "      <td>forumsostav.ru</td>\n",
       "    </tr>\n",
       "  </tbody>\n",
       "</table>\n",
       "</div>"
      ],
      "text/plain": [
       "                                 id                  url\n",
       "0  000000014B60815F65B38258011B6C01  login.rutracker.org\n",
       "1  000000014B60815F65B38258011B6C01        rutracker.org\n",
       "2  000000014C03DA2A47AC433A0C755201   admin.tour-spb.net\n",
       "3  000000014C03DA2A47AC433A0C755201            czinfo.ru\n",
       "4  000000014C03DA2A47AC433A0C755201       forumsostav.ru"
      ]
     },
     "execution_count": 4,
     "metadata": {},
     "output_type": "execute_result"
    }
   ],
   "source": [
    "urls_train_df.head()"
   ]
  },
  {
   "cell_type": "code",
   "execution_count": 5,
   "metadata": {
    "collapsed": false
   },
   "outputs": [],
   "source": [
    "urls_train_df = pd.DataFrame(urls_train_df.groupby('id')['url'].apply(lambda x: x.tolist()))\n",
    "urls_train_df['id'] = urls_train_df.index\n",
    "urls_train_df.index = range(len(urls_train_df))\n",
    "urls_train_df.columns = ['urls', 'id']"
   ]
  },
  {
   "cell_type": "code",
   "execution_count": 6,
   "metadata": {
    "collapsed": false
   },
   "outputs": [
    {
     "data": {
      "text/html": [
       "<div>\n",
       "<table border=\"1\" class=\"dataframe\">\n",
       "  <thead>\n",
       "    <tr style=\"text-align: right;\">\n",
       "      <th></th>\n",
       "      <th>urls</th>\n",
       "      <th>id</th>\n",
       "    </tr>\n",
       "  </thead>\n",
       "  <tbody>\n",
       "    <tr>\n",
       "      <th>0</th>\n",
       "      <td>[id.rambler.ru, mail.rambler.ru, r0.ru]</td>\n",
       "      <td>000000013CB5719C0000A2C90002C101</td>\n",
       "    </tr>\n",
       "    <tr>\n",
       "      <th>1</th>\n",
       "      <td>[1prime.ru, autorambler.ru, chellak.ru, docs.c...</td>\n",
       "      <td>00000001442BE24000001B7D00F50801</td>\n",
       "    </tr>\n",
       "    <tr>\n",
       "      <th>2</th>\n",
       "      <td>[bosch-korolev.ru]</td>\n",
       "      <td>00000001448580F800003F1B31FB0901</td>\n",
       "    </tr>\n",
       "    <tr>\n",
       "      <th>3</th>\n",
       "      <td>[aptekanizkihcen.ua, colady.ru, gorod.dp.ua, i...</td>\n",
       "      <td>0000000145BDB2FF000157971645E901</td>\n",
       "    </tr>\n",
       "    <tr>\n",
       "      <th>4</th>\n",
       "      <td>[astrorok.ru, diets.ru, edaplus.info, eshzdoro...</td>\n",
       "      <td>000000014602771F0000DB9359714C01</td>\n",
       "    </tr>\n",
       "  </tbody>\n",
       "</table>\n",
       "</div>"
      ],
      "text/plain": [
       "                                                urls  \\\n",
       "0            [id.rambler.ru, mail.rambler.ru, r0.ru]   \n",
       "1  [1prime.ru, autorambler.ru, chellak.ru, docs.c...   \n",
       "2                                 [bosch-korolev.ru]   \n",
       "3  [aptekanizkihcen.ua, colady.ru, gorod.dp.ua, i...   \n",
       "4  [astrorok.ru, diets.ru, edaplus.info, eshzdoro...   \n",
       "\n",
       "                                 id  \n",
       "0  000000013CB5719C0000A2C90002C101  \n",
       "1  00000001442BE24000001B7D00F50801  \n",
       "2  00000001448580F800003F1B31FB0901  \n",
       "3  0000000145BDB2FF000157971645E901  \n",
       "4  000000014602771F0000DB9359714C01  "
      ]
     },
     "execution_count": 6,
     "metadata": {},
     "output_type": "execute_result"
    }
   ],
   "source": [
    "urls_train_df.head()"
   ]
  },
  {
   "cell_type": "code",
   "execution_count": 7,
   "metadata": {
    "collapsed": false
   },
   "outputs": [],
   "source": [
    "age_train_df = pd.read_csv('data/age_profile_train', header=None, delimiter='\\t')\n",
    "age_train_df.columns = ['id', 'age']"
   ]
  },
  {
   "cell_type": "code",
   "execution_count": 8,
   "metadata": {
    "collapsed": false
   },
   "outputs": [
    {
     "data": {
      "text/html": [
       "<div>\n",
       "<table border=\"1\" class=\"dataframe\">\n",
       "  <thead>\n",
       "    <tr style=\"text-align: right;\">\n",
       "      <th></th>\n",
       "      <th>id</th>\n",
       "      <th>age</th>\n",
       "    </tr>\n",
       "  </thead>\n",
       "  <tbody>\n",
       "    <tr>\n",
       "      <th>0</th>\n",
       "      <td>000000013CB5719C0000A2C90002C101</td>\n",
       "      <td>53</td>\n",
       "    </tr>\n",
       "    <tr>\n",
       "      <th>1</th>\n",
       "      <td>00000001442BE24000001B7D00F50801</td>\n",
       "      <td>48</td>\n",
       "    </tr>\n",
       "    <tr>\n",
       "      <th>2</th>\n",
       "      <td>00000001448580F800003F1B31FB0901</td>\n",
       "      <td>28</td>\n",
       "    </tr>\n",
       "    <tr>\n",
       "      <th>3</th>\n",
       "      <td>0000000145BDB2FF000157971645E901</td>\n",
       "      <td>44</td>\n",
       "    </tr>\n",
       "    <tr>\n",
       "      <th>4</th>\n",
       "      <td>000000014602771F0000DB9359714C01</td>\n",
       "      <td>48</td>\n",
       "    </tr>\n",
       "  </tbody>\n",
       "</table>\n",
       "</div>"
      ],
      "text/plain": [
       "                                 id  age\n",
       "0  000000013CB5719C0000A2C90002C101   53\n",
       "1  00000001442BE24000001B7D00F50801   48\n",
       "2  00000001448580F800003F1B31FB0901   28\n",
       "3  0000000145BDB2FF000157971645E901   44\n",
       "4  000000014602771F0000DB9359714C01   48"
      ]
     },
     "execution_count": 8,
     "metadata": {},
     "output_type": "execute_result"
    }
   ],
   "source": [
    "age_train_df.head()"
   ]
  },
  {
   "cell_type": "code",
   "execution_count": 9,
   "metadata": {
    "collapsed": false,
    "scrolled": false
   },
   "outputs": [],
   "source": [
    "train_df = urls_train_df.merge(age_train_df, on='id', how='left')"
   ]
  },
  {
   "cell_type": "code",
   "execution_count": 10,
   "metadata": {
    "collapsed": false
   },
   "outputs": [
    {
     "data": {
      "text/html": [
       "<div>\n",
       "<table border=\"1\" class=\"dataframe\">\n",
       "  <thead>\n",
       "    <tr style=\"text-align: right;\">\n",
       "      <th></th>\n",
       "      <th>urls</th>\n",
       "      <th>id</th>\n",
       "      <th>age</th>\n",
       "    </tr>\n",
       "  </thead>\n",
       "  <tbody>\n",
       "    <tr>\n",
       "      <th>118598</th>\n",
       "      <td>[dme.ru]</td>\n",
       "      <td>E9B7BDD54E733BDF364DD7B4EF74CFEB</td>\n",
       "      <td>27</td>\n",
       "    </tr>\n",
       "    <tr>\n",
       "      <th>118599</th>\n",
       "      <td>[aif.ru, autochel.ru, chelyabinsk.ru, id.rambl...</td>\n",
       "      <td>E9B9D7D347EB1ACE5AAEEBFCE3FBCE7B</td>\n",
       "      <td>58</td>\n",
       "    </tr>\n",
       "    <tr>\n",
       "      <th>118600</th>\n",
       "      <td>[blog.partisani.ge, li.ru, tvrain.ru]</td>\n",
       "      <td>EBFAC66B4EE3FB96BA5DD7DDE3787FE7</td>\n",
       "      <td>56</td>\n",
       "    </tr>\n",
       "    <tr>\n",
       "      <th>118601</th>\n",
       "      <td>[doctorkirov.ru, drive.ru, extrim-park43.ru, m...</td>\n",
       "      <td>F537AD6B46D31ABFF597EFDFE1BDDE71</td>\n",
       "      <td>31</td>\n",
       "    </tr>\n",
       "    <tr>\n",
       "      <th>118602</th>\n",
       "      <td>[samara.drom.ru]</td>\n",
       "      <td>F55C7EDB467B9FAE1F97E7DDE1747F6B</td>\n",
       "      <td>35</td>\n",
       "    </tr>\n",
       "  </tbody>\n",
       "</table>\n",
       "</div>"
      ],
      "text/plain": [
       "                                                     urls  \\\n",
       "118598                                           [dme.ru]   \n",
       "118599  [aif.ru, autochel.ru, chelyabinsk.ru, id.rambl...   \n",
       "118600              [blog.partisani.ge, li.ru, tvrain.ru]   \n",
       "118601  [doctorkirov.ru, drive.ru, extrim-park43.ru, m...   \n",
       "118602                                   [samara.drom.ru]   \n",
       "\n",
       "                                      id  age  \n",
       "118598  E9B7BDD54E733BDF364DD7B4EF74CFEB   27  \n",
       "118599  E9B9D7D347EB1ACE5AAEEBFCE3FBCE7B   58  \n",
       "118600  EBFAC66B4EE3FB96BA5DD7DDE3787FE7   56  \n",
       "118601  F537AD6B46D31ABFF597EFDFE1BDDE71   31  \n",
       "118602  F55C7EDB467B9FAE1F97E7DDE1747F6B   35  "
      ]
     },
     "execution_count": 10,
     "metadata": {},
     "output_type": "execute_result"
    }
   ],
   "source": [
    "train_df.tail()"
   ]
  },
  {
   "cell_type": "code",
   "execution_count": 11,
   "metadata": {
    "collapsed": false
   },
   "outputs": [],
   "source": [
    "title_unify_train = pd.read_csv('data/title_unify_train', header=None, delimiter='\\t')\n",
    "title_unify_train.columns = ['id','words','count']\n",
    "title_unify_train = title_unify_train[['id','words']]"
   ]
  },
  {
   "cell_type": "code",
   "execution_count": 12,
   "metadata": {
    "collapsed": false,
    "scrolled": false
   },
   "outputs": [
    {
     "data": {
      "text/html": [
       "<div>\n",
       "<table border=\"1\" class=\"dataframe\">\n",
       "  <thead>\n",
       "    <tr style=\"text-align: right;\">\n",
       "      <th></th>\n",
       "      <th>id</th>\n",
       "      <th>words</th>\n",
       "    </tr>\n",
       "  </thead>\n",
       "  <tbody>\n",
       "    <tr>\n",
       "      <th>5850384</th>\n",
       "      <td>0625E40E56FB2B910000054E7CE27501</td>\n",
       "      <td>обозрение политический</td>\n",
       "    </tr>\n",
       "    <tr>\n",
       "      <th>5850385</th>\n",
       "      <td>0625E40E56FB2B910000054E7CE27501</td>\n",
       "      <td>обозрение политический страница</td>\n",
       "    </tr>\n",
       "    <tr>\n",
       "      <th>5850386</th>\n",
       "      <td>063915F15703D2CD000005362EDFB501</td>\n",
       "      <td>без вложение день заработок интернет рубль</td>\n",
       "    </tr>\n",
       "    <tr>\n",
       "      <th>5850387</th>\n",
       "      <td>063915F15703D2CD000005362EDFB501</td>\n",
       "      <td>бесплатный надёжный почта рамблер электронный</td>\n",
       "    </tr>\n",
       "    <tr>\n",
       "      <th>5850388</th>\n",
       "      <td>D79FBED94DD35ED75AADEDBC6D1CAFE7</td>\n",
       "      <td>март стих</td>\n",
       "    </tr>\n",
       "  </tbody>\n",
       "</table>\n",
       "</div>"
      ],
      "text/plain": [
       "                                       id  \\\n",
       "5850384  0625E40E56FB2B910000054E7CE27501   \n",
       "5850385  0625E40E56FB2B910000054E7CE27501   \n",
       "5850386  063915F15703D2CD000005362EDFB501   \n",
       "5850387  063915F15703D2CD000005362EDFB501   \n",
       "5850388  D79FBED94DD35ED75AADEDBC6D1CAFE7   \n",
       "\n",
       "                                                 words  \n",
       "5850384                         обозрение политический  \n",
       "5850385                обозрение политический страница  \n",
       "5850386     без вложение день заработок интернет рубль  \n",
       "5850387  бесплатный надёжный почта рамблер электронный  \n",
       "5850388                                      март стих  "
      ]
     },
     "execution_count": 12,
     "metadata": {},
     "output_type": "execute_result"
    }
   ],
   "source": [
    "title_unify_train.tail()"
   ]
  },
  {
   "cell_type": "code",
   "execution_count": 13,
   "metadata": {
    "collapsed": false
   },
   "outputs": [],
   "source": [
    "title_unify_train = pd.DataFrame(title_unify_train.groupby('id')['words'].apply(lambda x: ' '.join(x)))\n",
    "title_unify_train['id'] = title_unify_train.index\n",
    "title_unify_train.index = range(len(title_unify_train))\n",
    "title_unify_train.columns = ['words', 'id']"
   ]
  },
  {
   "cell_type": "code",
   "execution_count": 14,
   "metadata": {
    "collapsed": false,
    "scrolled": true
   },
   "outputs": [
    {
     "data": {
      "text/html": [
       "<div>\n",
       "<table border=\"1\" class=\"dataframe\">\n",
       "  <thead>\n",
       "    <tr style=\"text-align: right;\">\n",
       "      <th></th>\n",
       "      <th>words</th>\n",
       "      <th>id</th>\n",
       "    </tr>\n",
       "  </thead>\n",
       "  <tbody>\n",
       "    <tr>\n",
       "      <th>0</th>\n",
       "      <td>бесплатный надёжный почта рамблер электронный ...</td>\n",
       "      <td>000000013CB5719C0000A2C90002C101</td>\n",
       "    </tr>\n",
       "    <tr>\n",
       "      <th>1</th>\n",
       "      <td>24-х 34-х до договор неделя новость предложить...</td>\n",
       "      <td>00000001442BE24000001B7D00F50801</td>\n",
       "    </tr>\n",
       "    <tr>\n",
       "      <th>2</th>\n",
       "      <td>авто бош контакт королёв сервис авто бош корол...</td>\n",
       "      <td>00000001448580F800003F1B31FB0901</td>\n",
       "    </tr>\n",
       "    <tr>\n",
       "      <th>3</th>\n",
       "      <td>ua втрать війни донбасі за на новини озвучить ...</td>\n",
       "      <td>0000000145BDB2FF000157971645E901</td>\n",
       "    </tr>\n",
       "    <tr>\n",
       "      <th>4</th>\n",
       "      <td>black walnut грецкий орех чёрный inmoment ru w...</td>\n",
       "      <td>000000014602771F0000DB9359714C01</td>\n",
       "    </tr>\n",
       "  </tbody>\n",
       "</table>\n",
       "</div>"
      ],
      "text/plain": [
       "                                               words  \\\n",
       "0  бесплатный надёжный почта рамблер электронный ...   \n",
       "1  24-х 34-х до договор неделя новость предложить...   \n",
       "2  авто бош контакт королёв сервис авто бош корол...   \n",
       "3  ua втрать війни донбасі за на новини озвучить ...   \n",
       "4  black walnut грецкий орех чёрный inmoment ru w...   \n",
       "\n",
       "                                 id  \n",
       "0  000000013CB5719C0000A2C90002C101  \n",
       "1  00000001442BE24000001B7D00F50801  \n",
       "2  00000001448580F800003F1B31FB0901  \n",
       "3  0000000145BDB2FF000157971645E901  \n",
       "4  000000014602771F0000DB9359714C01  "
      ]
     },
     "execution_count": 14,
     "metadata": {},
     "output_type": "execute_result"
    }
   ],
   "source": [
    "title_unify_train.head()"
   ]
  },
  {
   "cell_type": "code",
   "execution_count": 15,
   "metadata": {
    "collapsed": false
   },
   "outputs": [],
   "source": [
    "train_df = train_df.merge(title_unify_train, on='id', how='left')"
   ]
  },
  {
   "cell_type": "code",
   "execution_count": 16,
   "metadata": {
    "collapsed": false,
    "scrolled": true
   },
   "outputs": [
    {
     "data": {
      "text/html": [
       "<div>\n",
       "<table border=\"1\" class=\"dataframe\">\n",
       "  <thead>\n",
       "    <tr style=\"text-align: right;\">\n",
       "      <th></th>\n",
       "      <th>urls</th>\n",
       "      <th>id</th>\n",
       "      <th>age</th>\n",
       "      <th>words</th>\n",
       "    </tr>\n",
       "  </thead>\n",
       "  <tbody>\n",
       "    <tr>\n",
       "      <th>118598</th>\n",
       "      <td>[dme.ru]</td>\n",
       "      <td>E9B7BDD54E733BDF364DD7B4EF74CFEB</td>\n",
       "      <td>27</td>\n",
       "      <td>NaN</td>\n",
       "    </tr>\n",
       "    <tr>\n",
       "      <th>118599</th>\n",
       "      <td>[aif.ru, autochel.ru, chelyabinsk.ru, id.rambl...</td>\n",
       "      <td>E9B9D7D347EB1ACE5AAEEBFCE3FBCE7B</td>\n",
       "      <td>58</td>\n",
       "      <td>4z7616051a 4z7616051d 4z7616052a allroad arnot...</td>\n",
       "    </tr>\n",
       "    <tr>\n",
       "      <th>118600</th>\n",
       "      <td>[blog.partisani.ge, li.ru, tvrain.ru]</td>\n",
       "      <td>EBFAC66B4EE3FB96BA5DD7DDE3787FE7</td>\n",
       "      <td>56</td>\n",
       "      <td>ru онлайн попка порно секс азербайджан военный...</td>\n",
       "    </tr>\n",
       "    <tr>\n",
       "      <th>118601</th>\n",
       "      <td>[doctorkirov.ru, drive.ru, extrim-park43.ru, m...</td>\n",
       "      <td>F537AD6B46D31ABFF597EFDFE1BDDE71</td>\n",
       "      <td>31</td>\n",
       "      <td>5d merced-benz видео драйв комплектация отзыв ...</td>\n",
       "    </tr>\n",
       "    <tr>\n",
       "      <th>118602</th>\n",
       "      <td>[samara.drom.ru]</td>\n",
       "      <td>F55C7EDB467B9FAE1F97E7DDE1747F6B</td>\n",
       "      <td>35</td>\n",
       "      <td>NaN</td>\n",
       "    </tr>\n",
       "  </tbody>\n",
       "</table>\n",
       "</div>"
      ],
      "text/plain": [
       "                                                     urls  \\\n",
       "118598                                           [dme.ru]   \n",
       "118599  [aif.ru, autochel.ru, chelyabinsk.ru, id.rambl...   \n",
       "118600              [blog.partisani.ge, li.ru, tvrain.ru]   \n",
       "118601  [doctorkirov.ru, drive.ru, extrim-park43.ru, m...   \n",
       "118602                                   [samara.drom.ru]   \n",
       "\n",
       "                                      id  age  \\\n",
       "118598  E9B7BDD54E733BDF364DD7B4EF74CFEB   27   \n",
       "118599  E9B9D7D347EB1ACE5AAEEBFCE3FBCE7B   58   \n",
       "118600  EBFAC66B4EE3FB96BA5DD7DDE3787FE7   56   \n",
       "118601  F537AD6B46D31ABFF597EFDFE1BDDE71   31   \n",
       "118602  F55C7EDB467B9FAE1F97E7DDE1747F6B   35   \n",
       "\n",
       "                                                    words  \n",
       "118598                                                NaN  \n",
       "118599  4z7616051a 4z7616051d 4z7616052a allroad arnot...  \n",
       "118600  ru онлайн попка порно секс азербайджан военный...  \n",
       "118601  5d merced-benz видео драйв комплектация отзыв ...  \n",
       "118602                                                NaN  "
      ]
     },
     "execution_count": 16,
     "metadata": {},
     "output_type": "execute_result"
    }
   ],
   "source": [
    "train_df.tail()"
   ]
  },
  {
   "cell_type": "code",
   "execution_count": 17,
   "metadata": {
    "collapsed": false
   },
   "outputs": [],
   "source": [
    "train_df = train_df[['id','urls','words','age']]"
   ]
  },
  {
   "cell_type": "code",
   "execution_count": 18,
   "metadata": {
    "collapsed": false
   },
   "outputs": [
    {
     "data": {
      "text/html": [
       "<div>\n",
       "<table border=\"1\" class=\"dataframe\">\n",
       "  <thead>\n",
       "    <tr style=\"text-align: right;\">\n",
       "      <th></th>\n",
       "      <th>id</th>\n",
       "      <th>urls</th>\n",
       "      <th>words</th>\n",
       "      <th>age</th>\n",
       "    </tr>\n",
       "  </thead>\n",
       "  <tbody>\n",
       "    <tr>\n",
       "      <th>118598</th>\n",
       "      <td>E9B7BDD54E733BDF364DD7B4EF74CFEB</td>\n",
       "      <td>[dme.ru]</td>\n",
       "      <td>NaN</td>\n",
       "      <td>27</td>\n",
       "    </tr>\n",
       "    <tr>\n",
       "      <th>118599</th>\n",
       "      <td>E9B9D7D347EB1ACE5AAEEBFCE3FBCE7B</td>\n",
       "      <td>[aif.ru, autochel.ru, chelyabinsk.ru, id.rambl...</td>\n",
       "      <td>4z7616051a 4z7616051d 4z7616052a allroad arnot...</td>\n",
       "      <td>58</td>\n",
       "    </tr>\n",
       "    <tr>\n",
       "      <th>118600</th>\n",
       "      <td>EBFAC66B4EE3FB96BA5DD7DDE3787FE7</td>\n",
       "      <td>[blog.partisani.ge, li.ru, tvrain.ru]</td>\n",
       "      <td>ru онлайн попка порно секс азербайджан военный...</td>\n",
       "      <td>56</td>\n",
       "    </tr>\n",
       "    <tr>\n",
       "      <th>118601</th>\n",
       "      <td>F537AD6B46D31ABFF597EFDFE1BDDE71</td>\n",
       "      <td>[doctorkirov.ru, drive.ru, extrim-park43.ru, m...</td>\n",
       "      <td>5d merced-benz видео драйв комплектация отзыв ...</td>\n",
       "      <td>31</td>\n",
       "    </tr>\n",
       "    <tr>\n",
       "      <th>118602</th>\n",
       "      <td>F55C7EDB467B9FAE1F97E7DDE1747F6B</td>\n",
       "      <td>[samara.drom.ru]</td>\n",
       "      <td>NaN</td>\n",
       "      <td>35</td>\n",
       "    </tr>\n",
       "  </tbody>\n",
       "</table>\n",
       "</div>"
      ],
      "text/plain": [
       "                                      id  \\\n",
       "118598  E9B7BDD54E733BDF364DD7B4EF74CFEB   \n",
       "118599  E9B9D7D347EB1ACE5AAEEBFCE3FBCE7B   \n",
       "118600  EBFAC66B4EE3FB96BA5DD7DDE3787FE7   \n",
       "118601  F537AD6B46D31ABFF597EFDFE1BDDE71   \n",
       "118602  F55C7EDB467B9FAE1F97E7DDE1747F6B   \n",
       "\n",
       "                                                     urls  \\\n",
       "118598                                           [dme.ru]   \n",
       "118599  [aif.ru, autochel.ru, chelyabinsk.ru, id.rambl...   \n",
       "118600              [blog.partisani.ge, li.ru, tvrain.ru]   \n",
       "118601  [doctorkirov.ru, drive.ru, extrim-park43.ru, m...   \n",
       "118602                                   [samara.drom.ru]   \n",
       "\n",
       "                                                    words  age  \n",
       "118598                                                NaN   27  \n",
       "118599  4z7616051a 4z7616051d 4z7616052a allroad arnot...   58  \n",
       "118600  ru онлайн попка порно секс азербайджан военный...   56  \n",
       "118601  5d merced-benz видео драйв комплектация отзыв ...   31  \n",
       "118602                                                NaN   35  "
      ]
     },
     "execution_count": 18,
     "metadata": {},
     "output_type": "execute_result"
    }
   ],
   "source": [
    "train_df.tail()"
   ]
  },
  {
   "cell_type": "code",
   "execution_count": 19,
   "metadata": {
    "collapsed": false
   },
   "outputs": [
    {
     "data": {
      "text/plain": [
       "<matplotlib.axes._subplots.AxesSubplot at 0x7f7495b79710>"
      ]
     },
     "execution_count": 19,
     "metadata": {},
     "output_type": "execute_result"
    },
    {
     "data": {
      "image/png": "[encoded data removed]",
      "text/plain": [
       "<matplotlib.figure.Figure at 0x7f74738863d0>"
      ]
     },
     "metadata": {},
     "output_type": "display_data"
    }
   ],
   "source": [
    "age_count = []\n",
    "for age in xrange(100):\n",
    "    age_count += [len(train_df[train_df.age == age])]\n",
    "pd.Series(age_count).plot(figsize=(10,4))"
   ]
  },
  {
   "cell_type": "code",
   "execution_count": 20,
   "metadata": {
    "collapsed": false
   },
   "outputs": [
    {
     "data": {
      "text/plain": [
       "[<matplotlib.lines.Line2D at 0x7f7496214ed0>]"
      ]
     },
     "execution_count": 20,
     "metadata": {},
     "output_type": "execute_result"
    },
    {
     "data": {
      "image/png": "[encoded data removed]",
      "text/plain": [
       "<matplotlib.figure.Figure at 0x7f74964ea590>"
      ]
     },
     "metadata": {},
     "output_type": "display_data"
    }
   ],
   "source": [
    "age_count = []\n",
    "for i in xrange(10):\n",
    "    age_count += [len(train_df[train_df.age % 10 == i])]\n",
    "plt.plot(age_count)"
   ]
  },
  {
   "cell_type": "code",
   "execution_count": 21,
   "metadata": {
    "collapsed": false
   },
   "outputs": [
    {
     "data": {
      "text/html": [
       "<div>\n",
       "<table border=\"1\" class=\"dataframe\">\n",
       "  <thead>\n",
       "    <tr style=\"text-align: right;\">\n",
       "      <th></th>\n",
       "      <th>id</th>\n",
       "      <th>urls</th>\n",
       "      <th>words</th>\n",
       "      <th>age</th>\n",
       "    </tr>\n",
       "  </thead>\n",
       "  <tbody>\n",
       "    <tr>\n",
       "      <th>118148</th>\n",
       "      <td>0625E94F5702082200000543EDA15F01</td>\n",
       "      <td>[anitokyo.tv, consultmill.ru, kakras.ru, mail....</td>\n",
       "      <td>formar terra аниме бесплатно онлайн смотреть т...</td>\n",
       "      <td>25</td>\n",
       "    </tr>\n",
       "    <tr>\n",
       "      <th>118257</th>\n",
       "      <td>06323A7556EA742B00000534ED7F9901</td>\n",
       "      <td>[aktteva.ru, m.rambler.ru, mirtesen.ru, newss....</td>\n",
       "      <td>америка взбесить войско вывод почему будущее в...</td>\n",
       "      <td>45</td>\n",
       "    </tr>\n",
       "    <tr>\n",
       "      <th>118368</th>\n",
       "      <td>063905E556DFCF6D00000540B3121801</td>\n",
       "      <td>[abonentov.net, chat.ru, gazeta.ru, gisclub.tv...</td>\n",
       "      <td>3g usb-модем для интернет мобильный gi прошивк...</td>\n",
       "      <td>55</td>\n",
       "    </tr>\n",
       "    <tr>\n",
       "      <th>118488</th>\n",
       "      <td>06392CA75702A7630000054E1849B501</td>\n",
       "      <td>[d2bingo.ru, id.rambler.ru, mail.rambler.ru, m...</td>\n",
       "      <td>co rambler авторизация d2bingo ru дот испытать...</td>\n",
       "      <td>25</td>\n",
       "    </tr>\n",
       "    <tr>\n",
       "      <th>118602</th>\n",
       "      <td>F55C7EDB467B9FAE1F97E7DDE1747F6B</td>\n",
       "      <td>[samara.drom.ru]</td>\n",
       "      <td>NaN</td>\n",
       "      <td>35</td>\n",
       "    </tr>\n",
       "  </tbody>\n",
       "</table>\n",
       "</div>"
      ],
      "text/plain": [
       "                                      id  \\\n",
       "118148  0625E94F5702082200000543EDA15F01   \n",
       "118257  06323A7556EA742B00000534ED7F9901   \n",
       "118368  063905E556DFCF6D00000540B3121801   \n",
       "118488  06392CA75702A7630000054E1849B501   \n",
       "118602  F55C7EDB467B9FAE1F97E7DDE1747F6B   \n",
       "\n",
       "                                                     urls  \\\n",
       "118148  [anitokyo.tv, consultmill.ru, kakras.ru, mail....   \n",
       "118257  [aktteva.ru, m.rambler.ru, mirtesen.ru, newss....   \n",
       "118368  [abonentov.net, chat.ru, gazeta.ru, gisclub.tv...   \n",
       "118488  [d2bingo.ru, id.rambler.ru, mail.rambler.ru, m...   \n",
       "118602                                   [samara.drom.ru]   \n",
       "\n",
       "                                                    words  age  \n",
       "118148  formar terra аниме бесплатно онлайн смотреть т...   25  \n",
       "118257  америка взбесить войско вывод почему будущее в...   45  \n",
       "118368  3g usb-модем для интернет мобильный gi прошивк...   55  \n",
       "118488  co rambler авторизация d2bingo ru дот испытать...   25  \n",
       "118602                                                NaN   35  "
      ]
     },
     "execution_count": 21,
     "metadata": {},
     "output_type": "execute_result"
    }
   ],
   "source": [
    "train_df[train_df.age % 10 == 5].tail()"
   ]
  },
  {
   "cell_type": "code",
   "execution_count": 22,
   "metadata": {
    "collapsed": false
   },
   "outputs": [
    {
     "name": "stdout",
     "output_type": "stream",
     "text": [
      "2254\n"
     ]
    }
   ],
   "source": [
    "print(len(train_df[train_df.age >= 65]))\n",
    "train_df = train_df[train_df.age < 65]"
   ]
  },
  {
   "cell_type": "code",
   "execution_count": 23,
   "metadata": {
    "collapsed": false
   },
   "outputs": [
    {
     "name": "stdout",
     "output_type": "stream",
     "text": [
      "3387\n"
     ]
    }
   ],
   "source": [
    "print(len(train_df[train_df.age <= 15]))\n",
    "train_df = train_df[train_df.age > 15]"
   ]
  },
  {
   "cell_type": "code",
   "execution_count": 24,
   "metadata": {
    "collapsed": false,
    "scrolled": true
   },
   "outputs": [
    {
     "data": {
      "text/html": [
       "<div>\n",
       "<table border=\"1\" class=\"dataframe\">\n",
       "  <thead>\n",
       "    <tr style=\"text-align: right;\">\n",
       "      <th></th>\n",
       "      <th>id</th>\n",
       "      <th>urls</th>\n",
       "      <th>words</th>\n",
       "      <th>age</th>\n",
       "    </tr>\n",
       "  </thead>\n",
       "  <tbody>\n",
       "    <tr>\n",
       "      <th>118598</th>\n",
       "      <td>E9B7BDD54E733BDF364DD7B4EF74CFEB</td>\n",
       "      <td>[dme.ru]</td>\n",
       "      <td>NaN</td>\n",
       "      <td>27</td>\n",
       "    </tr>\n",
       "    <tr>\n",
       "      <th>118599</th>\n",
       "      <td>E9B9D7D347EB1ACE5AAEEBFCE3FBCE7B</td>\n",
       "      <td>[aif.ru, autochel.ru, chelyabinsk.ru, id.rambl...</td>\n",
       "      <td>4z7616051a 4z7616051d 4z7616052a allroad arnot...</td>\n",
       "      <td>58</td>\n",
       "    </tr>\n",
       "    <tr>\n",
       "      <th>118600</th>\n",
       "      <td>EBFAC66B4EE3FB96BA5DD7DDE3787FE7</td>\n",
       "      <td>[blog.partisani.ge, li.ru, tvrain.ru]</td>\n",
       "      <td>ru онлайн попка порно секс азербайджан военный...</td>\n",
       "      <td>56</td>\n",
       "    </tr>\n",
       "    <tr>\n",
       "      <th>118601</th>\n",
       "      <td>F537AD6B46D31ABFF597EFDFE1BDDE71</td>\n",
       "      <td>[doctorkirov.ru, drive.ru, extrim-park43.ru, m...</td>\n",
       "      <td>5d merced-benz видео драйв комплектация отзыв ...</td>\n",
       "      <td>31</td>\n",
       "    </tr>\n",
       "    <tr>\n",
       "      <th>118602</th>\n",
       "      <td>F55C7EDB467B9FAE1F97E7DDE1747F6B</td>\n",
       "      <td>[samara.drom.ru]</td>\n",
       "      <td>NaN</td>\n",
       "      <td>35</td>\n",
       "    </tr>\n",
       "  </tbody>\n",
       "</table>\n",
       "</div>"
      ],
      "text/plain": [
       "                                      id  \\\n",
       "118598  E9B7BDD54E733BDF364DD7B4EF74CFEB   \n",
       "118599  E9B9D7D347EB1ACE5AAEEBFCE3FBCE7B   \n",
       "118600  EBFAC66B4EE3FB96BA5DD7DDE3787FE7   \n",
       "118601  F537AD6B46D31ABFF597EFDFE1BDDE71   \n",
       "118602  F55C7EDB467B9FAE1F97E7DDE1747F6B   \n",
       "\n",
       "                                                     urls  \\\n",
       "118598                                           [dme.ru]   \n",
       "118599  [aif.ru, autochel.ru, chelyabinsk.ru, id.rambl...   \n",
       "118600              [blog.partisani.ge, li.ru, tvrain.ru]   \n",
       "118601  [doctorkirov.ru, drive.ru, extrim-park43.ru, m...   \n",
       "118602                                   [samara.drom.ru]   \n",
       "\n",
       "                                                    words  age  \n",
       "118598                                                NaN   27  \n",
       "118599  4z7616051a 4z7616051d 4z7616052a allroad arnot...   58  \n",
       "118600  ru онлайн попка порно секс азербайджан военный...   56  \n",
       "118601  5d merced-benz видео драйв комплектация отзыв ...   31  \n",
       "118602                                                NaN   35  "
      ]
     },
     "execution_count": 24,
     "metadata": {},
     "output_type": "execute_result"
    }
   ],
   "source": [
    "train_df.tail()"
   ]
  },
  {
   "cell_type": "code",
   "execution_count": 26,
   "metadata": {
    "collapsed": false
   },
   "outputs": [],
   "source": [
    "train_df = train_df[train_df.words == train_df.words]"
   ]
  },
  {
   "cell_type": "markdown",
   "metadata": {},
   "source": [
    "## Снижение размерности"
   ]
  },
  {
   "cell_type": "code",
   "execution_count": 29,
   "metadata": {
    "collapsed": false
   },
   "outputs": [
    {
     "data": {
      "text/plain": [
       "108573"
      ]
     },
     "execution_count": 29,
     "metadata": {},
     "output_type": "execute_result"
    }
   ],
   "source": [
    "topk = 300000\n",
    "X_urls, X_title, y = train_df.urls.values[:topk], train_df.words.values[:topk], train_df.age.values[:topk]\n",
    "y = y - 36\n",
    "y.size"
   ]
  },
  {
   "cell_type": "code",
   "execution_count": 27,
   "metadata": {
    "collapsed": false,
    "scrolled": true
   },
   "outputs": [
    {
     "data": {
      "text/plain": [
       "<matplotlib.axes._subplots.AxesSubplot at 0x7f0b8be1ff90>"
      ]
     },
     "execution_count": 27,
     "metadata": {},
     "output_type": "execute_result"
    },
    {
     "data": {
      "image/png": "[encoded data removed]",
      "text/plain": [
       "<matplotlib.figure.Figure at 0x7f0b8be3c8d0>"
      ]
     },
     "metadata": {},
     "output_type": "display_data"
    }
   ],
   "source": [
    "url_frequency = pd.Series([j for i in X_urls for j in i]).value_counts()\n",
    "url_frequency.index = range(len(url_frequency))\n",
    "url_frequency.cumsum().plot(figsize=(12,2))"
   ]
  },
  {
   "cell_type": "code",
   "execution_count": 28,
   "metadata": {
    "collapsed": false
   },
   "outputs": [
    {
     "data": {
      "text/plain": [
       "<matplotlib.axes._subplots.AxesSubplot at 0x7f0ad5c85f50>"
      ]
     },
     "execution_count": 28,
     "metadata": {},
     "output_type": "execute_result"
    },
    {
     "data": {
      "image/png": "[encoded data removed]",
      "text/plain": [
       "<matplotlib.figure.Figure at 0x7f0b8be1f690>"
      ]
     },
     "metadata": {},
     "output_type": "display_data"
    }
   ],
   "source": [
    "title_frequency = pd.Series([j for i in X_title for j in i.split()]).value_counts()\n",
    "title_frequency.index = range(len(title_frequency))\n",
    "title_frequency[0:20000].cumsum().plot(figsize=(12,2))"
   ]
  },
  {
   "cell_type": "code",
   "execution_count": 29,
   "metadata": {
    "collapsed": false
   },
   "outputs": [],
   "source": [
    "X_urls = map(lambda x: ' '.join(x), X_urls)\n",
    "hw_u = HashingVectorizer(n_features=1000, non_negative=True).fit(X_urls)\n",
    "X_urls = hw_u.transform(X_urls)"
   ]
  },
  {
   "cell_type": "code",
   "execution_count": 30,
   "metadata": {
    "collapsed": false,
    "scrolled": true
   },
   "outputs": [
    {
     "data": {
      "text/plain": [
       "(108573, 1000)"
      ]
     },
     "execution_count": 30,
     "metadata": {},
     "output_type": "execute_result"
    }
   ],
   "source": [
    "X_urls.shape"
   ]
  },
  {
   "cell_type": "code",
   "execution_count": 31,
   "metadata": {
    "collapsed": false,
    "scrolled": true
   },
   "outputs": [
    {
     "name": "stdout",
     "output_type": "stream",
     "text": [
      "1\n"
     ]
    }
   ],
   "source": [
    "#X_title = map(lambda x: ' '.join(x), X_title)\n",
    "hw_t = HashingVectorizer(n_features=1000, non_negative=True, decode_error='ignore').fit(X_title)\n",
    "X_title = hw_t.transform(X_title)\n",
    "print 1"
   ]
  },
  {
   "cell_type": "code",
   "execution_count": 40,
   "metadata": {
    "collapsed": false
   },
   "outputs": [
    {
     "data": {
      "text/plain": [
       "(108573, 1000)"
      ]
     },
     "execution_count": 40,
     "metadata": {},
     "output_type": "execute_result"
    }
   ],
   "source": [
    "X_title.shape"
   ]
  },
  {
   "cell_type": "code",
   "execution_count": 33,
   "metadata": {
    "collapsed": false
   },
   "outputs": [
    {
     "name": "stdout",
     "output_type": "stream",
     "text": [
      "CPU times: user 17min 55s, sys: 11 s, total: 18min 6s\n",
      "Wall time: 11min 28s\n"
     ]
    }
   ],
   "source": [
    "%%time\n",
    "\n",
    "transformer = sklearn.decomposition.NMF(n_components=100)\n",
    "X_nmf = transformer.fit_transform(X_urls)"
   ]
  },
  {
   "cell_type": "code",
   "execution_count": 34,
   "metadata": {
    "collapsed": false
   },
   "outputs": [
    {
     "data": {
      "text/plain": [
       "(108573, 100)"
      ]
     },
     "execution_count": 34,
     "metadata": {},
     "output_type": "execute_result"
    }
   ],
   "source": [
    "X_nmf.shape"
   ]
  },
  {
   "cell_type": "code",
   "execution_count": null,
   "metadata": {
    "collapsed": false,
    "scrolled": true
   },
   "outputs": [],
   "source": [
    "clust = AgglomerativeClustering(5)\n",
    "clust.fit(X_nmf[:10000]) "
   ]
  },
  {
   "cell_type": "markdown",
   "metadata": {},
   "source": [
    "## Холдаут"
   ]
  },
  {
   "cell_type": "code",
   "execution_count": 37,
   "metadata": {
    "collapsed": false
   },
   "outputs": [
    {
     "data": {
      "text/plain": [
       "(72382, 36191)"
      ]
     },
     "execution_count": 37,
     "metadata": {},
     "output_type": "execute_result"
    }
   ],
   "source": [
    "itrain, itest = cross_validation.train_test_split(range(X_urls.shape[0]), test_size=1./3, random_state=42)\n",
    "len(itrain), len(itest)"
   ]
  },
  {
   "cell_type": "markdown",
   "metadata": {},
   "source": [
    "## Обучение модели"
   ]
  },
  {
   "cell_type": "markdown",
   "metadata": {},
   "source": [
    "Константный бейзлайн"
   ]
  },
  {
   "cell_type": "code",
   "execution_count": 68,
   "metadata": {
    "collapsed": false
   },
   "outputs": [
    {
     "data": {
      "text/plain": [
       "10.772915115482986"
      ]
     },
     "execution_count": 68,
     "metadata": {},
     "output_type": "execute_result"
    }
   ],
   "source": [
    "rmse(y[itest], np.mean(y[itrain]))\n"
   ]
  },
  {
   "cell_type": "code",
   "execution_count": 69,
   "metadata": {
    "collapsed": false
   },
   "outputs": [
    {
     "name": "stdout",
     "output_type": "stream",
     "text": [
      "(16, 36.285734022270731, 64)\n",
      "1 0\n",
      "2 0\n",
      "3 0\n",
      "4 0\n",
      "5 0\n"
     ]
    }
   ],
   "source": [
    "print(min(y),np.mean(y),max(y))\n",
    "for i  in xrange(1,6):\n",
    "    print i, y[y == i].size"
   ]
  },
  {
   "cell_type": "markdown",
   "metadata": {},
   "source": [
    "Линейная модель на обычных фичах"
   ]
  },
  {
   "cell_type": "code",
   "execution_count": 67,
   "metadata": {
    "collapsed": false
   },
   "outputs": [],
   "source": [
    "y = train_df.age.values"
   ]
  },
  {
   "cell_type": "code",
   "execution_count": null,
   "metadata": {
    "collapsed": true
   },
   "outputs": [],
   "source": []
  },
  {
   "cell_type": "code",
   "execution_count": 89,
   "metadata": {
    "collapsed": false
   },
   "outputs": [
    {
     "name": "stdout",
     "output_type": "stream",
     "text": [
      "10.0981521299\n"
     ]
    }
   ],
   "source": [
    "reg1 = LinearRegression()\n",
    "reg1.fit(X_urls[itrain, :], y[itrain])\n",
    "\n",
    "pred_X_urls = reg1.predict(X_urls[itest, :])\n",
    "print(rmse(y[itest], pred_X_urls))"
   ]
  },
  {
   "cell_type": "code",
   "execution_count": null,
   "metadata": {
    "collapsed": true
   },
   "outputs": [],
   "source": []
  },
  {
   "cell_type": "markdown",
   "metadata": {},
   "source": [
    "Линейная модель на NMF от обычных фичей"
   ]
  },
  {
   "cell_type": "code",
   "execution_count": 71,
   "metadata": {
    "collapsed": false,
    "scrolled": false
   },
   "outputs": [
    {
     "name": "stdout",
     "output_type": "stream",
     "text": [
      "10.2421827729\n"
     ]
    }
   ],
   "source": [
    "reg = LinearRegression()\n",
    "reg.fit(X_nmf[itrain, :], y[itrain])\n",
    "\n",
    "pred_X_nmf = reg.predict(X_nmf[itest, :])\n",
    "print(rmse(y[itest], pred_X_nmf))"
   ]
  },
  {
   "cell_type": "code",
   "execution_count": 72,
   "metadata": {
    "collapsed": false,
    "scrolled": true
   },
   "outputs": [
    {
     "name": "stdout",
     "output_type": "stream",
     "text": [
      "10.2857097797\n",
      "10.3606430539\n"
     ]
    }
   ],
   "source": [
    "reg2 = sklearn.ensemble.ExtraTreesRegressor(n_estimators=100, max_leaf_nodes=10)\n",
    "reg2.fit(X_title[itrain, :], y[itrain])\n",
    "\n",
    "print rmse(reg2.predict(X_title[itrain, :]), y[itrain])\n",
    "pred_X_title = reg2.predict(X_title[itest, :])\n",
    "print(rmse(y[itest], pred_X_title))"
   ]
  },
  {
   "cell_type": "code",
   "execution_count": 90,
   "metadata": {
    "collapsed": false
   },
   "outputs": [
    {
     "name": "stdout",
     "output_type": "stream",
     "text": [
      "9.9057200552\n",
      "10.1387454485\n"
     ]
    }
   ],
   "source": [
    "reg3 = LinearRegression()\n",
    "reg3.fit(X_title[itrain, :], y[itrain])\n",
    "\n",
    "print rmse(reg3.predict(X_title[itrain, :]), y[itrain])\n",
    "pred_X_title = reg3.predict(X_title[itest, :])\n",
    "print(rmse(y[itest], pred_X_title))"
   ]
  },
  {
   "cell_type": "markdown",
   "metadata": {},
   "source": [
    "Линейная комбинация"
   ]
  },
  {
   "cell_type": "code",
   "execution_count": 91,
   "metadata": {
    "collapsed": false
   },
   "outputs": [
    {
     "name": "stdout",
     "output_type": "stream",
     "text": [
      "9.95417939845\n",
      "46\n"
     ]
    },
    {
     "data": {
      "image/png": "[encoded data removed]",
      "text/plain": [
       "<matplotlib.figure.Figure at 0x7f0b5c5fc290>"
      ]
     },
     "metadata": {},
     "output_type": "display_data"
    }
   ],
   "source": [
    "error = []\n",
    "for w in np.linspace(0, 1, 100):\n",
    "     error += [rmse(y[itest], pred_X_title * w + (1-w) * pred_X_urls)]\n",
    "\n",
    "pd.Series(error, index=np.linspace(0, 1, 100)).plot(figsize=(6,3))\n",
    "print(min(error))\n",
    "print np.argmin(error)"
   ]
  },
  {
   "cell_type": "code",
   "execution_count": null,
   "metadata": {
    "collapsed": false
   },
   "outputs": [],
   "source": [
    "clas = sklearn.ensemble.RandomForestClassifier(n_estimators=1000 ,max_depth=5)\n",
    "clas.fit(X_nmf[itrain, :], y[itrain])\n",
    "\n",
    "pred_X = clas.predict(X_nmf[itrain, :])\n",
    "print(rmse(y[itrain], pred_X))\n",
    "\n",
    "pred_X = clas.predict(X_nmf[itest, :])\n",
    "print(rmse(y[itest], pred_X))"
   ]
  },
  {
   "cell_type": "code",
   "execution_count": null,
   "metadata": {
    "collapsed": false
   },
   "outputs": [],
   "source": [
    "clas = sklearn.multiclass.OneVsRestClassifier(sklearn.ensemble.GradientBoostingClassifier(n_estimators=100 ,max_depth=3))\n",
    "clas.fit(X_nmf[itrain, :], y[itrain])\n",
    "\n",
    "pred_X = clas.predict(X_nmf[itrain, :])\n",
    "print(rmse(y[itrain], pred_X))\n",
    "\n",
    "pred_X = clas.predict(X_nmf[itest, :])\n",
    "print(rmse(y[itest], pred_X))\n"
   ]
  },
  {
   "cell_type": "code",
   "execution_count": 63,
   "metadata": {
    "collapsed": false
   },
   "outputs": [
    {
     "name": "stdout",
     "output_type": "stream",
     "text": [
      "9.46016686385\n",
      "10.1185003515\n"
     ]
    }
   ],
   "source": [
    "reg = sklearn.ensemble.RandomForestRegressor(n_estimators=100 ,max_depth=10)\n",
    "reg.fit(X_nmf[itrain, :], y[itrain])\n",
    "\n",
    "pred_X_nmf = reg.predict(X_nmf[itrain, :])\n",
    "print(rmse(y[itrain], pred_X_nmf))\n",
    "\n",
    "pred_X_nmf = reg.predict(X_nmf[itest, :])\n",
    "print(rmse(y[itest], pred_X_nmf))"
   ]
  },
  {
   "cell_type": "code",
   "execution_count": 65,
   "metadata": {
    "collapsed": false
   },
   "outputs": [
    {
     "name": "stdout",
     "output_type": "stream",
     "text": [
      "1.01700199037\n",
      "1.029063568\n"
     ]
    }
   ],
   "source": [
    "reg = sklearn.ensemble.GradientBoostingRegressor(n_estimators=100 ,max_leaf_nodes=5)\n",
    "reg.fit(X_nmf[itrain, :], y[itrain])\n",
    "\n",
    "pred_X_nmf = reg.predict(X_nmf[itrain, :])\n",
    "print(rmse(y[itrain], pred_X_nmf))\n",
    "\n",
    "pred_X_nmf = reg.predict(X_nmf[itest, :])\n",
    "print(rmse(y[itest], pred_X_nmf))"
   ]
  },
  {
   "cell_type": "code",
   "execution_count": 62,
   "metadata": {
    "collapsed": false,
    "scrolled": true
   },
   "outputs": [
    {
     "name": "stdout",
     "output_type": "stream",
     "text": [
      "10.104669539\n",
      "10.2632022269\n"
     ]
    }
   ],
   "source": [
    "reg2 = sklearn.ensemble.GradientBoostingRegressor(n_estimators=10 ,max_depth=6)\n",
    "reg2.fit(X_nmf[itrain, :], y[itrain])\n",
    "\n",
    "pred_X_nmf = reg2.predict(X_nmf[itrain, :])\n",
    "print(rmse(y[itrain], pred_X_nmf))\n",
    "\n",
    "pred_X_nmf = reg2.predict(X_nmf[itest, :])\n",
    "print(rmse(y[itest], pred_X_nmf))"
   ]
  },
  {
   "cell_type": "code",
   "execution_count": null,
   "metadata": {
    "collapsed": false
   },
   "outputs": [],
   "source": [
    "regn = sklearn.neighbors.KNeighborsRegressor(n_neighbors=15000, p = 2, weights='distance')\n",
    "regn.fit(X[itrain, :], y[itrain])\n",
    "\n",
    "#pred_X = regn.predict(X[itrain, :])\n",
    "#print(rmse(y[itrain], pred_X))\n",
    "\n",
    "pred_X = regn.predict(X[itest[-100:], :])\n",
    "print(rmse(y[itest[-100:]], pred_X))"
   ]
  },
  {
   "cell_type": "code",
   "execution_count": null,
   "metadata": {
    "collapsed": false
   },
   "outputs": [],
   "source": [
    "clus = sklearn.cluster.AgglomerativeClustering(n_clusters = 5)\n",
    "labels = clus.fit_predict(X_urls.todense())\n",
    "\n"
   ]
  },
  {
   "cell_type": "code",
   "execution_count": 47,
   "metadata": {
    "collapsed": false,
    "scrolled": true
   },
   "outputs": [
    {
     "data": {
      "text/plain": [
       "array([[  4.30969460e-02,   2.77308718e-02,   0.00000000e+00, ...,\n",
       "          0.00000000e+00,   0.00000000e+00,   0.00000000e+00],\n",
       "       [  5.38117949e-02,   6.57853775e-03,   0.00000000e+00, ...,\n",
       "          0.00000000e+00,   0.00000000e+00,   0.00000000e+00],\n",
       "       [  3.30163597e-02,   0.00000000e+00,   1.41488604e-04, ...,\n",
       "          6.62846773e-03,   0.00000000e+00,   4.32988414e-04],\n",
       "       ..., \n",
       "       [  5.14327534e-02,   2.11803099e-02,   0.00000000e+00, ...,\n",
       "          0.00000000e+00,   2.78066015e-05,   1.78324860e-04],\n",
       "       [  3.85598927e-02,   0.00000000e+00,   3.94825907e-05, ...,\n",
       "          6.16175431e-06,   0.00000000e+00,   0.00000000e+00],\n",
       "       [  5.08006836e-02,   8.59077224e-03,   4.08887741e-04, ...,\n",
       "          0.00000000e+00,   0.00000000e+00,   0.00000000e+00]])"
      ]
     },
     "execution_count": 47,
     "metadata": {},
     "output_type": "execute_result"
    }
   ],
   "source": [
    "sklearn.ensemble.BaggingClassifier()"
   ]
  },
  {
   "cell_type": "code",
   "execution_count": null,
   "metadata": {
    "collapsed": true
   },
   "outputs": [],
   "source": []
  },
  {
   "cell_type": "code",
   "execution_count": null,
   "metadata": {
    "collapsed": true
   },
   "outputs": [],
   "source": [
    "import lasagne\n",
    "\n",
    "input_X = T.tensor4(\"X\")\n",
    "\n",
    "#размерность входа (None означает \"может изменяться\")\n",
    "input_shape = (None,1,28,28)\n",
    "\n",
    "target_y = T.vector(\"target Y integer\",dtype='int32')"
   ]
  },
  {
   "cell_type": "code",
   "execution_count": null,
   "metadata": {
    "collapsed": true
   },
   "outputs": [],
   "source": [
    "#входной слой (вспомогательный)\n",
    "input_layer = lasagne.layers.InputLayer(shape = input_shape,input_var=input_X)\n",
    "\n",
    "drop_input = lasagne.layers.DropoutLayer(input_layer, p = 0.8)\n",
    "dense_1 = lasagne.layers.DenseLayer(input_layer, num_units = 2000, nonlinearity = leaky_rectify)\n",
    "drop_1 = lasagne.layers.DropoutLayer(dense_1, p = 0.5)\n",
    "dense_2 = lasagne.layers.DenseLayer(drop_1, num_units = 2000, nonlinearity = leaky_rectify)\n",
    "drop_2 = lasagne.layers.DropoutLayer(dense_2, p = 0.5)\n",
    "#dense_3 = lasagne.layers.DenseLayer(drop_2, num_units = 150, nonlinearity = leaky_rectify)\n",
    "#drop_3 = lasagne.layers.DropoutLayer(dense_3, p = 0.8)\n",
    "#dense_4 = lasagne.layers.DenseLayer(drop_3, num_units = 75, nonlinearity = leaky_rectify)\n",
    "#drop_4 = lasagne.layers.DropoutLayer(dense_4, p = 0.8)\n",
    "#ВЫХОДНОЙ полносвязный слой, который принимает на вход dense_1 и имеет 10 нейронов -по нейрону на цифру\n",
    "#нелинейность - softmax - чтобы вероятности всех цифр давали в сумме 1\n",
    "dense_output = lasagne.layers.DenseLayer(drop_2,num_units = 10,\n",
    "                                        nonlinearity = lasagne.nonlinearities.softmax,\n",
    "                                        name='output')"
   ]
  },
  {
   "cell_type": "code",
   "execution_count": null,
   "metadata": {
    "collapsed": true
   },
   "outputs": [],
   "source": [
    "#предсказание нейронки (theano-преобразование)\n",
    "y_predicted = lasagne.layers.get_output(dense_output)"
   ]
  },
  {
   "cell_type": "code",
   "execution_count": null,
   "metadata": {
    "collapsed": true
   },
   "outputs": [],
   "source": [
    "#все веса нейронки (shared-переменные)\n",
    "all_weights = lasagne.layers.get_all_params(dense_output)\n",
    "print all_weights"
   ]
  },
  {
   "cell_type": "code",
   "execution_count": null,
   "metadata": {
    "collapsed": true
   },
   "outputs": [],
   "source": [
    "#функция ошибки - средняя кроссэнтропия\n",
    "penalty = lasagne.updates.total_norm_constraint(all_weights, 500)\n",
    "loss = lasagne.objectives.categorical_crossentropy(y_predicted,target_y).mean() #+ np.mean(penalty)\n",
    "\n",
    "#<возможно добавить регуляризатор>\n",
    "\n",
    "accuracy = lasagne.objectives.categorical_accuracy(y_predicted,target_y).mean()\n",
    "\n",
    "#сразу посчитать словарь обновлённых значений с шагом по градиенту, как раньше\n",
    "updates_sgd = lasagne.updates.adadelta(loss, all_weights,learning_rate=1)"
   ]
  },
  {
   "cell_type": "code",
   "execution_count": null,
   "metadata": {
    "collapsed": true
   },
   "outputs": [],
   "source": [
    "#функция, которая обучает сеть на 1 шаг и возвращащет значение функции потерь и точности\n",
    "train_fun = theano.function([input_X,target_y],[loss,accuracy],updates= updates_sgd)\n",
    "\n",
    "#функция, которая считает точность\n",
    "accuracy_fun = theano.function([input_X,target_y],accuracy)"
   ]
  },
  {
   "cell_type": "code",
   "execution_count": null,
   "metadata": {
    "collapsed": true
   },
   "outputs": [],
   "source": [
    "#итерации обучения\n",
    "\n",
    "num_epochs = 10 #количество проходов по данным\n",
    "\n",
    "batch_size = 150 #размер мини-батча\n",
    "\n",
    "for epoch in range(num_epochs):\n",
    "    # In each epoch, we do a full pass over the training data:\n",
    "    train_err = 0\n",
    "    train_acc = 0\n",
    "    train_batches = 0\n",
    "    start_time = time.time()\n",
    "    for batch in iterate_minibatches(X_train, y_train,batch_size, shuffle = True):\n",
    "        inputs, targets = batch\n",
    "        train_err_batch, train_acc_batch= train_fun(inputs, targets)\n",
    "        train_err += train_err_batch\n",
    "        train_acc += train_acc_batch\n",
    "        train_batches += 1\n",
    "\n",
    "    # And a full pass over the validation data:\n",
    "    val_acc = 0\n",
    "    val_batches = 0\n",
    "    for batch in iterate_minibatches(X_val, y_val, batch_size):\n",
    "        inputs, targets = batch\n",
    "        val_acc += accuracy_fun(inputs, targets)\n",
    "        val_batches += 1\n",
    "\n",
    "    \n",
    "    # Then we print the results for this epoch:\n",
    "    print(\"Epoch {} of {} took {:.3f}s\".format(\n",
    "        epoch + 1, num_epochs, time.time() - start_time))\n",
    "\n",
    "    print(\"  training loss (in-iteration):\\t\\t{:.6f}\".format(train_err / train_batches))\n",
    "    print(\"  train accuracy:\\t\\t{:.2f} %\".format(\n",
    "        train_acc / train_batches * 100))\n",
    "    print(\"  validation accuracy:\\t\\t{:.2f} %\".format(\n",
    "        val_acc / val_batches * 100))"
   ]
  },
  {
   "cell_type": "code",
   "execution_count": null,
   "metadata": {
    "collapsed": true
   },
   "outputs": [],
   "source": [
    "test_acc = 0\n",
    "test_batches = 0\n",
    "for batch in iterate_minibatches(X_test, y_test, 500):\n",
    "    inputs, targets = batch\n",
    "    acc = accuracy_fun(inputs, targets)\n",
    "    test_acc += acc\n",
    "    test_batches += 1\n",
    "print(\"Final results:\")\n",
    "print(\"  test accuracy:\\t\\t{:.2f} %\".format(\n",
    "    test_acc / test_batches * 100))"
   ]
  },
  {
   "cell_type": "code",
   "execution_count": null,
   "metadata": {
    "collapsed": true
   },
   "outputs": [],
   "source": []
  },
  {
   "cell_type": "code",
   "execution_count": 39,
   "metadata": {
    "collapsed": false
   },
   "outputs": [],
   "source": [
    "from sklearn import pipeline, preprocessing, feature_extraction"
   ]
  },
  {
   "cell_type": "code",
   "execution_count": 56,
   "metadata": {
    "collapsed": true
   },
   "outputs": [
    {
     "ename": "AttributeError",
     "evalue": "'NoneType' object has no attribute 'hash'",
     "output_type": "error",
     "traceback": [
      "\u001b[0;31m---------------------------------------------------------------------------\u001b[0m",
      "\u001b[0;31mAttributeError\u001b[0m                            Traceback (most recent call last)",
      "\u001b[0;32m<ipython-input-56-91dcbcf37bad>\u001b[0m in \u001b[0;36m<module>\u001b[0;34m()\u001b[0m\n\u001b[1;32m     34\u001b[0m \u001b[0;31m# Returns new dataset with out-of-fold predictions\u001b[0m\u001b[0;34m\u001b[0m\u001b[0;34m\u001b[0m\u001b[0m\n\u001b[1;32m     35\u001b[0m \u001b[0mmeta_pipeline\u001b[0m \u001b[0;34m=\u001b[0m \u001b[0mModelsPipeline\u001b[0m\u001b[0;34m(\u001b[0m\u001b[0mlr\u001b[0m\u001b[0;34m,\u001b[0m \u001b[0mtfidf_lr\u001b[0m\u001b[0;34m,\u001b[0m \u001b[0mrf\u001b[0m\u001b[0;34m)\u001b[0m\u001b[0;34m\u001b[0m\u001b[0m\n\u001b[0;32m---> 36\u001b[0;31m \u001b[0mstack_ds\u001b[0m \u001b[0;34m=\u001b[0m \u001b[0mmeta_pipeline\u001b[0m\u001b[0;34m.\u001b[0m\u001b[0mblend\u001b[0m\u001b[0;34m(\u001b[0m\u001b[0mproportion\u001b[0m\u001b[0;34m=\u001b[0m\u001b[0;36m0.2\u001b[0m\u001b[0;34m,\u001b[0m\u001b[0mseed\u001b[0m\u001b[0;34m=\u001b[0m\u001b[0;36m111\u001b[0m\u001b[0;34m)\u001b[0m\u001b[0;34m\u001b[0m\u001b[0m\n\u001b[0m\u001b[1;32m     37\u001b[0m \u001b[0;34m\u001b[0m\u001b[0m\n\u001b[1;32m     38\u001b[0m \u001b[0;31m# Train LinearRegression on stacked data (second stage)\u001b[0m\u001b[0;34m\u001b[0m\u001b[0;34m\u001b[0m\u001b[0m\n",
      "\u001b[0;32m/home/dima/anaconda2/lib/python2.7/site-packages/heamy/pipeline.pyc\u001b[0m in \u001b[0;36mblend\u001b[0;34m(self, proportion, stratify, seed, indices, add_diff)\u001b[0m\n\u001b[1;32m    181\u001b[0m \u001b[0;34m\u001b[0m\u001b[0m\n\u001b[1;32m    182\u001b[0m         \u001b[0;32mfor\u001b[0m \u001b[0mmodel\u001b[0m \u001b[0;32min\u001b[0m \u001b[0mself\u001b[0m\u001b[0;34m.\u001b[0m\u001b[0mmodels\u001b[0m\u001b[0;34m:\u001b[0m\u001b[0;34m\u001b[0m\u001b[0m\n\u001b[0;32m--> 183\u001b[0;31m             \u001b[0mresult\u001b[0m \u001b[0;34m=\u001b[0m \u001b[0mmodel\u001b[0m\u001b[0;34m.\u001b[0m\u001b[0mblend\u001b[0m\u001b[0;34m(\u001b[0m\u001b[0mproportion\u001b[0m\u001b[0;34m=\u001b[0m\u001b[0mproportion\u001b[0m\u001b[0;34m,\u001b[0m \u001b[0mstratify\u001b[0m\u001b[0;34m=\u001b[0m\u001b[0mstratify\u001b[0m\u001b[0;34m,\u001b[0m \u001b[0mseed\u001b[0m\u001b[0;34m=\u001b[0m\u001b[0mseed\u001b[0m\u001b[0;34m,\u001b[0m \u001b[0mindices\u001b[0m\u001b[0;34m=\u001b[0m\u001b[0mindices\u001b[0m\u001b[0;34m)\u001b[0m\u001b[0;34m\u001b[0m\u001b[0m\n\u001b[0m\u001b[1;32m    184\u001b[0m             \u001b[0mtrain_df\u001b[0m \u001b[0;34m=\u001b[0m \u001b[0mpd\u001b[0m\u001b[0;34m.\u001b[0m\u001b[0mDataFrame\u001b[0m\u001b[0;34m(\u001b[0m\u001b[0mresult\u001b[0m\u001b[0;34m.\u001b[0m\u001b[0mX_train\u001b[0m\u001b[0;34m,\u001b[0m \u001b[0mcolumns\u001b[0m\u001b[0;34m=\u001b[0m\u001b[0mgenerate_columns\u001b[0m\u001b[0;34m(\u001b[0m\u001b[0mresult\u001b[0m\u001b[0;34m.\u001b[0m\u001b[0mX_train\u001b[0m\u001b[0;34m,\u001b[0m \u001b[0mmodel\u001b[0m\u001b[0;34m.\u001b[0m\u001b[0mname\u001b[0m\u001b[0;34m)\u001b[0m\u001b[0;34m)\u001b[0m\u001b[0;34m\u001b[0m\u001b[0m\n\u001b[1;32m    185\u001b[0m             \u001b[0mtest_df\u001b[0m \u001b[0;34m=\u001b[0m \u001b[0mpd\u001b[0m\u001b[0;34m.\u001b[0m\u001b[0mDataFrame\u001b[0m\u001b[0;34m(\u001b[0m\u001b[0mresult\u001b[0m\u001b[0;34m.\u001b[0m\u001b[0mX_test\u001b[0m\u001b[0;34m,\u001b[0m \u001b[0mcolumns\u001b[0m\u001b[0;34m=\u001b[0m\u001b[0mgenerate_columns\u001b[0m\u001b[0;34m(\u001b[0m\u001b[0mresult\u001b[0m\u001b[0;34m.\u001b[0m\u001b[0mX_test\u001b[0m\u001b[0;34m,\u001b[0m \u001b[0mmodel\u001b[0m\u001b[0;34m.\u001b[0m\u001b[0mname\u001b[0m\u001b[0;34m)\u001b[0m\u001b[0;34m)\u001b[0m\u001b[0;34m\u001b[0m\u001b[0m\n",
      "\u001b[0;32m/home/dima/anaconda2/lib/python2.7/site-packages/heamy/estimator.pyc\u001b[0m in \u001b[0;36mblend\u001b[0;34m(self, proportion, stratify, seed, indices)\u001b[0m\n\u001b[1;32m    320\u001b[0m                 \u001b[0mpdict\u001b[0m\u001b[0;34m[\u001b[0m\u001b[0;34m'test_index'\u001b[0m\u001b[0;34m]\u001b[0m \u001b[0;34m=\u001b[0m \u001b[0mnp_hash\u001b[0m\u001b[0;34m(\u001b[0m\u001b[0mindices\u001b[0m\u001b[0;34m[\u001b[0m\u001b[0;36m1\u001b[0m\u001b[0;34m]\u001b[0m\u001b[0;34m)\u001b[0m\u001b[0;34m\u001b[0m\u001b[0m\n\u001b[1;32m    321\u001b[0m \u001b[0;34m\u001b[0m\u001b[0m\n\u001b[0;32m--> 322\u001b[0;31m             \u001b[0mdhash\u001b[0m \u001b[0;34m=\u001b[0m \u001b[0mself\u001b[0m\u001b[0;34m.\u001b[0m\u001b[0m_dhash\u001b[0m\u001b[0;34m(\u001b[0m\u001b[0mpdict\u001b[0m\u001b[0;34m)\u001b[0m\u001b[0;34m\u001b[0m\u001b[0m\n\u001b[0m\u001b[1;32m    323\u001b[0m             \u001b[0mc\u001b[0m \u001b[0;34m=\u001b[0m \u001b[0mCache\u001b[0m\u001b[0;34m(\u001b[0m\u001b[0mdhash\u001b[0m\u001b[0;34m,\u001b[0m \u001b[0mprefix\u001b[0m\u001b[0;34m=\u001b[0m\u001b[0;34m'b'\u001b[0m\u001b[0;34m)\u001b[0m\u001b[0;34m\u001b[0m\u001b[0m\n\u001b[1;32m    324\u001b[0m             \u001b[0;32mif\u001b[0m \u001b[0mc\u001b[0m\u001b[0;34m.\u001b[0m\u001b[0mavailable\u001b[0m\u001b[0;34m:\u001b[0m\u001b[0;34m\u001b[0m\u001b[0m\n",
      "\u001b[0;32m/home/dima/anaconda2/lib/python2.7/site-packages/heamy/estimator.pyc\u001b[0m in \u001b[0;36m_dhash\u001b[0;34m(self, params)\u001b[0m\n\u001b[1;32m    137\u001b[0m         \u001b[0;34m\"\"\"Get hash of the dictionary object.\"\"\"\u001b[0m\u001b[0;34m\u001b[0m\u001b[0m\n\u001b[1;32m    138\u001b[0m         \u001b[0mm\u001b[0m \u001b[0;34m=\u001b[0m \u001b[0mhashlib\u001b[0m\u001b[0;34m.\u001b[0m\u001b[0mnew\u001b[0m\u001b[0;34m(\u001b[0m\u001b[0;34m'md5'\u001b[0m\u001b[0;34m)\u001b[0m\u001b[0;34m\u001b[0m\u001b[0m\n\u001b[0;32m--> 139\u001b[0;31m         \u001b[0mm\u001b[0m\u001b[0;34m.\u001b[0m\u001b[0mupdate\u001b[0m\u001b[0;34m(\u001b[0m\u001b[0mself\u001b[0m\u001b[0;34m.\u001b[0m\u001b[0mhash\u001b[0m\u001b[0;34m.\u001b[0m\u001b[0mencode\u001b[0m\u001b[0;34m(\u001b[0m\u001b[0;34m'utf-8'\u001b[0m\u001b[0;34m)\u001b[0m\u001b[0;34m)\u001b[0m\u001b[0;34m\u001b[0m\u001b[0m\n\u001b[0m\u001b[1;32m    140\u001b[0m         \u001b[0;32mfor\u001b[0m \u001b[0mkey\u001b[0m \u001b[0;32min\u001b[0m \u001b[0msorted\u001b[0m\u001b[0;34m(\u001b[0m\u001b[0mparams\u001b[0m\u001b[0;34m.\u001b[0m\u001b[0mkeys\u001b[0m\u001b[0;34m(\u001b[0m\u001b[0;34m)\u001b[0m\u001b[0;34m)\u001b[0m\u001b[0;34m:\u001b[0m\u001b[0;34m\u001b[0m\u001b[0m\n\u001b[1;32m    141\u001b[0m             \u001b[0mh_string\u001b[0m \u001b[0;34m=\u001b[0m \u001b[0;34m(\u001b[0m\u001b[0;34m'%s-%s'\u001b[0m \u001b[0;34m%\u001b[0m \u001b[0;34m(\u001b[0m\u001b[0mkey\u001b[0m\u001b[0;34m,\u001b[0m \u001b[0mparams\u001b[0m\u001b[0;34m[\u001b[0m\u001b[0mkey\u001b[0m\u001b[0;34m]\u001b[0m\u001b[0;34m)\u001b[0m\u001b[0;34m)\u001b[0m\u001b[0;34m.\u001b[0m\u001b[0mencode\u001b[0m\u001b[0;34m(\u001b[0m\u001b[0;34m'utf-8'\u001b[0m\u001b[0;34m)\u001b[0m\u001b[0;34m\u001b[0m\u001b[0m\n",
      "\u001b[0;32m/home/dima/anaconda2/lib/python2.7/site-packages/heamy/estimator.pyc\u001b[0m in \u001b[0;36mhash\u001b[0;34m(self)\u001b[0m\n\u001b[1;32m     81\u001b[0m                 \u001b[0mm\u001b[0m\u001b[0;34m.\u001b[0m\u001b[0mupdate\u001b[0m\u001b[0;34m(\u001b[0m\u001b[0mh_string\u001b[0m\u001b[0;34m)\u001b[0m\u001b[0;34m\u001b[0m\u001b[0m\n\u001b[1;32m     82\u001b[0m             \u001b[0mm\u001b[0m\u001b[0;34m.\u001b[0m\u001b[0mupdate\u001b[0m\u001b[0;34m(\u001b[0m\u001b[0mself\u001b[0m\u001b[0;34m.\u001b[0m\u001b[0mestimator_name\u001b[0m\u001b[0;34m.\u001b[0m\u001b[0mencode\u001b[0m\u001b[0;34m(\u001b[0m\u001b[0;34m'utf-8'\u001b[0m\u001b[0;34m)\u001b[0m\u001b[0;34m)\u001b[0m\u001b[0;34m\u001b[0m\u001b[0m\n\u001b[0;32m---> 83\u001b[0;31m             \u001b[0mm\u001b[0m\u001b[0;34m.\u001b[0m\u001b[0mupdate\u001b[0m\u001b[0;34m(\u001b[0m\u001b[0mself\u001b[0m\u001b[0;34m.\u001b[0m\u001b[0mdataset\u001b[0m\u001b[0;34m.\u001b[0m\u001b[0mhash\u001b[0m\u001b[0;34m.\u001b[0m\u001b[0mencode\u001b[0m\u001b[0;34m(\u001b[0m\u001b[0;34m'utf-8'\u001b[0m\u001b[0;34m)\u001b[0m\u001b[0;34m)\u001b[0m\u001b[0;34m\u001b[0m\u001b[0m\n\u001b[0m\u001b[1;32m     84\u001b[0m \u001b[0;34m\u001b[0m\u001b[0m\n\u001b[1;32m     85\u001b[0m             \u001b[0;32mif\u001b[0m \u001b[0;32mnot\u001b[0m \u001b[0mself\u001b[0m\u001b[0;34m.\u001b[0m\u001b[0m_is_class\u001b[0m\u001b[0;34m:\u001b[0m\u001b[0;34m\u001b[0m\u001b[0m\n",
      "\u001b[0;31mAttributeError\u001b[0m: 'NoneType' object has no attribute 'hash'"
     ]
    }
   ],
   "source": [
    "# %%time\n",
    "\n",
    "# обычный датасет\n",
    "dataset1 = Dataset(X_urls[itrain, :], y[itrain], X_urls[itest, :]).to_dense()\n",
    "# NMF\n",
    "dataset2 = Dataset(X_nmf[itrain, :], y[itrain], X_nmf[itest, :]).to_dense()\n",
    "# датасет тайтлов\n",
    "#dataset3 = Dataset(X_title[itrain, :], y[itrain], X_title[itest, :]).to_dense()\n",
    "\n",
    "# линейная модель на обычных данных\n",
    "lr = Regressor(dataset=dataset1, \n",
    "                     estimator=linear_model.LinearRegression,\n",
    "                     parameters={'normalize': True},\n",
    "                     name='lr')\n",
    "\n",
    "# линейная модель на TFIDF от обычных данных\n",
    "def tfidf_lr_(X_train, y_train, X_test, y_test=None, random_state=8888):\n",
    "    model = pipeline.Pipeline([('tfidf', feature_extraction.text.TfidfTransformer()), \n",
    "                                ('linear_model', linear_model.LinearRegression())])\n",
    "    model.fit(X_train, y_train)\n",
    "    return model.predict(X_test)\n",
    "\n",
    "tfidf_lr = Regressor(dataset=dataset1,\n",
    "                     estimator=tfidf_lr_,\n",
    "                     name='tfidf_lr')\n",
    "\n",
    "# ExtraTrees на NMF\n",
    "rf = Regressor(dataset=dataset2, \n",
    "                     estimator=ensemble.ExtraTreesRegressor,\n",
    "                     parameters={'n_estimators': 100, 'n_jobs': -1},\n",
    "                     name='rf')\n",
    "\n",
    "# Stack two models\n",
    "# Returns new dataset with out-of-fold predictions\n",
    "meta_pipeline = ModelsPipeline(lr, tfidf_lr, rf)\n",
    "stack_ds = meta_pipeline.blend(proportion=0.2,seed=111)\n",
    "\n",
    "# Train LinearRegression on stacked data (second stage)\n",
    "stacker = Regressor(dataset=stack_ds, estimator=LinearRegression)\n",
    "results = stacker.predict()\n",
    "\n",
    "print(rmse(y[itest], results))"
   ]
  },
  {
   "cell_type": "markdown",
   "metadata": {},
   "source": [
    "### Делаю файл с предсказанием на тестовой выборке"
   ]
  },
  {
   "cell_type": "code",
   "execution_count": 77,
   "metadata": {
    "collapsed": false
   },
   "outputs": [
    {
     "data": {
      "text/html": [
       "<div>\n",
       "<table border=\"1\" class=\"dataframe\">\n",
       "  <thead>\n",
       "    <tr style=\"text-align: right;\">\n",
       "      <th></th>\n",
       "      <th>id</th>\n",
       "      <th>url</th>\n",
       "    </tr>\n",
       "  </thead>\n",
       "  <tbody>\n",
       "    <tr>\n",
       "      <th>613383</th>\n",
       "      <td>06258377567D8500000004DF4B0DF601</td>\n",
       "      <td>vashaibolit.ru</td>\n",
       "    </tr>\n",
       "    <tr>\n",
       "      <th>613384</th>\n",
       "      <td>06258377567D8500000004DF4B0DF601</td>\n",
       "      <td>xn--80aag2bpgd.xn--p1ai</td>\n",
       "    </tr>\n",
       "    <tr>\n",
       "      <th>613385</th>\n",
       "      <td>06258377567D8500000004DF4B0DF601</td>\n",
       "      <td>xn--h1aeghn.xn--p1ai</td>\n",
       "    </tr>\n",
       "    <tr>\n",
       "      <th>613386</th>\n",
       "      <td>06258377567D8500000004DF4B0DF601</td>\n",
       "      <td>zoom.cnews.ru</td>\n",
       "    </tr>\n",
       "    <tr>\n",
       "      <th>613387</th>\n",
       "      <td>06258377567D8500000004DF4B0DF601</td>\n",
       "      <td>zvenigorod.superjob.ru</td>\n",
       "    </tr>\n",
       "  </tbody>\n",
       "</table>\n",
       "</div>"
      ],
      "text/plain": [
       "                                      id                      url\n",
       "613383  06258377567D8500000004DF4B0DF601           vashaibolit.ru\n",
       "613384  06258377567D8500000004DF4B0DF601  xn--80aag2bpgd.xn--p1ai\n",
       "613385  06258377567D8500000004DF4B0DF601     xn--h1aeghn.xn--p1ai\n",
       "613386  06258377567D8500000004DF4B0DF601            zoom.cnews.ru\n",
       "613387  06258377567D8500000004DF4B0DF601   zvenigorod.superjob.ru"
      ]
     },
     "execution_count": 77,
     "metadata": {},
     "output_type": "execute_result"
    }
   ],
   "source": [
    "urls_test_df = pd.read_csv('data/url_domain_test', header=None, delimiter='\\t')\n",
    "urls_test_df.columns = ['id', 'url', 'count']\n",
    "urls_test_df = urls_test_df[['id', 'url']]\n",
    "urls_test_df.tail()"
   ]
  },
  {
   "cell_type": "code",
   "execution_count": 78,
   "metadata": {
    "collapsed": true
   },
   "outputs": [],
   "source": [
    "urls_test_df = pd.DataFrame(urls_test_df.groupby('id')['url'].apply(lambda x: x.tolist()))\n",
    "urls_test_df['id'] = urls_test_df.index\n",
    "urls_test_df.index = range(len(urls_test_df))\n",
    "urls_test_df.columns = ['urls', 'id']"
   ]
  },
  {
   "cell_type": "code",
   "execution_count": 79,
   "metadata": {
    "collapsed": false
   },
   "outputs": [
    {
     "data": {
      "text/html": [
       "<div>\n",
       "<table border=\"1\" class=\"dataframe\">\n",
       "  <thead>\n",
       "    <tr style=\"text-align: right;\">\n",
       "      <th></th>\n",
       "      <th>urls</th>\n",
       "      <th>id</th>\n",
       "    </tr>\n",
       "  </thead>\n",
       "  <tbody>\n",
       "    <tr>\n",
       "      <th>19969</th>\n",
       "      <td>[akusherstvo.ru, cat.pet2me.com, domik3.ru, ge...</td>\n",
       "      <td>06393B8756FE32ED000004DE11330B01</td>\n",
       "    </tr>\n",
       "    <tr>\n",
       "      <th>19970</th>\n",
       "      <td>[free.drweb.ru, mail.rambler.ru, pevp.mos.ru, ...</td>\n",
       "      <td>06393B87570376CB000004D6801BDC01</td>\n",
       "    </tr>\n",
       "    <tr>\n",
       "      <th>19971</th>\n",
       "      <td>[afisha.ru, formulalubvi.com, gazeta.ru, hh.ru...</td>\n",
       "      <td>06393D555702D3B2000004DE774F1901</td>\n",
       "    </tr>\n",
       "    <tr>\n",
       "      <th>19972</th>\n",
       "      <td>[kirrail.org, lenta.ru, mail.rambler.ru, rambl...</td>\n",
       "      <td>06394267570511A900000540C88F9201</td>\n",
       "    </tr>\n",
       "    <tr>\n",
       "      <th>19973</th>\n",
       "      <td>[help.rambler.ru, mail.rambler.ru, realtymag.r...</td>\n",
       "      <td>0639457C57020EB700006DD1885A0501</td>\n",
       "    </tr>\n",
       "  </tbody>\n",
       "</table>\n",
       "</div>"
      ],
      "text/plain": [
       "                                                    urls  \\\n",
       "19969  [akusherstvo.ru, cat.pet2me.com, domik3.ru, ge...   \n",
       "19970  [free.drweb.ru, mail.rambler.ru, pevp.mos.ru, ...   \n",
       "19971  [afisha.ru, formulalubvi.com, gazeta.ru, hh.ru...   \n",
       "19972  [kirrail.org, lenta.ru, mail.rambler.ru, rambl...   \n",
       "19973  [help.rambler.ru, mail.rambler.ru, realtymag.r...   \n",
       "\n",
       "                                     id  \n",
       "19969  06393B8756FE32ED000004DE11330B01  \n",
       "19970  06393B87570376CB000004D6801BDC01  \n",
       "19971  06393D555702D3B2000004DE774F1901  \n",
       "19972  06394267570511A900000540C88F9201  \n",
       "19973  0639457C57020EB700006DD1885A0501  "
      ]
     },
     "execution_count": 79,
     "metadata": {},
     "output_type": "execute_result"
    }
   ],
   "source": [
    "urls_test_df.tail()"
   ]
  },
  {
   "cell_type": "code",
   "execution_count": 80,
   "metadata": {
    "collapsed": true
   },
   "outputs": [],
   "source": [
    "title_unify_test = pd.read_csv('data/title_unify_test', header=None, delimiter='\\t')\n",
    "title_unify_test.columns = ['id','words','count']\n",
    "title_unify_test = title_unify_test[['id','words']]"
   ]
  },
  {
   "cell_type": "code",
   "execution_count": 81,
   "metadata": {
    "collapsed": false
   },
   "outputs": [
    {
     "data": {
      "text/html": [
       "<div>\n",
       "<table border=\"1\" class=\"dataframe\">\n",
       "  <thead>\n",
       "    <tr style=\"text-align: right;\">\n",
       "      <th></th>\n",
       "      <th>words</th>\n",
       "      <th>id</th>\n",
       "    </tr>\n",
       "  </thead>\n",
       "  <tbody>\n",
       "    <tr>\n",
       "      <th>114151</th>\n",
       "      <td>chanel афиша киев магазин cl merced для зажига...</td>\n",
       "      <td>E7DB77EB4EEFF6C73DD7EB5CD37CB7E3</td>\n",
       "    </tr>\n",
       "    <tr>\n",
       "      <th>114152</th>\n",
       "      <td>cosmopolitan ведущий гламурный гузеев журнал и...</td>\n",
       "      <td>E7DFB7DB4DDF3C7E785EDF7DF17AA76D</td>\n",
       "    </tr>\n",
       "    <tr>\n",
       "      <th>114153</th>\n",
       "      <td>4z7616051a 4z7616051d 4z7616052a allroad arnot...</td>\n",
       "      <td>E9B9D7D347EB1ACE5AAEEBFCE3FBCE7B</td>\n",
       "    </tr>\n",
       "    <tr>\n",
       "      <th>114154</th>\n",
       "      <td>ru онлайн попка порно секс азербайджан военный...</td>\n",
       "      <td>EBFAC66B4EE3FB96BA5DD7DDE3787FE7</td>\n",
       "    </tr>\n",
       "    <tr>\n",
       "      <th>114155</th>\n",
       "      <td>5d merced-benz видео драйв комплектация отзыв ...</td>\n",
       "      <td>F537AD6B46D31ABFF597EFDFE1BDDE71</td>\n",
       "    </tr>\n",
       "  </tbody>\n",
       "</table>\n",
       "</div>"
      ],
      "text/plain": [
       "                                                    words  \\\n",
       "114151  chanel афиша киев магазин cl merced для зажига...   \n",
       "114152  cosmopolitan ведущий гламурный гузеев журнал и...   \n",
       "114153  4z7616051a 4z7616051d 4z7616052a allroad arnot...   \n",
       "114154  ru онлайн попка порно секс азербайджан военный...   \n",
       "114155  5d merced-benz видео драйв комплектация отзыв ...   \n",
       "\n",
       "                                      id  \n",
       "114151  E7DB77EB4EEFF6C73DD7EB5CD37CB7E3  \n",
       "114152  E7DFB7DB4DDF3C7E785EDF7DF17AA76D  \n",
       "114153  E9B9D7D347EB1ACE5AAEEBFCE3FBCE7B  \n",
       "114154  EBFAC66B4EE3FB96BA5DD7DDE3787FE7  \n",
       "114155  F537AD6B46D31ABFF597EFDFE1BDDE71  "
      ]
     },
     "execution_count": 81,
     "metadata": {},
     "output_type": "execute_result"
    }
   ],
   "source": [
    "title_unify_train.tail()"
   ]
  },
  {
   "cell_type": "code",
   "execution_count": 82,
   "metadata": {
    "collapsed": true
   },
   "outputs": [],
   "source": [
    "title_unify_test = pd.DataFrame(title_unify_test.groupby('id')['words'].apply(lambda x: ' '.join(x)))\n",
    "title_unify_test['id'] = title_unify_test.index\n",
    "title_unify_test.index = range(len(title_unify_test))\n",
    "title_unify_test.columns = ['words', 'id']"
   ]
  },
  {
   "cell_type": "code",
   "execution_count": 96,
   "metadata": {
    "collapsed": true
   },
   "outputs": [],
   "source": [
    "train_df = urls_test_df.merge(title_unify_test, on='id', how='left')"
   ]
  },
  {
   "cell_type": "code",
   "execution_count": 97,
   "metadata": {
    "collapsed": false,
    "scrolled": true
   },
   "outputs": [
    {
     "data": {
      "text/html": [
       "<div>\n",
       "<table border=\"1\" class=\"dataframe\">\n",
       "  <thead>\n",
       "    <tr style=\"text-align: right;\">\n",
       "      <th></th>\n",
       "      <th>urls</th>\n",
       "      <th>id</th>\n",
       "      <th>words</th>\n",
       "    </tr>\n",
       "  </thead>\n",
       "  <tbody>\n",
       "    <tr>\n",
       "      <th>19969</th>\n",
       "      <td>[akusherstvo.ru, cat.pet2me.com, domik3.ru, ge...</td>\n",
       "      <td>06393B8756FE32ED000004DE11330B01</td>\n",
       "      <td>10-метровый бессмертный вечный май москва огон...</td>\n",
       "    </tr>\n",
       "    <tr>\n",
       "      <th>19970</th>\n",
       "      <td>[free.drweb.ru, mail.rambler.ru, pevp.mos.ru, ...</td>\n",
       "      <td>06393B87570376CB000004D6801BDC01</td>\n",
       "      <td>footer бесплатный надёжный почта рамблер элект...</td>\n",
       "    </tr>\n",
       "    <tr>\n",
       "      <th>19971</th>\n",
       "      <td>[afisha.ru, formulalubvi.com, gazeta.ru, hh.ru...</td>\n",
       "      <td>06393D555702D3B2000004DE774F1901</td>\n",
       "      <td>co rambler карьер group retail x5 вакансия гла...</td>\n",
       "    </tr>\n",
       "    <tr>\n",
       "      <th>19972</th>\n",
       "      <td>[kirrail.org, lenta.ru, mail.rambler.ru, rambl...</td>\n",
       "      <td>06394267570511A900000540C88F9201</td>\n",
       "      <td>lenta ru lenta ru война госдума день на отвест...</td>\n",
       "    </tr>\n",
       "    <tr>\n",
       "      <th>19973</th>\n",
       "      <td>[help.rambler.ru, mail.rambler.ru, realtymag.r...</td>\n",
       "      <td>0639457C57020EB700006DD1885A0501</td>\n",
       "      <td>alenka844 rambler ru входящая рамблер-почта ак...</td>\n",
       "    </tr>\n",
       "  </tbody>\n",
       "</table>\n",
       "</div>"
      ],
      "text/plain": [
       "                                                    urls  \\\n",
       "19969  [akusherstvo.ru, cat.pet2me.com, domik3.ru, ge...   \n",
       "19970  [free.drweb.ru, mail.rambler.ru, pevp.mos.ru, ...   \n",
       "19971  [afisha.ru, formulalubvi.com, gazeta.ru, hh.ru...   \n",
       "19972  [kirrail.org, lenta.ru, mail.rambler.ru, rambl...   \n",
       "19973  [help.rambler.ru, mail.rambler.ru, realtymag.r...   \n",
       "\n",
       "                                     id  \\\n",
       "19969  06393B8756FE32ED000004DE11330B01   \n",
       "19970  06393B87570376CB000004D6801BDC01   \n",
       "19971  06393D555702D3B2000004DE774F1901   \n",
       "19972  06394267570511A900000540C88F9201   \n",
       "19973  0639457C57020EB700006DD1885A0501   \n",
       "\n",
       "                                                   words  \n",
       "19969  10-метровый бессмертный вечный май москва огон...  \n",
       "19970  footer бесплатный надёжный почта рамблер элект...  \n",
       "19971  co rambler карьер group retail x5 вакансия гла...  \n",
       "19972  lenta ru lenta ru война госдума день на отвест...  \n",
       "19973  alenka844 rambler ru входящая рамблер-почта ак...  "
      ]
     },
     "execution_count": 97,
     "metadata": {},
     "output_type": "execute_result"
    }
   ],
   "source": [
    "train_df.tail()"
   ]
  },
  {
   "cell_type": "code",
   "execution_count": 98,
   "metadata": {
    "collapsed": false
   },
   "outputs": [
    {
     "data": {
      "text/html": [
       "<div>\n",
       "<table border=\"1\" class=\"dataframe\">\n",
       "  <thead>\n",
       "    <tr style=\"text-align: right;\">\n",
       "      <th></th>\n",
       "      <th>id</th>\n",
       "      <th>urls</th>\n",
       "      <th>words</th>\n",
       "    </tr>\n",
       "  </thead>\n",
       "  <tbody>\n",
       "    <tr>\n",
       "      <th>19969</th>\n",
       "      <td>06393B8756FE32ED000004DE11330B01</td>\n",
       "      <td>[akusherstvo.ru, cat.pet2me.com, domik3.ru, ge...</td>\n",
       "      <td>10-метровый бессмертный вечный май москва огон...</td>\n",
       "    </tr>\n",
       "    <tr>\n",
       "      <th>19970</th>\n",
       "      <td>06393B87570376CB000004D6801BDC01</td>\n",
       "      <td>[free.drweb.ru, mail.rambler.ru, pevp.mos.ru, ...</td>\n",
       "      <td>footer бесплатный надёжный почта рамблер элект...</td>\n",
       "    </tr>\n",
       "    <tr>\n",
       "      <th>19971</th>\n",
       "      <td>06393D555702D3B2000004DE774F1901</td>\n",
       "      <td>[afisha.ru, formulalubvi.com, gazeta.ru, hh.ru...</td>\n",
       "      <td>co rambler карьер group retail x5 вакансия гла...</td>\n",
       "    </tr>\n",
       "    <tr>\n",
       "      <th>19972</th>\n",
       "      <td>06394267570511A900000540C88F9201</td>\n",
       "      <td>[kirrail.org, lenta.ru, mail.rambler.ru, rambl...</td>\n",
       "      <td>lenta ru lenta ru война госдума день на отвест...</td>\n",
       "    </tr>\n",
       "    <tr>\n",
       "      <th>19973</th>\n",
       "      <td>0639457C57020EB700006DD1885A0501</td>\n",
       "      <td>[help.rambler.ru, mail.rambler.ru, realtymag.r...</td>\n",
       "      <td>alenka844 rambler ru входящая рамблер-почта ак...</td>\n",
       "    </tr>\n",
       "  </tbody>\n",
       "</table>\n",
       "</div>"
      ],
      "text/plain": [
       "                                     id  \\\n",
       "19969  06393B8756FE32ED000004DE11330B01   \n",
       "19970  06393B87570376CB000004D6801BDC01   \n",
       "19971  06393D555702D3B2000004DE774F1901   \n",
       "19972  06394267570511A900000540C88F9201   \n",
       "19973  0639457C57020EB700006DD1885A0501   \n",
       "\n",
       "                                                    urls  \\\n",
       "19969  [akusherstvo.ru, cat.pet2me.com, domik3.ru, ge...   \n",
       "19970  [free.drweb.ru, mail.rambler.ru, pevp.mos.ru, ...   \n",
       "19971  [afisha.ru, formulalubvi.com, gazeta.ru, hh.ru...   \n",
       "19972  [kirrail.org, lenta.ru, mail.rambler.ru, rambl...   \n",
       "19973  [help.rambler.ru, mail.rambler.ru, realtymag.r...   \n",
       "\n",
       "                                                   words  \n",
       "19969  10-метровый бессмертный вечный май москва огон...  \n",
       "19970  footer бесплатный надёжный почта рамблер элект...  \n",
       "19971  co rambler карьер group retail x5 вакансия гла...  \n",
       "19972  lenta ru lenta ru война госдума день на отвест...  \n",
       "19973  alenka844 rambler ru входящая рамблер-почта ак...  "
      ]
     },
     "execution_count": 98,
     "metadata": {},
     "output_type": "execute_result"
    }
   ],
   "source": [
    "train_df = train_df[['id','urls','words']]\n",
    "train_df.tail()"
   ]
  },
  {
   "cell_type": "code",
   "execution_count": 101,
   "metadata": {
    "collapsed": false
   },
   "outputs": [
    {
     "data": {
      "text/plain": [
       "19955"
      ]
     },
     "execution_count": 101,
     "metadata": {},
     "output_type": "execute_result"
    }
   ],
   "source": [
    "train_df = train_df[train_df.words == train_df.words]\n",
    "len(train_df)"
   ]
  },
  {
   "cell_type": "code",
   "execution_count": 102,
   "metadata": {
    "collapsed": true
   },
   "outputs": [],
   "source": [
    "X_urls_test = train_df.urls.values\n",
    "X_urls_test = map(lambda x: ' '.join(x), X_urls_test)\n",
    "X_urls_test = hw_u.transform(X_urls_test)"
   ]
  },
  {
   "cell_type": "code",
   "execution_count": null,
   "metadata": {
    "collapsed": true
   },
   "outputs": [],
   "source": []
  },
  {
   "cell_type": "code",
   "execution_count": 103,
   "metadata": {
    "collapsed": false
   },
   "outputs": [],
   "source": [
    "X_title_test = train_df.words.values\n",
    "X_title_test = hw_t.transform(X_title_test)"
   ]
  },
  {
   "cell_type": "code",
   "execution_count": 104,
   "metadata": {
    "collapsed": true
   },
   "outputs": [],
   "source": [
    "y_test = 0.54*reg1.predict(X_urls_test) + 0.46*reg3.predict(X_title_test)"
   ]
  },
  {
   "cell_type": "code",
   "execution_count": 105,
   "metadata": {
    "collapsed": false
   },
   "outputs": [
    {
     "data": {
      "text/plain": [
       "array([ 39.17342171,  43.08630566,  37.86144312, ...,  37.58127086,\n",
       "        38.61216644,  41.74260893])"
      ]
     },
     "execution_count": 105,
     "metadata": {},
     "output_type": "execute_result"
    }
   ],
   "source": [
    "y_test"
   ]
  },
  {
   "cell_type": "code",
   "execution_count": null,
   "metadata": {
    "collapsed": true
   },
   "outputs": [],
   "source": [
    "X_test_nmf = transformer.transform(X_test)"
   ]
  },
  {
   "cell_type": "code",
   "execution_count": null,
   "metadata": {
    "collapsed": true
   },
   "outputs": [],
   "source": [
    "y_test = reg.predict(X_test_nmf)"
   ]
  },
  {
   "cell_type": "code",
   "execution_count": null,
   "metadata": {
    "collapsed": false
   },
   "outputs": [],
   "source": [
    "y_test"
   ]
  },
  {
   "cell_type": "code",
   "execution_count": null,
   "metadata": {
    "collapsed": false
   },
   "outputs": [],
   "source": [
    "k = 0\n",
    "print(y_test[k])\n",
    "print(urls_test_df.urls[k])\n",
    "plt.plot(y_test)"
   ]
  },
  {
   "cell_type": "code",
   "execution_count": 107,
   "metadata": {
    "collapsed": false
   },
   "outputs": [
    {
     "data": {
      "text/html": [
       "<div>\n",
       "<table border=\"1\" class=\"dataframe\">\n",
       "  <thead>\n",
       "    <tr style=\"text-align: right;\">\n",
       "      <th></th>\n",
       "      <th>Id</th>\n",
       "      <th>age</th>\n",
       "    </tr>\n",
       "  </thead>\n",
       "  <tbody>\n",
       "    <tr>\n",
       "      <th>19950</th>\n",
       "      <td>06393B8756FE32ED000004DE11330B01</td>\n",
       "      <td>36.037659</td>\n",
       "    </tr>\n",
       "    <tr>\n",
       "      <th>19951</th>\n",
       "      <td>06393B87570376CB000004D6801BDC01</td>\n",
       "      <td>36.595655</td>\n",
       "    </tr>\n",
       "    <tr>\n",
       "      <th>19952</th>\n",
       "      <td>06393D555702D3B2000004DE774F1901</td>\n",
       "      <td>37.581271</td>\n",
       "    </tr>\n",
       "    <tr>\n",
       "      <th>19953</th>\n",
       "      <td>06394267570511A900000540C88F9201</td>\n",
       "      <td>38.612166</td>\n",
       "    </tr>\n",
       "    <tr>\n",
       "      <th>19954</th>\n",
       "      <td>0639457C57020EB700006DD1885A0501</td>\n",
       "      <td>41.742609</td>\n",
       "    </tr>\n",
       "  </tbody>\n",
       "</table>\n",
       "</div>"
      ],
      "text/plain": [
       "                                     Id        age\n",
       "19950  06393B8756FE32ED000004DE11330B01  36.037659\n",
       "19951  06393B87570376CB000004D6801BDC01  36.595655\n",
       "19952  06393D555702D3B2000004DE774F1901  37.581271\n",
       "19953  06394267570511A900000540C88F9201  38.612166\n",
       "19954  0639457C57020EB700006DD1885A0501  41.742609"
      ]
     },
     "execution_count": 107,
     "metadata": {},
     "output_type": "execute_result"
    }
   ],
   "source": [
    "answer = pd.DataFrame(y_test, train_df.id)\n",
    "answer['Id'] = answer.index\n",
    "answer.index = range(len(answer))\n",
    "answer.columns = ['age', 'Id']\n",
    "answer = answer[['Id', 'age']]\n",
    "answer.tail()"
   ]
  },
  {
   "cell_type": "code",
   "execution_count": null,
   "metadata": {
    "collapsed": false
   },
   "outputs": [],
   "source": [
    "answer.to_csv(path_or_buf = 'submission1.csv',  index = False)"
   ]
  },
  {
   "cell_type": "code",
   "execution_count": 108,
   "metadata": {
    "collapsed": false
   },
   "outputs": [],
   "source": [
    "aaa = pd.read_csv('data/sample_submission.csv')\n",
    "Set = set(aaa.Id.values)\n",
    "\n",
    "Set2 = set(answer.Id.values)\n",
    "\n",
    "dop = pd.DataFrame([[i,36] for i in (Set - Set2)], columns = ['Id','age'])\n",
    "\n",
    "answer.append(dop).to_csv(path_or_buf = 'submission1.csv',  index = False)"
   ]
  },
  {
   "cell_type": "code",
   "execution_count": null,
   "metadata": {
    "collapsed": true
   },
   "outputs": [],
   "source": [
    "(* Helper, to avoid code repetition *)\n",
    "SetAttributes[withMacros, HoldAllComplete];\n",
    "withMacros[rules : {(_Rule | _RuleDelayed) ..}, code_] :=\n",
    "  Unevaluated[code] /. rules;\n",
    "\n",
    "SetAttributes[{StoreInNotebook, GetFromNotebook, RestoreFromNotebook, \n",
    "   ClearNotebookStorage}, HoldFirst];\n",
    "SetAttributes[{StoreInNotebook, RestoreFromNotebook, \n",
    "   ClearNotebookStorage}, Listable];\n",
    "\n",
    "withMacros[{cv[s_] :> \n",
    "   CurrentValue[\n",
    "    EvaluationNotebook[], {TaggingRules, \"Storage\", \n",
    "     ToString@Unevaluated@s}]},\n",
    "\n",
    " StoreInNotebook[s_Symbol] := cv[s] = Compress[s];\n",
    "\n",
    " RestoreFromNotebook[s_Symbol] := (s = Uncompress@cv[s];);\n",
    "\n",
    " GetFromNotebook[s_Symbol] := Uncompress@cv[s];\n",
    "\n",
    " ClearNotebookStorage[] := \n",
    "  CurrentValue[EvaluationNotebook[], {TaggingRules, \"Storage\"}] = {};\n",
    "\n",
    " ClearNotebookStorage[s_Symbol] := cv[s] = {};\n",
    " ]"
   ]
  },
  {
   "cell_type": "code",
   "execution_count": null,
   "metadata": {
    "collapsed": true
   },
   "outputs": [],
   "source": []
  }
 ],
 "metadata": {
  "anaconda-cloud": {},
  "kernelspec": {
   "display_name": "Python [conda root]",
   "language": "python",
   "name": "conda-root-py"
  },
  "language_info": {
   "codemirror_mode": {
    "name": "ipython",
    "version": 2
   },
   "file_extension": ".py",
   "mimetype": "text/x-python",
   "name": "python",
   "nbconvert_exporter": "python",
   "pygments_lexer": "ipython2",
   "version": "2.7.12"
  }
 },
 "nbformat": 4,
 "nbformat_minor": 0
}
